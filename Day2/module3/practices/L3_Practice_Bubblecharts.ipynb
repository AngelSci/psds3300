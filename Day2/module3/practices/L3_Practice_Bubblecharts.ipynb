{
 "cells": [
  {
   "cell_type": "markdown",
   "metadata": {},
   "source": [
    "# Practice Bubble Charts\n",
    "\n",
    "\n",
    "We have seen how to create bubble charts in Shiny in the lab. Here, you will modify that code to change a few user interface options. We will use the same gapminder data set."
   ]
  },
  {
   "cell_type": "code",
   "execution_count": null,
   "metadata": {},
   "outputs": [],
   "source": [
    "library(ggplot2)\n",
    "library(dplyr)\n",
    "gapminder <- readRDS(file = \"/dsa/data/all_datasets/gapminder_data.rds\")\n",
    "\n",
    "gm <- gapminder \n",
    "\n",
    "# convert population from integer to numeric -- needed for accurate computation of sum\n",
    "gm <- transform(gm, pop = as.numeric(pop))\n",
    "head(gm)"
   ]
  },
  {
   "cell_type": "code",
   "execution_count": null,
   "metadata": {},
   "outputs": [],
   "source": [
    "# group by continent and year and compute total pops and weighted life expectancy, gdp per cap. \n",
    "\n",
    "cgm <- gm %>% group_by(continent,year) %>% summarise(avglifeExp=mean(lifeExp),totpop=sum(pop),avggdpPercap=sum(pop*gdpPercap)/totpop, numCountries=n())\n",
    "\n",
    "head(cgm)\n",
    "\n",
    "levels(factor(cgm$year))"
   ]
  },
  {
   "cell_type": "markdown",
   "metadata": {},
   "source": [
    "\n",
    "The following code is from the lab notebook, we have used radio buttons to input year from the user. Using a slider input is more adequate for that job. **You will change the radio button to ```sliderInput``` in the UI code.** \n",
    "\n",
    "```R\n",
    "\n",
    "sliderInput(\"slideyear\", \"Year:\", ...)\n",
    "```\n",
    "Let's see the options for the ```sliderInput```:\n",
    "```R\n",
    " sliderInput(inputId, label, min, max, value, step = NULL, ..., sep=\",\", ...)\n",
    "```\n",
    "These are the inputs we should use at the minimum. Years start at 1952 and go up to 2007, step size should be 5, and let's choose the default value as 1952. Sep is separator for thousands, let's not have a separator. So it should be like this: \n",
    "```R\n",
    " sliderInput(\"slideyear\", \"Year:\", 1952, 2007, 1952, 5, sep=\"\")\n",
    "```\n",
    "\n",
    "**Now, replace the radio buttons with this and change the server function accordingly. **\n"
   ]
  },
  {
   "cell_type": "raw",
   "metadata": {
    "collapsed": true
   },
   "source": [
    "# This code WAS THE module3-bubble3, MODIFY it and save as module3-bubble4 under PRACTICES. \n",
    "\n",
    "library(shiny)\n",
    "library(ggplot2)\n",
    "library(dplyr)\n",
    "gapminder <- readRDS(file = \"/dsa/data/all_datasets/gapminder_data.rds\")\n",
    "\n",
    "gm <- gapminder\n",
    "gm <- transform(gm, pop = as.numeric(pop))\n",
    "cgm <- gm %>% group_by(continent,year) %>% summarise(totpop=sum(pop),avglifeExp=sum(pop*lifeExp)/totpop,avggdpPercap=sum(pop*gdpPercap)/totpop, numCountries=n())\n",
    "yearlist <- levels(factor(cgm$year))  # put this outside the UI \n",
    "\n",
    "gap_ui <- fluidPage(\n",
    "\n",
    "   titlePanel(\"GapMinder\"),\n",
    "   \n",
    "   sidebarLayout(\n",
    "     sidebarPanel(helpText(\"Gap Minder data.\"),\n",
    "                  checkboxGroupInput(\"check\", \"Choose continents:\",\n",
    "                   choices = list(\"Africa\", \"Americas\", \"Asia\", \"Europe\", \"Oceania\")),\n",
    "                  radioButtons(\"chooseyear\", \"Choose Year:\", choices = yearlist)\n",
    "                 ),       \n",
    "     mainPanel(plotOutput(\"gapplot\"))\n",
    "   )\n",
    ")\n",
    "\n",
    "\n",
    "gap_server <- function(input, output){\n",
    "\n",
    "output$gapplot <- renderPlot ({\n",
    "    \n",
    "  p2 <- ggplot(data=subset(cgm, year==input$chooseyear), aes(x=avggdpPercap, y=avglifeExp, size=totpop, color=continent)) \n",
    "  p2 <- p2 + geom_point() + xlab(\"GDP per capita\") + ylab(\"Life Expectancy\") + ggtitle(paste0(\"Year \",input$chooseyear))\n",
    "  p2 <- p2 + scale_size(range = c(0, 10)) + ylim(0,90) + xlim(0, 40000) + theme(legend.position=\"none\") \n",
    "  p2 <- p2 + geom_text(aes(label=continent), size=3, check_overlap=TRUE, vjust=0, nudge_y=1, nudge_x=-2000)\n",
    "  \n",
    "  # if something is selected, get those continents   \n",
    "  if (length(input$check)>0) {  \n",
    "    cgm_filtered <- filter(cgm, continent %in% input$check)  \n",
    "      \n",
    "    p2 <- p2 + geom_line(data=subset(cgm_filtered), size=0.5) \n",
    "    p2 <- p2 + geom_point(data=subset(cgm_filtered), size=1)        \n",
    "  }   \n",
    "    \n",
    "  print(p2)        \n",
    " })\n",
    "\n",
    "}\n",
    "\n",
    "shinyApp(ui=gap_ui, server=gap_server)"
   ]
  },
  {
   "cell_type": "code",
   "execution_count": null,
   "metadata": {
    "collapsed": true
   },
   "outputs": [],
   "source": [
    "#DEPLOY TO SHINY SERVER\n",
    "dir <- getwd() #This gets the current Working Directory\n",
    "course <- \"DATA-SCI-8654\" #This is to specify the course path for the shiny server\n",
    "folder <- \"module3-bubble4\" #This specifies the folder name to copy\n",
    "\n",
    "system(sprintf(\"/usr/local/bin/shiny_deploy %s %s %s\", course, dir,folder), \n",
    "       intern = TRUE,\n",
    "       ignore.stdout = FALSE, \n",
    "       ignore.stderr = FALSE,\n",
    "       wait = TRUE, \n",
    "       input = NULL)"
   ]
  },
  {
   "cell_type": "markdown",
   "metadata": {},
   "source": [
    "You should see an interface similar to this: \n",
    "\n",
    "<img src=\"../images/bubble4.png\">\n",
    "\n"
   ]
  },
  {
   "cell_type": "markdown",
   "metadata": {
    "collapsed": true
   },
   "source": [
    "**To add animation to the plot**, add the following option to the ```sliderInput```:\n",
    "\n",
    "```R\n",
    " animate=animationOptions(interval=500, loop=TRUE)\n",
    "```\n",
    "\n",
    "This should create a little play button under the slider and when you press it, you'll see the plot animating through years. \n",
    "\n",
    "Pay attention to xlim and ylim; we make sure to have constant axes so that they don't change as the animation goes through years. Using constant axis limits help us to compare the plots easily between years. "
   ]
  }
 ],
 "metadata": {
  "kernelspec": {
   "display_name": "R",
   "language": "R",
   "name": "ir"
  },
  "language_info": {
   "codemirror_mode": "r",
   "file_extension": ".r",
   "mimetype": "text/x-r-source",
   "name": "R",
   "pygments_lexer": "r",
   "version": "3.4.0"
  }
 },
 "nbformat": 4,
 "nbformat_minor": 2
}
