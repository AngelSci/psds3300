{
 "cells": [
  {
   "cell_type": "markdown",
   "metadata": {},
   "source": [
    "# Module 3 Exercise\n",
    "\n",
    "In this exercise, you will create an **animated bubble chart** using the ```airquality``` data set. "
   ]
  },
  {
   "cell_type": "code",
   "execution_count": null,
   "metadata": {
    "collapsed": true
   },
   "outputs": [],
   "source": [
    "library(ggplot2)\n",
    "library(dplyr)\n",
    "library(datasets)\n",
    "data(airquality)\n",
    "\n",
    "aq <- airquality\n",
    "\n",
    "head(aq)\n",
    "str(aq)\n",
    "summary(aq)\n"
   ]
  },
  {
   "cell_type": "markdown",
   "metadata": {},
   "source": [
    "The following piece of code displays the bubble chart with the following visual channels: \n",
    "\n",
    " - x position = day\n",
    " - y position = ozone\n",
    " - size = wind\n",
    " - color = temperature \n",
    " \n",
    "Note that it displays **all** months. You will add a **slider** to choose months, and also an **animation** to go through the months. Also, add a **radio button** to choose between displaying ```Ozone``` or ```Solar.R``` at the Y-axis. \n"
   ]
  },
  {
   "cell_type": "code",
   "execution_count": null,
   "metadata": {
    "collapsed": true
   },
   "outputs": [],
   "source": [
    "paq <- ggplot(aq, aes(x=Day, y=Ozone, size=Wind, color=Temp)) + geom_point(alpha=0.7)\n",
    "paq <- paq + scale_x_continuous(breaks = seq(1, 31, 5)) + scale_size(range=c(0,10))\n",
    "paq <- paq + scale_color_gradient(low = 'yellow', high = 'red')\n",
    "paq <- paq + ylab(\"Ozone\") + xlab(\"Day of the month\") + ggtitle(\"Air quality in New York\")\n",
    "paq"
   ]
  },
  {
   "cell_type": "markdown",
   "metadata": {},
   "source": [
    "**Exercise 1:**\n",
    "\n",
    "Create an animated bubble chart for the data set above, using the piece of code above (you need to modify it) to create a ggplot2 object. Add the slider and the radio buttons as explained above. Make sure to save it as app.R under **```module3-exercise1```**."
   ]
  },
  {
   "cell_type": "raw",
   "metadata": {
    "collapsed": true
   },
   "source": [
    "# SAVE THIS CODE into app.R under module3-exercise1 and DEPLOY \n",
    "\n",
    "library(ggplot2)\n",
    "library(dplyr)\n",
    "library(datasets)\n",
    "data(airquality)\n",
    "\n",
    "aq <- airquality\n",
    "\n",
    "aq_ui <- fluidPage(\n",
    "\n",
    "## YOUR UI CODE HERE \n",
    "\n",
    ")\n",
    "\n",
    "\n",
    "aq_server <- function(input, output){\n",
    "\n",
    "## YOUR SERVER CODE HERE \n",
    "    \n",
    "}\n",
    "\n",
    "shinyApp(ui=aq_ui, server=aq_server)"
   ]
  },
  {
   "cell_type": "code",
   "execution_count": null,
   "metadata": {
    "collapsed": true
   },
   "outputs": [],
   "source": [
    "#DEPLOY TO SHINY SERVER\n",
    "dir <- getwd() #This gets the current Working Directory\n",
    "course <- \"DATA-SCI-8654\" #This is to specify the course path for the shiny server\n",
    "folder <- \"module3-exercise1\" #This specifies the folder name to copy\n",
    "\n",
    "system(sprintf(\"/usr/local/bin/shiny_deploy %s %s %s\", course, dir,folder), \n",
    "       intern = TRUE,\n",
    "       ignore.stdout = FALSE, \n",
    "       ignore.stderr = FALSE,\n",
    "       wait = TRUE, \n",
    "       input = NULL)"
   ]
  },
  {
   "cell_type": "markdown",
   "metadata": {},
   "source": [
    "## Verify your application is running and enter the ShinyApp URL in the cell below"
   ]
  },
  {
   "cell_type": "raw",
   "metadata": {},
   "source": [
    "Exercise URL: "
   ]
  },
  {
   "cell_type": "markdown",
   "metadata": {},
   "source": [
    "**Exercise 2:**\n",
    "\n",
    "Create a Shiny app similar to the one in ```L3_Practice_Wordclouds```, **to display the Game of Thrones word clouds for **```gotlines```** and **```gotnames```** side by side**. Use **two sets of sliders and checkboxes** to control the maximum number of words, the minimum frequencies, and word choices for both word clouds individually. \n"
   ]
  },
  {
   "cell_type": "markdown",
   "metadata": {},
   "source": [
    "## Verify your application is running and enter the ShinyApp URL in the cell below"
   ]
  },
  {
   "cell_type": "raw",
   "metadata": {},
   "source": [
    "Exercise URL: "
   ]
  }
 ],
 "metadata": {
  "kernelspec": {
   "display_name": "R",
   "language": "R",
   "name": "ir"
  },
  "language_info": {
   "codemirror_mode": "r",
   "file_extension": ".r",
   "mimetype": "text/x-r-source",
   "name": "R",
   "pygments_lexer": "r",
   "version": "3.4.0"
  }
 },
 "nbformat": 4,
 "nbformat_minor": 2
}
