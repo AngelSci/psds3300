{
 "cells": [
  {
   "cell_type": "markdown",
   "metadata": {},
   "source": [
    "# Lab 3 - Bubble Charts\n",
    "\n",
    "### Data Visualization and Perception\n",
    "\n",
    "Efficiency of a visualization should be judged by the degree to which we can easily, accurately, and meaningfully perceive the story. \n",
    "To do this, we utilize the perceptual strengths of design elements. \n",
    "As we have seen in data visualization, **human visual perception principles** guide us to choose efficient designs for the data visualization. \n",
    "\n",
    "Data visualization should strike a **balance between perception and cognition** to take fuller advantage of the brain's abilities. \n",
    "Seeing (i.e visual perception) which is handled by the visual cortex located in the rear of the brain, is extremely fast and efficient. \n",
    "Thinking (i.e. cognition), which is handled primarily by the cerebral cortex in the front of the brain, \n",
    "is much slower and less efficient. \n",
    "Traditional data presentation methods require conscious thinking for almost all of the work. \n",
    "**Data visualization shifts the balance toward greater use of visual perception, taking advantage of our powerful visual perception whenever possible.**"
   ]
  },
  {
   "cell_type": "markdown",
   "metadata": {},
   "source": [
    "\n",
    "\n",
    "<img src=\"../images/brain-balance-perception-cognition.jpg\">\n",
    "\n",
    "In this lab notebook, we will create and study **interactive bubble charts** that require an effective design of visual encodings to afford effective visual perception of data. \n",
    "\n",
    "### Bubble charts in ggplot2\n",
    "\n",
    "We have seen how to create bubble charts with ggplot2 in the data visualization course, \n",
    "we will use the same concept to create Shiny apps that display interactive bubble charts. \n",
    "We will use the **gapminder** data set."
   ]
  },
  {
   "cell_type": "code",
   "execution_count": null,
   "metadata": {},
   "outputs": [],
   "source": [
    "library(ggplot2)\n",
    "library(dplyr)\n",
    "gapminder <- readRDS(file = \"/dsa/data/all_datasets/gapminder_data.rds\")\n",
    "\n",
    "gm <- gapminder \n",
    "\n",
    "# convert population from integer to numeric -- needed for accurate computation of sum\n",
    "gm <- transform(gm, pop = as.numeric(pop))\n",
    "head(gm)"
   ]
  },
  {
   "cell_type": "code",
   "execution_count": null,
   "metadata": {
    "collapsed": true
   },
   "outputs": [],
   "source": [
    "# group by continent and year and compute total pops and WEIGHTED life expectancy, gdp per cap. \n",
    "\n",
    "cgm <- gm %>% group_by(continent,year) %>% summarise(totpop=sum(pop),avglifeExp=sum(pop*lifeExp)/totpop,avggdpPercap=sum(pop*gdpPercap)/totpop, numCountries=n())\n",
    "\n",
    "head(cgm)\n",
    "# list of years we'll use for the UI element\n",
    "levels(factor(cgm$year))"
   ]
  },
  {
   "cell_type": "markdown",
   "metadata": {},
   "source": [
    "**First we will create a simple plot with no user interaction. **"
   ]
  },
  {
   "cell_type": "raw",
   "metadata": {
    "collapsed": true
   },
   "source": [
    "# SAVE THIS CODE into app.R under module3-bubble1 and DEPLOY \n",
    "\n",
    "library(shiny)\n",
    "library(ggplot2)\n",
    "library(dplyr)\n",
    "gapminder <- readRDS(file = \"/dsa/data/all_datasets/gapminder_data.rds\")\n",
    "\n",
    "gm <- gapminder\n",
    "gm <- transform(gm, pop = as.numeric(pop))\n",
    "cgm <- gm %>% group_by(continent,year) %>% summarise(totpop=sum(pop),avglifeExp=sum(pop*lifeExp)/totpop,avggdpPercap=sum(pop*gdpPercap)/totpop, numCountries=n())\n",
    "\n",
    "gap_ui <- fluidPage(\n",
    "\n",
    "   titlePanel(\"GapMinder\"),\n",
    "   \n",
    "   sidebarLayout(\n",
    "     sidebarPanel(helpText(\"Gap Minder data.\")),       \n",
    "     mainPanel(plotOutput(\"gapplot\"))\n",
    "   )\n",
    ")\n",
    "\n",
    "\n",
    "gap_server <- function(input, output){\n",
    "\n",
    "output$gapplot <- renderPlot ({\n",
    "    # static plot for a given year. \n",
    "    p <- ggplot(data=subset(gm, year==1952), aes_string(x=\"gdpPercap\", y=\"lifeExp\")) + geom_point()\n",
    "    p <- p + xlab(\"GDP per capita\") + ylab(\"Life Expectancy\")\n",
    "    \n",
    "    print(p)        \n",
    " })\n",
    "\n",
    "}\n",
    "\n",
    "shinyApp(ui=gap_ui, server=gap_server)"
   ]
  },
  {
   "cell_type": "code",
   "execution_count": null,
   "metadata": {
    "collapsed": true
   },
   "outputs": [],
   "source": [
    "#DEPLOY TO SHINY SERVER\n",
    "dir <- getwd() #This gets the current Working Directory\n",
    "course <- \"DATA-SCI-8654\" #This is to specify the course path for the shiny server\n",
    "folder <- \"module3-bubble1\" #This specifies the folder name to copy\n",
    "\n",
    "system(sprintf(\"/usr/local/bin/shiny_deploy %s %s %s\", course, dir,folder), \n",
    "       intern = TRUE,\n",
    "       ignore.stdout = FALSE, \n",
    "       ignore.stderr = FALSE,\n",
    "       wait = TRUE, \n",
    "       input = NULL)"
   ]
  },
  {
   "cell_type": "markdown",
   "metadata": {},
   "source": [
    "This creates a simple **scatter plot** for gdpPercap versus lifeExp. \n",
    "This is a plot only for a given year. \n",
    "**Next, we use two visual channels, size and color, to encode  population and continent. **"
   ]
  },
  {
   "cell_type": "markdown",
   "metadata": {
    "collapsed": true
   },
   "source": [
    "```R\n",
    "# REPLACE the ggplot line with this:\n",
    "p <- ggplot(data=subset(gm,year==1952),\n",
    "  aes_string(x=\"gdpPercap\",y=\"lifeExp\",size=\"pop\",color=\"continent\"))+geom_point()\n",
    "```"
   ]
  },
  {
   "cell_type": "markdown",
   "metadata": {},
   "source": [
    "Let's explore different visuals by creating a scatter plot using **continent data** to show _GDP per cap_ vs. _life expectancy_.\n",
    "We will explore the options in the Jupyter notebook first. \n",
    "\n",
    "**Visual channels** we will use: \n",
    "\n",
    " - *position* = life exp and GDP per cap\n",
    " - *size* = population\n",
    " - *color* = continent\n",
    "\n",
    "This plot contains all years; \n",
    "**trends** are visible by **perceptual grouping**, \n",
    "although this may not work for all kinds of data if trends are not \"obvious\". \n",
    "\n",
    "**Remember the Gestalt principles from data vis course: they are at work here:** similarity (color), proximity and continuity (position)\n",
    "\n",
    "Run the following cells in the notebook:"
   ]
  },
  {
   "cell_type": "code",
   "execution_count": null,
   "metadata": {
    "collapsed": true
   },
   "outputs": [],
   "source": [
    "p <- ggplot(data=cgm, aes(x=avggdpPercap, y=avglifeExp, size=totpop, color=continent)) + geom_point()\n",
    "p"
   ]
  },
  {
   "cell_type": "code",
   "execution_count": null,
   "metadata": {
    "collapsed": true
   },
   "outputs": [],
   "source": [
    "# make the plot nicer for less distraction\n",
    "\n",
    "p <- p + scale_size(range = c(0, 10)) + guides(size=FALSE)\n",
    "p"
   ]
  },
  {
   "cell_type": "code",
   "execution_count": null,
   "metadata": {
    "collapsed": true
   },
   "outputs": [],
   "source": [
    "# CONNECTION is the strongest clue for perceptual grouping, let's try that. \n",
    "pline <- p + geom_line(size=0.5)\n",
    "pline"
   ]
  },
  {
   "cell_type": "code",
   "execution_count": null,
   "metadata": {
    "collapsed": true
   },
   "outputs": [],
   "source": [
    "# We can choose only one continent to connect the bubbles \n",
    "\n",
    "p + geom_line(data=subset(cgm, continent==\"Africa\"), size=0.5)"
   ]
  },
  {
   "cell_type": "code",
   "execution_count": null,
   "metadata": {
    "collapsed": true
   },
   "outputs": [],
   "source": [
    "# Let's create a bubble chart for a given YEAR only \n",
    "\n",
    "p2 <- ggplot(data=subset(cgm, year==1977), aes(x=avggdpPercap, y=avglifeExp, size=totpop, color=continent)) + geom_point()\n",
    "p2"
   ]
  },
  {
   "cell_type": "code",
   "execution_count": null,
   "metadata": {
    "collapsed": true
   },
   "outputs": [],
   "source": [
    "# Less distractions \n",
    "\n",
    "p2 <- p2 + scale_size(range = c(0, 10)) + ylim(0,90) + xlim(0, 40000) + theme(legend.position=\"none\") \n",
    "p2"
   ]
  },
  {
   "cell_type": "code",
   "execution_count": null,
   "metadata": {
    "collapsed": true
   },
   "outputs": [],
   "source": [
    "# We show the whole time data for one continent only \n",
    "\n",
    "p2 <- p2 + geom_line(data=subset(cgm, continent==\"Africa\"), size=0.5) + geom_point(data=subset(cgm, continent==\"Africa\"), size=1)\n",
    "p2"
   ]
  },
  {
   "cell_type": "code",
   "execution_count": null,
   "metadata": {
    "collapsed": true,
    "scrolled": false
   },
   "outputs": [],
   "source": [
    "# Let's add annotation for easy comparison, keep the eyes on the plot, no legends. \n",
    "\n",
    "p2 <- p2 + geom_text(aes(label=continent), size=3, check_overlap = TRUE, vjust = 0, nudge_y = 1, nudge_x = -2000)\n",
    "p2"
   ]
  },
  {
   "cell_type": "markdown",
   "metadata": {},
   "source": [
    "Now we will turn this into an interactive plot in Shiny.\n",
    "First we will let user choose the continent by checkboxes to turn _on_ or _off_ the time data for the continent. \n",
    "For this, we need **Checkbox Group Input Control**. \n",
    "The following code creates five checkboxes:"
   ]
  },
  {
   "cell_type": "markdown",
   "metadata": {
    "collapsed": true
   },
   "source": [
    "```R\n",
    "checkboxGroupInput(\"check\", \"Choose continents:\",\n",
    "  choices = list(\"Africa\", \"Americas\", \"Asia\", \"Europe\", \"Oceania\")\n",
    ")\n",
    "```"
   ]
  },
  {
   "cell_type": "markdown",
   "metadata": {},
   "source": [
    "Let's put this in the UI, and use the ```check``` input to choose which continents to highlight. "
   ]
  },
  {
   "cell_type": "raw",
   "metadata": {
    "collapsed": true
   },
   "source": [
    "# SAVE THIS CODE into app.R under module3-bubble2 and DEPLOY \n",
    "\n",
    "library(shiny)\n",
    "library(ggplot2)\n",
    "library(dplyr)\n",
    "gapminder <- readRDS(file = \"/dsa/data/all_datasets/gapminder_data.rds\")\n",
    "\n",
    "gm <- gapminder\n",
    "gm <- transform(gm, pop = as.numeric(pop))\n",
    "cgm <- gm %>% group_by(continent,year) %>% summarise(totpop=sum(pop),avglifeExp=sum(pop*lifeExp)/totpop,avggdpPercap=sum(pop*gdpPercap)/totpop, numCountries=n())\n",
    "\n",
    "gap_ui <- fluidPage(\n",
    "\n",
    "   titlePanel(\"GapMinder\"),\n",
    "   \n",
    "   sidebarLayout(\n",
    "     sidebarPanel(helpText(\"Gap Minder data.\"),\n",
    "                  checkboxGroupInput(\"check\", \"Choose continents:\",\n",
    "                   choices = list(\"Africa\", \"Americas\", \"Asia\", \"Europe\", \"Oceania\"))                 \n",
    "                 ),       \n",
    "     mainPanel(plotOutput(\"gapplot\"))\n",
    "   )\n",
    ")\n",
    "\n",
    "\n",
    "gap_server <- function(input, output){\n",
    "\n",
    "output$gapplot <- renderPlot ({\n",
    "    \n",
    "    # start creating the plot object here\n",
    "  p2 <- ggplot(data=subset(cgm, year==1977), aes(x=avggdpPercap, y=avglifeExp, size=totpop, color=continent)) \n",
    "  p2 <- p2 + geom_point() + xlab(\"GDP per capita\") + ylab(\"Life Expectancy\") + ggtitle(\"Year 1977\")\n",
    "  p2 <- p2 + scale_size(range = c(0, 10)) + ylim(0,90) + xlim(0, 40000) + theme(legend.position=\"none\") \n",
    "  p2 <- p2 + geom_text(aes(label=continent), size=3, check_overlap=TRUE, vjust=0, nudge_y=1, nudge_x=-2000)\n",
    "  \n",
    "  # if something is selected, get those continents and add the following to the plot object  \n",
    "  if (length(input$check)>0) {  \n",
    "    cgm_filtered <- filter(cgm, continent %in% input$check)  \n",
    "      \n",
    "    p2 <- p2 + geom_line(data=subset(cgm_filtered), size=0.5) \n",
    "    p2 <- p2 + geom_point(data=subset(cgm_filtered), size=1)        \n",
    "  }   \n",
    "    \n",
    "  print(p2)        \n",
    " })\n",
    "\n",
    "}\n",
    "\n",
    "shinyApp(ui=gap_ui, server=gap_server)"
   ]
  },
  {
   "cell_type": "code",
   "execution_count": null,
   "metadata": {
    "collapsed": true
   },
   "outputs": [],
   "source": [
    "#DEPLOY TO SHINY SERVER\n",
    "dir <- getwd() #This gets the current Working Directory\n",
    "course <- \"DATA-SCI-8654\" #This is to specify the course path for the shiny server\n",
    "folder <- \"module3-bubble2\" #This specifies the folder name to copy\n",
    "\n",
    "system(sprintf(\"/usr/local/bin/shiny_deploy %s %s %s\", course, dir,folder), \n",
    "       intern = TRUE,\n",
    "       ignore.stdout = FALSE, \n",
    "       ignore.stderr = FALSE,\n",
    "       wait = TRUE, \n",
    "       input = NULL)"
   ]
  },
  {
   "cell_type": "markdown",
   "metadata": {},
   "source": [
    "You should see an interface similar to this: \n",
    "\n",
    "<img src=\"../images/bubble2.png\">\n"
   ]
  },
  {
   "cell_type": "markdown",
   "metadata": {},
   "source": [
    "Next, we will add another interface element for the **year**. \n",
    "We will allow to choose one year only, so we can't use ```checkboxGroupInput```, instead we can use ```selectInput``` or ```radioButtons``` like this:\n",
    "\n",
    "```R\n",
    "yearlist <- levels(factor(cgm$year))  # put this outside the UI, will run only once.\n",
    "# the following will be in the UI:\n",
    "radioButtons(\"chooseyear\", \"Choose Year:\", choices = yearlist)\n",
    "```\n",
    "Let's see the whole code: "
   ]
  },
  {
   "cell_type": "raw",
   "metadata": {
    "collapsed": true
   },
   "source": [
    "# SAVE THIS CODE into app.R under module3-bubble3 and DEPLOY \n",
    "\n",
    "library(shiny)\n",
    "library(ggplot2)\n",
    "library(dplyr)\n",
    "gapminder <- readRDS(file = \"/dsa/data/all_datasets/gapminder_data.rds\")\n",
    "\n",
    "gm <- gapminder\n",
    "gm <- transform(gm, pop = as.numeric(pop))\n",
    "cgm <- gm %>% group_by(continent,year) %>% summarise(totpop=sum(pop),avglifeExp=sum(pop*lifeExp)/totpop,avggdpPercap=sum(pop*gdpPercap)/totpop, numCountries=n())\n",
    "yearlist <- levels(factor(cgm$year))  # put this outside the UI \n",
    "\n",
    "gap_ui <- fluidPage(\n",
    "\n",
    "   titlePanel(\"GapMinder\"),\n",
    "   \n",
    "   sidebarLayout(\n",
    "     sidebarPanel(helpText(\"Gap Minder data.\"),\n",
    "                  checkboxGroupInput(\"check\", \"Choose continents:\",\n",
    "                   choices = list(\"Africa\", \"Americas\", \"Asia\", \"Europe\", \"Oceania\")),\n",
    "                  radioButtons(\"chooseyear\", \"Choose Year:\", choices = yearlist)\n",
    "                 ),       \n",
    "     mainPanel(plotOutput(\"gapplot\"))\n",
    "   )\n",
    ")\n",
    "\n",
    "\n",
    "gap_server <- function(input, output){\n",
    "\n",
    "output$gapplot <- renderPlot ({\n",
    "    \n",
    "    # now we use the \"chooseyear\" input to select the year by subsetting the data \n",
    "  p2 <- ggplot(data=subset(cgm, year==input$chooseyear), aes(x=avggdpPercap, y=avglifeExp, size=totpop, color=continent)) \n",
    "  p2 <- p2 + geom_point() + xlab(\"GDP per capita\") + ylab(\"Life Expectancy\") + ggtitle(paste0(\"Year \",input$chooseyear))\n",
    "  p2 <- p2 + scale_size(range = c(0, 10)) + ylim(0,90) + xlim(0, 40000) + theme(legend.position=\"none\") \n",
    "  p2 <- p2 + geom_text(aes(label=continent), size=3, check_overlap=TRUE, vjust=0, nudge_y=1, nudge_x=-2000)\n",
    "  \n",
    "  # if something is selected, get those continents   \n",
    "  if (length(input$check)>0) {  \n",
    "    cgm_filtered <- filter(cgm, continent %in% input$check)  \n",
    "      \n",
    "    p2 <- p2 + geom_line(data=subset(cgm_filtered), size=0.5) \n",
    "    p2 <- p2 + geom_point(data=subset(cgm_filtered), size=1)        \n",
    "  }   \n",
    "    \n",
    "  print(p2)        \n",
    " })\n",
    "\n",
    "}\n",
    "\n",
    "shinyApp(ui=gap_ui, server=gap_server)"
   ]
  },
  {
   "cell_type": "code",
   "execution_count": null,
   "metadata": {
    "collapsed": true
   },
   "outputs": [],
   "source": [
    "#DEPLOY TO SHINY SERVER\n",
    "dir <- getwd() #This gets the current Working Directory\n",
    "course <- \"DATA-SCI-8654\" #This is to specify the course path for the shiny server\n",
    "folder <- \"module3-bubble3\" #This specifies the folder name to copy\n",
    "\n",
    "system(sprintf(\"/usr/local/bin/shiny_deploy %s %s %s\", course, dir,folder), \n",
    "       intern = TRUE,\n",
    "       ignore.stdout = FALSE, \n",
    "       ignore.stderr = FALSE,\n",
    "       wait = TRUE, \n",
    "       input = NULL)"
   ]
  },
  {
   "cell_type": "markdown",
   "metadata": {},
   "source": [
    "You should see an interface similar to this: \n",
    "\n",
    "<img src=\"../images/bubble3.png\">\n",
    "\n",
    "Play with the sizes of the bubbles, scales, and fonts to make the plot more perceivable. In the practice, you will change the radio buttons to a slider which is more adequate to represent time input. "
   ]
  }
 ],
 "metadata": {
  "kernelspec": {
   "display_name": "R",
   "language": "R",
   "name": "ir"
  },
  "language_info": {
   "codemirror_mode": "r",
   "file_extension": ".r",
   "mimetype": "text/x-r-source",
   "name": "R",
   "pygments_lexer": "r",
   "version": "3.4.0"
  }
 },
 "nbformat": 4,
 "nbformat_minor": 2
}
