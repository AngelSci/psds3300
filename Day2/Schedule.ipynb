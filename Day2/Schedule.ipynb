{
 "cells": [
  {
   "cell_type": "markdown",
   "metadata": {},
   "source": [
    "# PSDS 3300 \n",
    "# Advanced Visualization and Communication 1\n",
    "\n",
    "## Day 2 Agenda\n",
    "\n",
    "#### Breaks (approx.)\n",
    "  1. 15 min @ 9:30a  \n",
    "  1. 60 min @ 11:30a (lunch)\n",
    "  1. 15 min @ 2:30p  \n",
    "\n",
    "#### Course Resources\n",
    "  * Your R Programming Boot Camp, _PSDS2120_\n",
    "  * Your Data Visualization course, _PSDS2300_\n"
   ]
  },
  {
   "cell_type": "markdown",
   "metadata": {},
   "source": [
    "---- \n",
    "\n",
    "# Module 3\n",
    "## Module Three: Cognition and Visual Perception\n",
    "\n",
    "\n",
    "## Topics covered\n",
    "- Cognitive and sensory systems \n",
    "- Sensory-level mechanisms in visual perception \n",
    "- Practice: Bubble charts and word clouds \n",
    "\n",
    "\n",
    "\n",
    "### Module Kick Off\n",
    " * [Module 3](./module3/slides/M3.pdf)\n",
    "\n",
    "\n",
    "### Readings\n",
    "\n",
    "### The following are some light reading on Gestalt theory and visual perception.\n",
    "\n",
    "- [Refresher: Gestalt Theory](https://www.smashingmagazine.com/2014/03/design-principles-visual-perception-and-the-principles-of-gestalt/)\n",
    "- [Visual Perception and Memory](http://vanseodesign.com/web-design/visual-perception-memory/)\n"
   ]
  },
  {
   "cell_type": "markdown",
   "metadata": {},
   "source": [
    "\n",
    "  \n",
    "## Labs\n",
    "- [Bubble charts in Shiny](./module3/labs/L3_Bubble.ipynb)\n",
    "- [Word clouds in Shiny](./module3/labs/L3_Wordcloud.ipynb)\n",
    "  \n",
    "\n",
    "## Practice Examples  \n",
    "- [L3_Practice_Bubblecharts](./module3/practices/L3_Practice_Bubblecharts.ipynb)\n",
    "- [L3_Practice_Wordclouds](./module3/practices/L3_Practice_Wordclouds.ipynb)\n",
    "  \n",
    "### End of Module  Exercises\n",
    "\n",
    "* [Module 3 Exercises](./module3/exercises/L3_Exercise.ipynb)\n",
    "\n",
    "\n",
    "## Additional Readings : Cognitive Load Theory\n",
    "\n",
    "[Cognitive Load Theory](https://indigo.sgn.missouri.edu/static/PDF/AdvViz1/kirschner_cog_load.pdf) Paul Kirschner is an American born learning scientist who made his career in the Netherlands. \n",
    "The article focuses on cognitive load theory from the point of view of human learning.  \n",
    "We select this reading because, in many respects, when you are designing visualizations you are working to construct interactive environments that support learning.  \n",
    "Too much information can overload people. \n",
    "And making connections to the broader context of information that your stakeholders have access to is one mechanism for managing load.\n",
    "\n",
    "[This report](http://oceansofdata.org/sites/oceansofdata.org/files/Visualizing-Oceans-Data-Report-Dec2013.pdf) is a good example of how much thought and design goes into the visualization design regarding many aspects of human visual perception that we have seen before, and the cognitive load. Please read pages 20-39 for discussion.  "
   ]
  },
  {
   "cell_type": "markdown",
   "metadata": {},
   "source": [
    "---\n",
    "\n",
    "# Module 4\n",
    "## Visualization and Human Centered Design\n",
    "\n",
    "\n",
    "## Topics covered\n",
    "- Fast and slow thinking\n",
    "- Cognitive bias\n",
    "- Human centered design\n"
   ]
  },
  {
   "cell_type": "markdown",
   "metadata": {},
   "source": [
    "\n",
    "### Module Kick Off\n",
    " * [Module 4](./module4/slides/M4.pdf)\n",
    "\n",
    "\n",
    " - [L4_Reading](./module4/readings/L4_Reading.ipynb)\n",
    "\n",
    "  \n",
    "### Labs\n",
    "- [L4_Interactive_Plots](./module4/labs/L4_Interactive_Plots.ipynb)\n",
    "\n",
    "### Practices\n",
    "- [L4_Practice](./module4/practices/L4_Practice.ipynb)\n",
    "\n",
    "### End of Module  Exercises\n",
    "\n",
    "- [Module 4 Exercises](./module4/exercises/L4_Exercise.ipynb)\n"
   ]
  },
  {
   "cell_type": "markdown",
   "metadata": {},
   "source": [
    "----\n",
    "\n",
    "## End of Day\n",
    "\n",
    " * Use **git** to add `Day2/module3` and `Day2/module4` folders, ensure all your Shiny Apps are submitted.\n",
    "\n",
    "\n",
    "#### <span style='background:yellow'>Remember: All classes are Instructor-Led, class starts at 0730 next time!</span>\n",
    "\n"
   ]
  },
  {
   "cell_type": "markdown",
   "metadata": {},
   "source": [
    "## Starting Subsequent Days\n",
    "\n",
    "Next course day is available after 6am the morning of that instruction day. \n",
    "**Please refer to** [the discussion board](https://argon.sgn.missouri.edu) for the official instruction days.\n",
    "You will start by pulling the published course materials as you have in other courses.\n",
    "\n",
    "Before pulling a new day of work, \n",
    "please ensure you follow the process to commit all your previous work and get it published to the server.\n",
    "This will ensure a smooth merge of the module into your working course folder.\n",
    "Please remember to save and close all your notebooks, then use the command line to stage, commit, and push your work to the server.\n",
    "\n",
    "Next course day, you will start by pulling the published course materials:\n",
    "```\n",
    "cd PSDS3300OP3*\n",
    "git pull --no-edit upstream master\n",
    "```"
   ]
  },
  {
   "cell_type": "markdown",
   "metadata": {},
   "source": [
    "---"
   ]
  }
 ],
 "metadata": {
  "kernelspec": {
   "display_name": "Python 3",
   "language": "python",
   "name": "python3"
  },
  "language_info": {
   "codemirror_mode": {
    "name": "ipython",
    "version": 3
   },
   "file_extension": ".py",
   "mimetype": "text/x-python",
   "name": "python",
   "nbconvert_exporter": "python",
   "pygments_lexer": "ipython3",
   "version": "3.4.9"
  }
 },
 "nbformat": 4,
 "nbformat_minor": 2
}
