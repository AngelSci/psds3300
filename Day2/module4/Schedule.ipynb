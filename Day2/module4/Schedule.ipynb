{
 "cells": [
  {
   "cell_type": "markdown",
   "metadata": {},
   "source": [
    "# Module Four: Visualization and Human Centered Design\n",
    "\n",
    "\n",
    "## Topics covered\n",
    "- Fast and slow thinking\n",
    "- Cognitive bias\n",
    "- Human centered design\n",
    "\n",
    "\n",
    "## Notebook Shortcuts\n",
    "\n",
    "(Please go through the notebooks in this order) \n",
    "\n",
    "### readings\n",
    "- [L4_Reading](readings/L4_Reading.ipynb)\n",
    "\n",
    "\n",
    "### labs\n",
    "- [L4_Interactive_Plots](labs/L4_Interactive_Plots.ipynb)\n",
    "\n",
    "\n",
    "### practices\n",
    "- [L4_Practice](practices/L4_Practice.ipynb)\n",
    "\n",
    "\n",
    "### exercises\n",
    "- [L4_Exercise](exercises/L4_Exercise.ipynb)\n",
    "\n",
    "\n",
    "\n",
    "## Video topics\n",
    "- **Concept Video**: Cognitive Bias and Visualization\n",
    "\n",
    "\n",
    "## Suggested Schedule\n",
    "\n",
    "### Monday-Tuesday\n",
    "- **Concept Video**\n",
    "- **Readings**\n",
    "- **Lab Notebooks**\n",
    "- **Practice Notebooks**\n",
    "\n",
    "### Wednesday\n",
    "- Discussion\n",
    "\n",
    "### Thursday\n",
    "- Discussion Responses\n",
    "\n",
    "### Friday/Saturday/Sunday\n",
    "- **Exercise**: L4_Exercise.ipynb \n"
   ]
  }
 ],
 "metadata": {
  "kernelspec": {
   "display_name": "Python 3",
   "language": "python",
   "name": "python3"
  },
  "language_info": {
   "codemirror_mode": {
    "name": "ipython",
    "version": 3
   },
   "file_extension": ".py",
   "mimetype": "text/x-python",
   "name": "python",
   "nbconvert_exporter": "python",
   "pygments_lexer": "ipython3",
   "version": "3.4.9"
  }
 },
 "nbformat": 4,
 "nbformat_minor": 1
}
