{
 "cells": [
  {
   "cell_type": "markdown",
   "metadata": {},
   "source": [
    "# Module 4 Exercise\n",
    "\n",
    "In this exercise, you will create an app that has similar functionality as the interactive visualization at this web page:\n",
    "\n",
    "http://www.vizwiz.com/2017/10/drill-down.html.\n",
    "\n",
    "** Exercise 1: Create two plots and functionality similar to this plot: **\n",
    "\n",
    "![image.png](plot.png)\n",
    "\n",
    "\n",
    "Look at the description at the given web page and do the following:\n",
    "- You will create a scatter plot for **states** on the left as shown in the web page, using similar ggplot statements given below; and a scatter plot on the right for **cities** of a **selected state**. \n",
    "- State selection will be by a **mouse click** on the left plot. When the user clicks on a state, the scatter plot on the right will reflect the cities in that state using similar ggplot statements given below.\n",
    "- You will also implement a **hover** action; when user **hovers over a state or city**, its data will show up below its plot. \n",
    "\n",
    "Look at the https://shiny.dsa.missouri.edu/students/ersoyi/DATA-SCI-8654/m4-ex/ to see how the functionality is supposed to work for your app. \n",
    "\n",
    "\n",
    "Make sure to run your lab and practice apps before starting this exercise. "
   ]
  },
  {
   "cell_type": "code",
   "execution_count": null,
   "metadata": {},
   "outputs": [],
   "source": [
    "# Here is the data set \n",
    "\n",
    "df = read.csv('SampleSuperstoreSales.csv')\n",
    "head(df)\n",
    "str(df)"
   ]
  },
  {
   "cell_type": "code",
   "execution_count": null,
   "metadata": {},
   "outputs": [],
   "source": [
    "# group profits and sales by state and compute a profit ratio for each state \n",
    "library(dplyr)\n",
    "sdf <- df %>% group_by(State) %>% summarise(Sales=sum(Sales), Profit=sum(Profit), numCities=n())\n",
    "sdf['p_ratio'] = sdf['Profit'] / sdf['Sales']\n",
    "sdf"
   ]
  },
  {
   "cell_type": "code",
   "execution_count": null,
   "metadata": {},
   "outputs": [],
   "source": [
    "# do the same for cities \n",
    "cdf <- df %>% group_by(City, State) %>% summarise(Sales=sum(Sales), Profit=sum(Profit))\n",
    "cdf['p_ratio'] = cdf['Profit'] / cdf['Sales']\n",
    "str(cdf)\n",
    "head(cdf)\n"
   ]
  },
  {
   "cell_type": "code",
   "execution_count": null,
   "metadata": {
    "collapsed": true
   },
   "outputs": [],
   "source": [
    "# transform factors to characters \n",
    "sdf <- transform(sdf, State = as.character(State))\n",
    "cdf <- transform(cdf, State = as.character(State))\n",
    "cdf <- transform(cdf, City = as.character(City))\n"
   ]
  },
  {
   "cell_type": "code",
   "execution_count": null,
   "metadata": {},
   "outputs": [],
   "source": [
    "library(ggplot2)\n",
    "library(ggthemes)\n",
    "library(scales)\n",
    "\n",
    "# create a similar scatter plot to show data for STATES\n",
    "\n",
    "p <- ggplot(data=sdf, aes(x=Sales, y=Profit)) + geom_point(aes(color=p_ratio), size=5) \n",
    "\n",
    "p <- p + geom_text(aes(label = State), color=\"grey50\", check_overlap = TRUE, size=5, vjust=2)\n",
    "p <- p + scale_color_gradient2(low=\"red\", mid=\"lightblue\", high=\"darkblue\")\n",
    "\n",
    "# to highlight a particular state, you can add this (like in a hover event)\n",
    "p <- p + geom_point(data=subset(sdf, State==\"Texas\"), shape=21, size=5) \n",
    "\n",
    "p <- p + scale_y_continuous(breaks=seq(-20000,120000,20000), labels = dollar)\n",
    "p <- p + scale_x_continuous(breaks=seq(0,1400000,200000), labels = dollar)\n",
    "\n",
    "p <- p +  theme_minimal()\n",
    "p <- p + theme(line = element_line(size=0.1), axis.line = element_line(linetype = \"dashed\"))\n",
    "p <- p + theme(legend.position=\"none\")\n",
    "\n",
    "p\n"
   ]
  },
  {
   "cell_type": "code",
   "execution_count": null,
   "metadata": {},
   "outputs": [],
   "source": [
    "# for drill down to a State, show this plot on the right \n",
    "\n",
    "# here, MO is chosen as an example, you'll get the state value from the mouse click on the other plot \n",
    "dd <- subset(cdf, State==\"MO\")\n",
    "\n",
    "p <- ggplot(data=dd, aes(x=Sales, y=Profit)) + geom_point(aes(color=p_ratio), size=5) \n",
    "\n",
    "# to highlight a particular city, you can add this (like in a hover event)\n",
    "p <- p + geom_point(data=subset(dd, City==\"Saint Louis\"), shape=21, size=5) \n",
    "\n",
    "p <- p + geom_text(aes(label = City), color=\"grey50\", check_overlap = TRUE, size=5, vjust=2)\n",
    "p <- p + scale_color_gradient2(low=\"red\", mid=\"lightblue\", high=\"darkblue\")\n",
    "\n",
    "p <- p +  theme_minimal()\n",
    "p <- p + theme(line = element_line(size=0.1), axis.line = element_line(linetype = \"dashed\"))\n",
    "p <- p + theme(legend.position=\"none\")\n",
    "\n",
    "p\n"
   ]
  },
  {
   "cell_type": "markdown",
   "metadata": {},
   "source": [
    "### Sample Skeleton App\n",
    "\n",
    "Use the following app as a starting point and pay attention to the comments."
   ]
  },
  {
   "cell_type": "raw",
   "metadata": {
    "collapsed": true
   },
   "source": [
    "# A sample skeleton for the app: you can use this as a STARTING POINT and improve the interface \n",
    "# (adding titles, improving layout, picking the hover options, etc.),\n",
    "# and fill in the code for each of the output and event functions.\n",
    "\n",
    "library(ggplot2)\n",
    "library(ggthemes)\n",
    "library(scales)\n",
    "library(dplyr)\n",
    "\n",
    "# data preprocessing \n",
    "df = read.csv('SampleSuperstoreSales.csv')\n",
    "sdf <- df %>% group_by(State) %>% summarise(Sales=sum(Sales), Profit=sum(Profit), numCities=n())\n",
    "sdf['p_ratio'] = sdf['Profit'] / sdf['Sales']\n",
    "cdf <- df %>% group_by(City, State) %>% summarise(Sales=sum(Sales), Profit=sum(Profit))\n",
    "cdf['p_ratio'] = cdf['Profit'] / cdf['Sales']\n",
    "sdf <- transform(sdf, State = as.character(State))\n",
    "cdf <- transform(cdf, State = as.character(State))\n",
    "cdf <- transform(cdf, City = as.character(City))\n",
    "\n",
    "sales_ui <- fluidPage(\n",
    "    \n",
    "    fluidRow(\n",
    "        column(6, plotOutput(\"state_plot\", click = \"state_click\", \n",
    "                             hover = hoverOpts(id = \"state_hover\", delay = 50, delayType = c(\"debounce\")), \n",
    "                             height = \"600px\")),\n",
    "        column(6, plotOutput(\"city_plot\", click = \"city_click\", \n",
    "                             hover = hoverOpts(id = \"city_hover\", delay = 50, delayType = c(\"debounce\")),\n",
    "                             height = \"600px\"))    \n",
    "    ),\n",
    "    fluidRow(\n",
    "        column(6,  htmlOutput(\"state_info\")),\n",
    "        column(6,  htmlOutput(\"city_info\"))    \n",
    "    )    \n",
    ")\n",
    "\n",
    "sales_server <- function(input, output){\n",
    "    \n",
    " # These REACTIVE variables are intialized here. They will be assigned values by the mouse event functions.\n",
    " # Using the vals variables in your renderPlots will make your plots reactive to the mouse events.     \n",
    " vals <- reactiveValues(selected_state=c(), selected_city=c(), hovered_state=c(), hovered_city=c())  \n",
    "\n",
    "\n",
    "    \n",
    "# ------- OUTPUT FUNCTIONS -------\n",
    " output$state_plot <- renderPlot ({\n",
    "\n",
    "     # plot the state data \n",
    "     # (use vals$hovered_state to highlight the state)\n",
    " })\n",
    "    \n",
    " output$city_plot <- renderPlot ({   \n",
    "     \n",
    "      # plot the city data \n",
    "      # (use vals$selected_state to subset the data)\n",
    "      # (use vals$hovered_city to highlight the state)\n",
    " })\n",
    "          \n",
    " # use reactive variables appropriately in the following, too.    \n",
    " output$state_info <- renderText ({\n",
    "     \n",
    "     # use HTML() for output\n",
    " })\n",
    "\n",
    " output$city_info <- renderText ({\n",
    "     \n",
    "     # use HTML() for output\n",
    " })\n",
    "\n",
    "# ------- EVENT FUNCTIONS -------\n",
    " # The following are the mouse event functions that will run \n",
    " # when user interacts with the mouse within the plot areas. \n",
    "    \n",
    " # this function gets called when user clicks on a state    \n",
    " observeEvent(input$state_click, {   \n",
    "    # find the closest data point to the click action \n",
    "    # and assign the State to vals$selected_state\n",
    " })\n",
    "\n",
    " # this function gets called when user clicks on a city\n",
    " #   ( your app is not really supposed to do anything for this event,\n",
    " #     but you can add this event to do something of your choice.)\n",
    " observeEvent(input$city_click, {   \n",
    "    # find the closest data point to the click action \n",
    "    # and assign the City to vals$selected_city\n",
    " })\n",
    " \n",
    " # this function gets called when user hovers the mouse over a state    \n",
    " observeEvent(input$state_hover, {   \n",
    "    # find the closest data point to the hover action \n",
    "    # and assign the State to vals$hovered_state      \n",
    " })\n",
    "    \n",
    " # this function gets called when user hovers the mouse over a city\n",
    " observeEvent(input$city_hover, {   \n",
    "    # find the closest data point to the hover action \n",
    "    # and assign the City to vals$hovered_city\n",
    " })\n",
    "\n",
    "}\n",
    "    \n",
    "shinyApp(ui=sales_ui, server=sales_server)"
   ]
  },
  {
   "cell_type": "code",
   "execution_count": null,
   "metadata": {
    "collapsed": true
   },
   "outputs": [],
   "source": [
    "#DEPLOY TO SHINY SERVER\n",
    "dir <- getwd() #This gets the current Working Directory\n",
    "course <- \"DATA-SCI-8654\" #This is to specify the course path for the shiny server\n",
    "folder <- \"module4-exercise1\" #This specifies the folder name to copy\n",
    "\n",
    "system(sprintf(\"/usr/local/bin/shiny_deploy %s %s %s\", course, dir,folder), \n",
    "       intern = TRUE,\n",
    "       ignore.stdout = FALSE, \n",
    "       ignore.stderr = FALSE,\n",
    "       wait = TRUE, \n",
    "       input = NULL)"
   ]
  },
  {
   "cell_type": "markdown",
   "metadata": {},
   "source": [
    "## Verify your application is running and enter the ShinyApp URL in the cell below"
   ]
  },
  {
   "cell_type": "raw",
   "metadata": {},
   "source": [
    "Exercise URL: "
   ]
  },
  {
   "cell_type": "markdown",
   "metadata": {},
   "source": [
    "# Save your notebook"
   ]
  }
 ],
 "metadata": {
  "kernelspec": {
   "display_name": "R",
   "language": "R",
   "name": "ir"
  },
  "language_info": {
   "codemirror_mode": "r",
   "file_extension": ".r",
   "mimetype": "text/x-r-source",
   "name": "R",
   "pygments_lexer": "r",
   "version": "3.4.0"
  }
 },
 "nbformat": 4,
 "nbformat_minor": 2
}
