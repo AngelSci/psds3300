{
 "cells": [
  {
   "cell_type": "markdown",
   "metadata": {},
   "source": [
    "# Module Four: Visualization and Human Centered Design \n",
    "\n",
    "\n",
    "\n",
    "### Cognitive Bias\n",
    "\n",
    "Wikipedia enumerates a few hundred cognitive biases, which are detailed in this graphic below. \n",
    "[The Wikipedia page is here.](https://en.wikipedia.org/wiki/List_of_cognitive_biases)\n",
    "\n",
    "If you right click on the image below you can select \"open in a new page\" and you will get a nominally larger version of it.\n",
    "Obviously the text is difficult to read, and only includes the bias name, but this,\n",
    "combined with the wikipedia page, gives you a functional overview of the wide range of cognitive biases.\n",
    "Humans are, indeed, possessed of many shortcuts for information processing.\n",
    "These shortcuts become problematic, however, when you are responsible for providing information visualizations to the masses, and do not reflect on your own cognitive biases first. \n",
    "\n",
    "![cognitive-bias.jpg MISSING](../images/cognitive-bias.jpg \"A visual overview of the different types of congitive bias\")\n"
   ]
  },
  {
   "cell_type": "markdown",
   "metadata": {},
   "source": [
    "A cognitive bias refers to the systematic pattern of deviation from norm or rationality in \n",
    "judgment, \n",
    "whereby inferences situations may be drawn in an illogical fashion. \n",
    "Cognitive biases may sometimes lead to perceptual distortion,\n",
    "inaccurate judgment, and illogical interpretation. \n",
    "Bias arises from various processes that are sometimes difficult to distinguish. \n",
    "These include\n",
    " - information-processing shortcuts (heuristics)\n",
    " - noisy information processing (distortions in the process of storage in and retrieval from memory)\n",
    " - the brain's limited information processing capacity\n",
    " - emotional and moral motivations\n",
    " - social influence\n",
    "\n",
    "\n",
    "In visual perception, there is a process that suppresses ambiguity, so that a single interpretation is \n",
    "chosen. \n",
    "This process is useful (such as perceptual grouping, searching for coherence, etc.) but it also \n",
    "makes humans to perceive things that aren’t there in perception.\n",
    "What you believe can influence what you see.\n",
    "Although systems one and two (described below) form a powerful combination for enabling analytics with data, \n",
    "they can also be mislead by certain design choices even if that's not intented. \n",
    "Also, people's own beliefs, biases and mental models can distort their interpretation of a visualization subconsciously. \n"
   ]
  },
  {
   "cell_type": "markdown",
   "metadata": {},
   "source": [
    "### Specific Challenges for Cognitive Bias in Developing Visualizations\n",
    "\n",
    "Some examples of cognitive biases which can be interpreted in the context of visualization:\n",
    "\n",
    " - **Attraction effect** (also known as the decoy effect and the asymmetric dominance effect) is where people tend to favour the option for which there exists a similar, but slightly inferior, alternative.\n",
    "\n",
    " - **Anchoring** is where the person is uncertain as to the answer and latches on to a value or narrative which is readily available in their memory, even if this is, in hindsight, irrational.\n",
    "\n",
    " - **Adjustment** is where the person is given an initial starting point  (or result) and are reluctant to deviate too far from this value, thus inhibiting their exploration of the data.\n",
    "\n",
    " - **Confirmation bias** is where people unconsciously seek out information that confirms their current belief, ignoring information to the contrary.\n",
    "\n",
    " - **Clustering illusion** is where the user sees a pattern in the plotted data (e.g. on a scatterplot) when the data is in fact a random distribution.\n",
    "\n",
    " - **Redundancy:** Due to the fact that the visualisation can process and display a vast amount of data, the user perceives the result as being more accurate or correct than it actually is.\n",
    "\n",
    " - **Availability** is when people tend to use what is readily available (e.g what they can easily remember or what is on a display) and fails to search for further data\n",
    "\n",
    " - **Sample:** The smaller the data sample the less representative it becomes of the whole, but the display gives the impression that it is a better fit (e.g points all appear in a line)."
   ]
  },
  {
   "cell_type": "markdown",
   "metadata": {},
   "source": [
    "#### The Decoy Effect / Attraction Effect\n",
    "\n",
    "As one of your readings will highlight, the attraction effect ([decoy effect in our wikipedia list](https://en.wikipedia.org/wiki/Decoy_effect)) is a cognitive bias that is important for visualization designers to keep in mind. The Wikipedia Definition is: \n",
    "\n",
    "> In marketing, the decoy effect (or asymmetric dominance effect) is the phenomenon whereby consumers will tend to have a specific change in preference between two options when also presented with a third option that is asymmetrically dominated. An option is asymmetrically dominated when it is inferior in all respects to one option; but, in comparison to the other option, it is inferior in some respects and superior in others. In other words, in terms of specific attributes determining preferability, it is completely dominated by (i.e., inferior to) one option and only partially dominated by the other. When the asymmetrically dominated option is present, a higher percentage of consumers will prefer the dominating option than when the asymmetrically dominated option is absent. The asymmetrically dominated option is therefore a decoy serving to increase preference for the dominating option. The decoy effect is also an example of the violation of the independence of irrelevant alternatives axiom of decision theory.\n",
    "\n",
    "Why does this matter so much for the visualization work we are undertaking? First and foremost think about how frequently we begin our work with a scatterplot.  \n",
    "Considering alternatives that are potentially distracting is possibly the most significant risk for such visualizations.\n",
    "Whenever we have more than two alternatives, which is usually what we have, there is a risk, especially when we are visualizing data with multiple variables, that we will overly influence the user toward a dominant choice.\n",
    "The \"tl;dr\" (too long, didn't read) synthesis of the article focused on the attraction effect is as such:\n",
    "\n",
    ">when people visualize choice alternatives using scatterplots, the number and position of irrelevant (dominated) alternatives may influence their choice. This shift in preferences violates basic axioms of [rational choice theory](https://indigo.sgn.missouri.edu/static/PDF/AdvViz1/AsymetricAlternatives.pdf). In addition to being the first infovis study on the attraction effect, our work contributes to the ongoing debate in decision-making research on whether the effect generalizes to non-numerical formats.\n",
    "\n"
   ]
  },
  {
   "cell_type": "markdown",
   "metadata": {},
   "source": [
    "#### [Wall's Four Perspectives on Human Bias in Visual Analytics](https://indigo.sgn.missouri.edu/static/PDF/AdvViz1/wall-2017.pdf)\n",
    "\n",
    "One of the more clearly synthesized views of bias in visual analytics was recently presented by Emily Wall at Georgia Tech.  \n",
    "Wall views Bias from the perspectives of: \n",
    "1. Cognitive Processing Error\n",
    "2. An Information Filter\n",
    "3. Preconception\n",
    "4. Model Processing, or as \"mechanisms supporting perception, memory, decision making, and other cognitive functions.\"\n",
    "    \n",
    "Our biases are not, in all cases, to be thought of as \"a negative\".\n",
    "In some cases, and we must be careful in our thinking about them, \n",
    "these biases are helpful for processing large amounts of information.  \n",
    "\n",
    "#### [Black Hat Visualization](https://indigo.sgn.missouri.edu/static/PDF/AdvViz1/BlackHatViz.pdf)\n",
    " \n",
    "One other perspective to keep in mind with regards to visualization is that notion of the \"black hat\", which in security circles, are people with ill intent on the internet.  Black Hat's invade our computer systems, are reported to have hacked elections through misinformation campaigns and used information for other nefarious means.  Jeff Heer at the University of Washington and his student, Michael Correll, summarize this nicely in their paper.  Specific mechanisms for deliberately misleading people include:\n",
    "1. intentional breaks in convention\n",
    "2. data maniupulation\n",
    "3. obfuscation and \n",
    "4. nudging\n",
    "\n",
    "Their recent synopsis summarizes the \"black hat\" as follows:\n",
    "> People lie, mislead, and bullshit in a myriad of ways. Visualizations, as a form of communication, are no exception to these tendencies. Yet, the language we use to describe how people can use visualizations to mislead can be relatively sparse. For instance, one can be “lying with vis” or using “deceptive visualizations.” In this paper, we\n",
    "use the language of computer security to expand the space of ways that unscrupulous people (black hats) can manipulate visualizations for nefarious ends. In addition to forms of deception well-covered in the visualization literature, we also focus on visualizations which have fidelity to the underlying data (and so may not be considered deceptive in the ordinary use of the term in visualization), but still have negative impact on how data are perceived. We encourage\n",
    "designers to think defensively and comprehensively about how their visual designs can result in data being misinterpreted.\n"
   ]
  },
  {
   "cell_type": "markdown",
   "metadata": {},
   "source": [
    "### The Dual Processes of Cognition\n",
    "\n",
    "One helpful way to understand what is occurring in this perceptual experience is to think of cognition as always involving a\n",
    "dual process. There are two distinct cognitive systems delivering judgments to the agent. Psychologists Keith Stanovich and \n",
    "Richard West have named these System 1 and System 2. Daniel Kahneman and  Amos Tversky won a Nobel prize in economics by studying these two modes of thought and cognitive biases associated with them and developed the prospect theory to account for the irrational decision making in economy. Kahneman and Tversky employed studies to reveal how the mind is misled by automatic intuitions and mental shortcuts called heuristics. \n",
    "\n",
    "![13abc.jpg MISSING](../images/13abc.jpg \"An example of bias in visual perception\")"
   ]
  },
  {
   "cell_type": "markdown",
   "metadata": {},
   "source": [
    "\n",
    " - **System 1:** Fast Thinking (Fast, automatic, frequent, emotional, stereotypic, subconscious.)\n",
    "\n",
    "  System 1 is almost always on auto-pilot, accompanied neither by sensations of agency nor by effort. The kinds of automatic actions attributed to System 1 include detection of the distance of objects in a visual field, spontaneous bodily orientation toward a loud noise, threat detection, and spontaneous memory retrieval behaviors.\n",
    "\n",
    "\n",
    " - **System 2:** Slow Thinking (Slow, effortful, infrequent, logical, calculating, conscious.)\n",
    "\n",
    "  System 2 operations are diverse but unified by one feature: the activities are attention-intensive and thus are typically associated with voluntary activity. These activities are slower and more methodical than System 1 operations because they require uninterrupted effort that is easily disrupted by distraction.\n",
    "\n",
    "![alt text](../images/Muller-Lyer-Illusion.png \"Muller-Lyer illusion\")"
   ]
  },
  {
   "cell_type": "markdown",
   "metadata": {},
   "source": [
    "\n",
    "In the Müller-Lyer Illusion above, for example, System 1 scans our visual stereotypes about the way lines and angles are associated in our vast past experience of visual fields.\n",
    "On the basis of these past visual stereotypes, System 1 delivers the wrong perceptual experience. \n",
    "The Müller-Lyer Illusion capitalizes on typical visual stereotypes to intentionally bias our perceptual mechanisms and deliver a very fast, intuitive, natural-feeling but totally incorrect—judgment. \n",
    "It is a judgment that System 2 immediately disavows, but the left line still looks longer, even if we don’t believe it actually is. \n",
    "\n",
    "One key warning from [Thinking Fast and Thinking Slow](https://indigo.sgn.missouri.edu/static/PDF/AdvViz1/FastSlow.pdf) relates to how we interpret visualizations produced by data collected exclusively or almost exclusively by machines.  \n",
    "A LOT of data is collected this way.\n",
    "> The main challenges for such machine-centric processes to be effective are the difficulty to collect enough data in every local domain to know if its sample features the same statistical measures as the global sample, the difficulty to sample a variety of variables as humans would observe in a real-world environment, and the difficulty to determine what variables should be used in a decision process dynamically according to contextual conditions. With rapidly increasing capabilities of data collection, some machine-centric processes will become more effective decision tools in individual local domains at an acceptable level of biases. However, we must beware of these biases due to global statistics and missing variables in global sampling. \n",
    "\n",
    "If you are curious to learn a whole lot more about thinking fast and thinking slow, you can read the [book of Nobel Winning economist Daniel Kahneman](https://indigo.sgn.missouri.edu/static/PDF/AdvViz1/Daniel-Kahneman-Thinking-Fast-and-Slow-.pdf). His book reaches far beyond questions of information visualization, but we think understanding fast and slow thinking more broadly may prove useful for you. \n",
    "\n",
    "\n",
    "### Readings\n",
    "\n",
    "- **Cognitive Bias in Visualization**\n",
    " - [The attraction effect in information visualization](https://indigo.sgn.missouri.edu/static/PDF/AdvViz1/TVCG2598594.pdf)\n",
    " - [Building and applying a human cognition model for visual analytics](https://indigo.sgn.missouri.edu/static/PDF/AdvViz1/ivs.2008.28.pdf)\n",
    " - [Visualization of Uncertainty and Reasoning](https://indigo.sgn.missouri.edu/static/PDF/AdvViz1/Zuk_2007_VisualizingUncertaintyReasoning.pdf)\n",
    " - [Thinking Fast and Thinking Slow](https://indigo.sgn.missouri.edu/static/PDF/AdvViz1/FastSlow.pdf)\n",
    "\n",
    " - [Dealing with Cognitive Biases in Visualisations : a VIS 2017 workshop](http://decisive-workshop.dbvis.de/) provides many papers on the topic.\n",
    "\n",
    "\n",
    "- **Human Centered Design**\n",
    "\n",
    " - [Human-Centered Information Visualization](https://indigo.sgn.missouri.edu/static/PDF/AdvViz1/humancenteredinfovis.pdf)\n",
    " - [Human Factors in Visualization Research](https://indigo.sgn.missouri.edu/static/PDF/AdvViz1/humanfactors.pdf)\n",
    " - [Visual Intelligence](https://indigo.sgn.missouri.edu/static/PDF/AdvViz1/DecSupport2016.pdf)\n",
    " - [Book: Human-centered visualization environments](http://www.cs.swan.ac.uk/~csbob/research/hcve/kerren07hcve.pdf)\n",
    " \n",
    " "
   ]
  }
 ],
 "metadata": {
  "kernelspec": {
   "display_name": "R",
   "language": "R",
   "name": "ir"
  },
  "language_info": {
   "codemirror_mode": "r",
   "file_extension": ".r",
   "mimetype": "text/x-r-source",
   "name": "R",
   "pygments_lexer": "r",
   "version": "3.4.0"
  }
 },
 "nbformat": 4,
 "nbformat_minor": 2
}
