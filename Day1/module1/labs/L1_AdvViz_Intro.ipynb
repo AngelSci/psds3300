{
 "cells": [
  {
   "cell_type": "markdown",
   "metadata": {},
   "source": [
    "# Lab 1 - Introduction to Advanced Visualization and Communication I\n",
    "\n",
    "This is the first module of the Advanced Visualization and Communication I course. Building on the concepts, and the tools \n",
    "and techniques we have learned in the Data Visualization course, we will go on learning the concepts of visual interactive communication and practice the tools to create dashboards for both making our visualizations interactive and also to turn our data exploration and analysis into visual tools to aim decision making. \n",
    "\n",
    "We will start with the mechanics of creating dashboards as Web apps, and we will use Shiny as a tool to turn our visualizations in R to interactive dashboards on the Web. First couple weeks will be focused on the mechanics of creating Shiny dashboards. Then, we will start looking at concepts in visual communications, human centered design, design theories and user interface designs, and finally storytelling aspects of visual communication. We will also learn how to create visual interaction tools with D3 which is another popular and versatile tool, and finally we will have a final project putting together everything we have learned to create your own visual tools/apps for presenting and exploring data visually. \n",
    "\n",
    "Similar to the Data Visualization course, we will have discussions each week regarding the concepts we learn in that week that revolves around critiquing dashboards, web apps, visualizations, and tools on the Web, and we also will discuss how to apply these concepts for our own use leading to the design and implementation of your final projects. \n",
    "\n",
    "In this first lab, we will see the mechanics of deploying Shiny apps to build interactive visualizations on the Web. We will start with the basics of a Shiny app deployment; we will see simple examples of Shiny apps and practice how to create the necessary folder and files and deploy them to our Shiny server. In later modules, we will start learning how to write apps. This first module is intended as a brief introduction to the deployment; it's OK if you do not fully understand how the interface and server are working together yet. \n",
    "\n",
    "See some Shiny examples working here: https://shiny.dsa.missouri.edu/students/ersoyi/DATA-SCI-8654/module1-first/ \n",
    "\n",
    "and here: https://shiny.dsa.missouri.edu/students/ersoyi/DATA-SCI-8654/module1-hello/"
   ]
  },
  {
   "cell_type": "markdown",
   "metadata": {},
   "source": [
    "## Introduction to Shiny \n",
    "\n",
    "Shiny is a *Web application framework* that allows your R code to turn into an interactive Web App. Shiny package is developed by RStudio, and is freely available for use. Your entire application can be written in R, and you do not need to know how to code in HTML or Javascript, yet you can augment your application with HTML and Javascript if you do know how. \n",
    "\n",
    "The following are some useful references for Shiny:\n",
    "\n",
    "- [shiny.rstudio.com](https://shiny.rstudio.com)\n",
    "- [Shiny function reference](http://shiny.rstudio.com/reference/shiny/latest/)\n",
    "- [Shiny articles](http://shiny.rstudio.com/articles/)\n",
    "- [Shiny R package](https://cran.r-project.org/web/packages/shiny/shiny.pdf)\n",
    "\n",
    "### Shiny Server\n",
    "\n",
    "After developing your Shiny app, you need to deploy it as a Web App to run. This requires a shiny server similar to a web server. You can do it in three ways: \n",
    "\n",
    "1) You can run a local Shiny server in your own machine and use RStudio to develop and deploy your app in your machine. This will make the application available only to you. This is a good choice for development and testing phase. \n",
    "\n",
    "2) You can run a Shiny server on a machine that is connected to Internet, or on a virtual machine hosted in the cloud (such as an Amazon instance) and deploy your apps on this server in order to make them available to the rest of the Internet. \n",
    "\n",
    "3) You can use shinyapps.io web site which offers free and paid hosting for your Shiny apps (this is purely for informational purpose; we do not endorse any paid service or product).\n",
    "\n",
    "In this course, we will use our own Shiny server deployed on ** https://shiny.sgn.missouri.edu/ **. The following information in this module is based on using this Shiny server in a way that is setup to share folders between our Jupyterhub server and Shiny server. Before going into the details of deployment, let's see the basic structure of a Shiny App. \n",
    "\n",
    "### Shiny App Structure \n",
    "\n",
    "First thing to note about Shiny apps is that **they do NOT run within a Jupyter notebook**, so do not try to run the cells in this notebook that have Shiny R code in them. Most of the code given in the Jupyter notebooks are for instructional purposes; we have to create plain .R files in order to code and deploy a Shiny app (note that Jupyter notebooks have .ipynb extension). \n",
    "\n",
    "Every Shiny app consists of a ui.R file that contains the user interface code, and a server.R that contains the code that processes the data. These two files have to be saved to the **same** folder, and the folder name becomes the name of your app. Let's see a simple example: "
   ]
  },
  {
   "cell_type": "markdown",
   "metadata": {
    "collapsed": true
   },
   "source": [
    "```\n",
    "# ui.R\n",
    "\n",
    "# define the UI (User Interface) for the application. \n",
    "# fluidPage function allows the display to adjust automatically to the browser dimensions.  \n",
    "shinyUI(fluidPage(\n",
    "    \n",
    " # application title    \n",
    " titlePanel(\"My First Shiny App!\"),\n",
    "    \n",
    " # using a sidebar layout, define a text input area and a text output area in the interface.   \n",
    " sidebarLayout(\n",
    "sidebarPanel(\n",
    " textInput(\"myText\", \"Enter text here:\")\n",
    " ),\n",
    "mainPanel(\n",
    " textOutput(\"niceTextOutput\")\n",
    " )\n",
    " )\n",
    "))\n",
    "```"
   ]
  },
  {
   "cell_type": "markdown",
   "metadata": {},
   "source": [
    "The above code has to be placed in a file named ui.R, and provides the interface for the app. The following is the server.R: "
   ]
  },
  {
   "cell_type": "markdown",
   "metadata": {
    "collapsed": true
   },
   "source": [
    "```\n",
    "# server.R\n",
    "\n",
    "# define the server code; unnamed function contains the code necessary to run the app. \n",
    "\n",
    "shinyServer(function(input, output){\n",
    "\n",
    "# define the output area in the user interface; it will get its value from the text input area.     \n",
    "output$niceTextOutput <-\n",
    "renderText(paste(\"You entered the text:\\n\",\n",
    "input$myText))\n",
    "\n",
    " })\n",
    "```"
   ]
  },
  {
   "cell_type": "markdown",
   "metadata": {},
   "source": [
    "The above example is very simple and renders only text for the output. We can also render tables and plots and create more complex layouts with several different types of UI widgets."
   ]
  },
  {
   "cell_type": "markdown",
   "metadata": {},
   "source": [
    "### How to deploy Shiny Apps \n",
    "\n",
    "**To deploy the above app, we have to create a folder and place these two scripts into ui.R and server.R files.** \n",
    "For this example, we already have done that for you, so you do not need to do that. \n",
    "\n",
    "Run a terminal in your Jupyterhub and `cd` to this lab's folder; \n",
    "you will see a folder named \"module1-first\" that contains those two files. \n",
    "Example path, substitute your actual ID for _psds.id_.\n",
    "```Bash\n",
    "/dsa/home/psds.id/PSDS3300_psds.id/Day1/module1/labs/module1-first\n",
    "```\n",
    "--- \n",
    "\n",
    "Review the files here:\n",
    "  * [Day1/module1/labs/module1-first/ui.R](./module1-first/ui.R)\n",
    "  * [Day1/module1/labs/module1-first/server.R](./module1-first/ui.R)\n",
    "\n",
    "---\n",
    "In order to deploy them to our Shiny server, you will have to **run the following code cell in this notebook:** "
   ]
  },
  {
   "cell_type": "code",
   "execution_count": null,
   "metadata": {
    "collapsed": true
   },
   "outputs": [],
   "source": [
    "#DEPLOY TO SHINY SERVER\n",
    "#NOTE: This code **does** get run here in JupyterHub\n",
    "dir <- getwd() #This gets the current Working Directory\n",
    "course <- \"DATA-SCI-8654\" #This is to specify the course path for the shiny server\n",
    "folder <- \"module1-first\" #This specifies the folder name to copy\n",
    "\n",
    "# This outputs a system command that runs a script that will copy things to a shiny server folder\n",
    "system(sprintf(\"/usr/local/bin/shiny_deploy %s %s %s\", course, dir,folder), \n",
    "       intern = TRUE,\n",
    "       ignore.stdout = FALSE, \n",
    "       ignore.stderr = FALSE,\n",
    "       wait = TRUE, \n",
    "       input = NULL)"
   ]
  },
  {
   "cell_type": "markdown",
   "metadata": {},
   "source": [
    "Once you run this, it will provide some output message and it will copy your Shiny app folder for **\"module1-first\"** app to the shared folder where the Shiny server can see and run your code. \n",
    "If everything runs fine, you should be able to see your first app running at the following URL:\n",
    " \n",
    "  https://shiny.sgn.missouri.edu/students/YOUR_USERNAME/DATA-SCI-8654/module1-first/\n",
    "  \n",
    "--- \n",
    "\n",
    "Review the files here:\n",
    "  * [Day1/module1/labs/module1-first/ui.R](./module1-first/ui.R)\n",
    "  * [Day1/module1/labs/module1-first/server.R](./module1-first/ui.R)\n",
    "\n",
    "---\n",
    "\n",
    "<span style='background:yellow'>To create *your own* apps for this module, you'll have to create a folder named \"module1-SOME_NAME\" and create the text files with extension .R that contain the UI code and the server code.</span>\n",
    "\n",
    "**You can do that by clicking \"New\" button in your Jupyterhub server and choose the text file option.** \n",
    "\n",
    "Then, copy and paste your code, and rename the files to `ui.R` and `server.R`. \n",
    "Then you can use the above code by only changing the folder variable to your folder's name.   "
   ]
  },
  {
   "cell_type": "markdown",
   "metadata": {},
   "source": [
    "### Shiny Hello App\n",
    "\n",
    "Let's see how we can add some plot to our apps. \n",
    "The following code is the UI to render a histogram. \n",
    "Normally, you'd copy this code to the ui.R file in the **module1-hello** folder under labs; \n",
    "but for this example, the files are already there for you."
   ]
  },
  {
   "cell_type": "markdown",
   "metadata": {
    "collapsed": true
   },
   "source": [
    "``` \n",
    "# ui.R\n",
    "\n",
    "library(shiny)\n",
    "\n",
    "# Define UI for application that plots random distributions \n",
    "shinyUI(pageWithSidebar(\n",
    "  \n",
    "  # Application title\n",
    "  headerPanel(\"It's Alive!\"),\n",
    "  \n",
    "  # Sidebar with a slider input for number of observations\n",
    "  sidebarPanel(\n",
    "    sliderInput(\"bins\",\n",
    "                  \"Number of bins:\",\n",
    "                  min = 1,\n",
    "                  max = 50,\n",
    "                  value = 30)\n",
    "  ),\n",
    "  \n",
    "  # Show a plot of the generated distribution\n",
    "  mainPanel(\n",
    "    plotOutput(\"distPlot\", height=250)\n",
    "  )\n",
    "))\n",
    "``` "
   ]
  },
  {
   "cell_type": "markdown",
   "metadata": {},
   "source": [
    "The following code is the corresponding server.R, renderPlot function defines the plot to be rendered on the output. "
   ]
  },
  {
   "cell_type": "markdown",
   "metadata": {
    "collapsed": true
   },
   "source": [
    "```\n",
    "# server.R\n",
    "\n",
    "library(shiny)\n",
    "\n",
    "# Define server logic required to draw a histogram\n",
    "shinyServer(function(input, output) {\n",
    "\n",
    "  # Expression that generates a histogram. The expression is\n",
    "  # wrapped in a call to renderPlot to indicate that:\n",
    "  #\n",
    "  #  1) It is \"reactive\" and therefore should be automatically\n",
    "  #     re-executed when inputs change\n",
    "  #  2) Its output type is a plot\n",
    "\n",
    "  output$distPlot <- renderPlot({\n",
    "    x    <- faithful[, 2]  # Old Faithful Geyser data\n",
    "    bins <- seq(min(x), max(x), length.out = input$bins + 1)\n",
    "\n",
    "    # draw the histogram with the specified number of bins\n",
    "    hist(x, breaks = bins, col = 'darkgray', border = 'white')\n",
    "  })\n",
    "\n",
    "})\n",
    "\n",
    "```"
   ]
  },
  {
   "cell_type": "markdown",
   "metadata": {},
   "source": [
    "Again, these files exist under your lab folder in a folder named **\"module1-hello\"**. \n",
    "\n",
    "<span style='background:yellow'>You must run the following code to deploy them on the Shiny server.</span>"
   ]
  },
  {
   "cell_type": "code",
   "execution_count": null,
   "metadata": {
    "collapsed": true
   },
   "outputs": [],
   "source": [
    "#DEPLOY TO SHINY SERVER\n",
    "dir <- getwd() #This gets the current Working Directory\n",
    "## Full directory will be in $HOME/DATA_SCI_8654/modules/module1/labs/module1-hello\"\n",
    "## You can deploy to any folder/app name you want, just remember it, because that's\n",
    "## where your code will be in JupyterHub and on the shiny server\n",
    "\n",
    "### This code DOES get run in jupyterhub\n",
    "\n",
    "course <- \"DATA-SCI-8654\" #This is to specify the course path for the shiny server\n",
    "folder <- \"module1-hello\" #This specifies the folder name to copy\n",
    "\n",
    "system(sprintf(\"/usr/local/bin/shiny_deploy %s %s %s\", course, dir,folder), \n",
    "       intern = TRUE,\n",
    "       ignore.stdout = FALSE, \n",
    "       ignore.stderr = FALSE,\n",
    "       wait = TRUE, \n",
    "       input = NULL)"
   ]
  },
  {
   "cell_type": "markdown",
   "metadata": {},
   "source": [
    "You should see the app running in the corresponding URL as above example, just change the name and navigate to that URL:\n",
    "\n",
    "  https://shiny.sgn.missouri.edu/students/YOUR_USERNAME/DATA-SCI-8654/module1-hello/\n",
    "\n",
    "--- \n",
    "\n",
    "Review the files here:\n",
    "  * [Day1/module1/labs/module1-hello/ui.R](./module1-hello/ui.R)\n",
    "  * [Day1/module1/labs/module1-hello/server.R](./module1-hello/ui.R)\n",
    "\n",
    "---\n"
   ]
  },
  {
   "cell_type": "markdown",
   "metadata": {},
   "source": [
    "### Brief Introduction to Reactive Programming \n",
    "\n",
    "We want our web Apps to be interactive; when we change the inputs, that should be reflected on the outputs. \n",
    "Shiny's solution for this is called *reactive programming*. \n",
    "\n",
    "When input values change any time, it is reflected to the output by using reactive values and expressions. \n",
    "A normal expression can be turned into a reactive expression by sending it to the *`reactive()`* function. \n",
    "\n",
    "Here is the `ui.R` and `server.R` scripts to show an example of reactive programming. "
   ]
  },
  {
   "cell_type": "markdown",
   "metadata": {
    "collapsed": true
   },
   "source": [
    "```\n",
    "# ui.R\n",
    "\n",
    "library(shiny)\n",
    "\n",
    "# Define UI for dataset viewer application\n",
    "shinyUI(fluidPage(\n",
    "  \n",
    "  # Application title\n",
    "  titlePanel(\"Shiny Text\"),\n",
    "  \n",
    "  # Sidebar with controls to select a dataset and specify the\n",
    "  # number of observations to view\n",
    "  sidebarLayout(\n",
    "    sidebarPanel(\n",
    "      selectInput(\"dataset\", \"Choose a dataset:\", \n",
    "                  choices = c(\"rock\", \"pressure\", \"cars\")),\n",
    "      \n",
    "      numericInput(\"obs\", \"Number of observations to view:\", 10)\n",
    "    ),\n",
    "    \n",
    "    # Show a summary of the dataset and an HTML table with the \n",
    "   # requested number of observations\n",
    "    mainPanel(\n",
    "      verbatimTextOutput(\"summary\"),\n",
    "      \n",
    "      tableOutput(\"view\")\n",
    "    )\n",
    "  )\n",
    "))\n",
    "```\n",
    "\n",
    "**Next is the server.R code:**"
   ]
  },
  {
   "cell_type": "markdown",
   "metadata": {
    "collapsed": true
   },
   "source": [
    "```\n",
    "# server.R\n",
    "\n",
    "library(shiny)\n",
    "library(datasets)\n",
    "\n",
    "# Define server logic required to summarize and view the selected\n",
    "# dataset\n",
    "shinyServer(function(input, output) {\n",
    "  \n",
    "  # Return the requested dataset\n",
    "  datasetInput <- reactive({\n",
    "    switch(input$dataset,\n",
    "           \"rock\" = rock,\n",
    "           \"pressure\" = pressure,\n",
    "           \"cars\" = cars)\n",
    "  })\n",
    "  \n",
    "  # Generate a summary of the dataset\n",
    "  output$summary <- renderPrint({\n",
    "    dataset <- datasetInput()\n",
    "    summary(dataset)\n",
    "  })\n",
    "  \n",
    "  # Show the first \"n\" observations\n",
    "  output$view <- renderTable({\n",
    "    head(datasetInput(), n = input$obs)\n",
    "  })\n",
    "})\n",
    "\n",
    "```"
   ]
  },
  {
   "cell_type": "markdown",
   "metadata": {},
   "source": [
    "When you deploy this code, you'll see that the output changes when you change the input fields in the web app. \n",
    "\n",
    "We will see more examples of reactive programming in the practices. \n",
    "The `ui.R` and `server.R` for this example are also already placed under **\"module1-reactive\"**, copy the deployment code from above, change the folder name and deploy this example. "
   ]
  },
  {
   "cell_type": "code",
   "execution_count": null,
   "metadata": {
    "collapsed": true
   },
   "outputs": [],
   "source": [
    "### TODO \n",
    "# Copy and paste the deploy code here and \n",
    "# change the folder name to module1-reactive \n",
    "# to deploy the app on the server.\n",
    "\n",
    "\n",
    "\n",
    "\n"
   ]
  },
  {
   "cell_type": "markdown",
   "metadata": {},
   "source": [
    "You should see it running at:\n",
    "\n",
    "  https://shiny.sgn.missouri.edu/students/YOUR_USERNAME/DATA-SCI-8654/module1-reactive/\n"
   ]
  },
  {
   "cell_type": "markdown",
   "metadata": {},
   "source": [
    "---\n",
    "\n",
    "# Save your notebook!"
   ]
  }
 ],
 "metadata": {
  "kernelspec": {
   "display_name": "R",
   "language": "R",
   "name": "ir"
  },
  "language_info": {
   "codemirror_mode": "r",
   "file_extension": ".r",
   "mimetype": "text/x-r-source",
   "name": "R",
   "pygments_lexer": "r",
   "version": "3.4.0"
  }
 },
 "nbformat": 4,
 "nbformat_minor": 1
}
