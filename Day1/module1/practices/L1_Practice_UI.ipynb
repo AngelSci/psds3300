{
 "cells": [
  {
   "cell_type": "markdown",
   "metadata": {},
   "source": [
    "# Module 1 Practice: User Interface \n",
    "\n",
    "In this practice, we will go through building simple user interfaces in Shiny using Shiny layouts as well as simple HTML elements. We will deploy our Shiny apps in a way similar to what we have seen in the Lab1 notebook. "
   ]
  },
  {
   "cell_type": "markdown",
   "metadata": {},
   "source": [
    "## Layout\n",
    "\n",
    "We know that a Shiny app has the following structure: "
   ]
  },
  {
   "cell_type": "markdown",
   "metadata": {
    "collapsed": true
   },
   "source": [
    "``` library(shiny)\n",
    "\n",
    "# Define UI ----\n",
    "ui <- fluidPage(\n",
    "  \n",
    ")\n",
    "\n",
    "# Define server logic ----\n",
    "server <- function(input, output) {\n",
    "  \n",
    "}\n",
    "```"
   ]
  },
  {
   "cell_type": "markdown",
   "metadata": {},
   "source": [
    "We can create our user interface by adding elements to the fluidPage() function. A common layout is the sidebarLayout() that we have seen in the lab notebook. It has a sidebar panel that is usually used for user input, and a main panel that is used for the display of visualization as text, table, or plots. The following code creates a title, a sidebar on the left, and a main panel on the right. "
   ]
  },
  {
   "cell_type": "markdown",
   "metadata": {
    "collapsed": true
   },
   "source": [
    "```\n",
    "ui <- fluidPage(\n",
    "  titlePanel(\"title panel\"),\n",
    "\n",
    "  sidebarLayout(\n",
    "    sidebarPanel(\"sidebar panel\"),\n",
    "    mainPanel(\"main panel\")\n",
    "  )\n",
    ")\n",
    "```"
   ]
  },
  {
   "cell_type": "markdown",
   "metadata": {},
   "source": [
    "We can swap the positions of the sidebar and the and the main panel by giving a position attribute. "
   ]
  },
  {
   "cell_type": "markdown",
   "metadata": {
    "collapsed": true
   },
   "source": [
    "```\n",
    "ui <- fluidPage(\n",
    "  titlePanel(\"title panel\"),\n",
    "  \n",
    "  sidebarLayout(position = \"right\",\n",
    "                sidebarPanel(\"sidebar panel\"),\n",
    "                mainPanel(\"main panel\")\n",
    "  )\n",
    ")\n",
    "```"
   ]
  },
  {
   "cell_type": "markdown",
   "metadata": {},
   "source": [
    "\n",
    "We can add more content to the panels by using HTML tag functions. For example, we can create a first level header by using ***h1()*** function which corresponds to the `<h1>` tag in HTML. Similarly, we can use ***p()*** function to create a paragraph just like `<p>` tag in HTML.  "
   ]
  },
  {
   "cell_type": "raw",
   "metadata": {
    "collapsed": true
   },
   "source": [
    "# ui.R\n",
    "\n",
    "library(shiny)\n",
    "\n",
    "ui <- fluidPage(\n",
    "  titlePanel(\"App title/name\"),\n",
    "  sidebarLayout(\n",
    "      \n",
    "    sidebarPanel(), # nothing in the sidebar for now.\n",
    "    mainPanel(\n",
    "      h1(\"Welcome\"),  \n",
    "      p(\"p creates a paragraph of text.\"),\n",
    "      p(\"A new p() command starts a new paragraph.\"),\n",
    "      strong(\"strong() makes bold text.\"),\n",
    "      em(\"em() creates italicized/emphasized text.\"),\n",
    "      div(\"div creates segments of text with a similar style. This division of text is blue because we used a style argument.\", style = \"color:blue\"),\n",
    "      a(href=\"http://shiny.rstudio.com\",\"a sample link here.\")\n",
    "    )\n",
    "  )\n",
    ")"
   ]
  },
  {
   "cell_type": "markdown",
   "metadata": {},
   "source": [
    "Let's deploy this code as module1-practice1.  \n",
    "**Remember how we do this in Lab 1:** \n",
    " * First create the `ui.R` file that contains the above code. \n",
    " * Then create the `server.R` file that does nothing\n",
    "\n",
    "Like below:"
   ]
  },
  {
   "cell_type": "raw",
   "metadata": {
    "collapsed": true
   },
   "source": [
    "# server.R\n",
    "\n",
    "server <- function(input, output) {\n",
    "  \n",
    "}"
   ]
  },
  {
   "cell_type": "markdown",
   "metadata": {},
   "source": [
    "Make sure to place these two files under folder **\"module1-practice1\"** in `practices` folder and **run the code in the following cell** here. \n",
    "\n",
    "**Note:** To create a file in a particular folder, navigate to the folder from the folder view in Jupyter (typically your first tab)\n",
    " * This time, click [here](./module1-practice1/).\n",
    " \n",
    "Then, you can use the **New** button, as you would to open a terminal and instead open a Text File. Be sure you click the name area and rename the file after you open it."
   ]
  },
  {
   "cell_type": "code",
   "execution_count": null,
   "metadata": {
    "collapsed": true
   },
   "outputs": [],
   "source": [
    "#DEPLOY TO SHINY SERVER\n",
    "dir <- getwd() #This gets the current Working Directory\n",
    "course <- \"DATA-SCI-8654\" #This is to specify the course path for the shiny server\n",
    "folder <- \"module1-practice1\" #This specifies the folder name to copy\n",
    "\n",
    "system(sprintf(\"/usr/local/bin/shiny_deploy %s %s %s\", course, dir,folder), \n",
    "       intern = TRUE,\n",
    "       ignore.stdout = FALSE, \n",
    "       ignore.stderr = FALSE,\n",
    "       wait = TRUE, \n",
    "       input = NULL)"
   ]
  },
  {
   "cell_type": "markdown",
   "metadata": {},
   "source": [
    "Note that the above deployment code works, because this notebook is in your ```practices``` folder, and the app folder ```module1-practice1``` is also under ```practices``` folder. Let's go see how the app runs in the Shiny server. Enter the following URL to your browser's address bar: \n",
    " \n",
    "  **https://shiny.sgn.missouri.edu/students/YOUR_USERNAME/DATA-SCI-8654/module1-practice1/**\n",
    "  "
   ]
  },
  {
   "cell_type": "markdown",
   "metadata": {},
   "source": [
    "\n",
    "\n",
    "Run the following code cell to see which HTML tags you can use in Shiny. "
   ]
  },
  {
   "cell_type": "code",
   "execution_count": null,
   "metadata": {
    "collapsed": true,
    "scrolled": true
   },
   "outputs": [],
   "source": [
    "library(shiny)\n",
    "names(tags)"
   ]
  },
  {
   "cell_type": "markdown",
   "metadata": {},
   "source": [
    "Some Shiny tags come with helper functions so that you can call them like we called ```h1()``` and ```p()``` above, for example. For others, you can use ```tags``` to access them like this:"
   ]
  },
  {
   "cell_type": "code",
   "execution_count": null,
   "metadata": {
    "collapsed": true
   },
   "outputs": [],
   "source": [
    "tags$h1(\"My header\")"
   ]
  },
  {
   "cell_type": "markdown",
   "metadata": {},
   "source": [
    "### <span style='background:yellow'> Your turn:</span>\n",
    "\n",
    "Create the following layout using what you have learned from the above example. \n",
    "Make sure to create and save the `ui.R` and `server.R` files to **\"module1-practice2\"** folder and deploy it to the Shiny server by modifying the above code cell and check it if you got it right on the server. \n",
    "\n",
    "**Note:** To create a file in a particular folder, navigate to the folder from the folder view in Jupyter (typically your first tab)\n",
    " * This time, click [here](./module1-practice2/).\n",
    " \n",
    "Then, you can use the **New** button, as you would to open a terminal and instead open a Text File. Be sure you click the name area and rename the file after you open it."
   ]
  },
  {
   "cell_type": "markdown",
   "metadata": {},
   "source": [
    "<img src=\"../images/layout1.png\">"
   ]
  },
  {
   "cell_type": "raw",
   "metadata": {
    "collapsed": true
   },
   "source": [
    "# ui.R \n",
    "# starter code for the practice. Add your own code to this. \n",
    "library(shiny)\n",
    "\n",
    "ui <- fluidPage(\n",
    "  titlePanel(\"My Shiny App\"),\n",
    "  sidebarLayout(\n",
    "      \n",
    "    sidebarPanel(), # nothing in the sidebar for now.\n",
    "    mainPanel(\n",
    "        # YOUR CODE HERE \n",
    "    )\n",
    "  )\n",
    ")"
   ]
  },
  {
   "cell_type": "raw",
   "metadata": {
    "collapsed": true
   },
   "source": [
    "# server.R\n",
    "# No need to add anything here, there is no functionality in this app, just the interface. \n",
    "server <- function(input, output) {\n",
    "  \n",
    "}"
   ]
  },
  {
   "cell_type": "code",
   "execution_count": null,
   "metadata": {
    "collapsed": true
   },
   "outputs": [],
   "source": [
    "# Run this cell to deploy AFTER you save the files in the folder\n",
    "#DEPLOY TO SHINY SERVER\n",
    "dir <- getwd() #This gets the current Working Directory\n",
    "course <- \"DATA-SCI-8654\" #This is to specify the course path for the shiny server\n",
    "folder <- \"module1-practice2\" #This specifies the folder name to copy\n",
    "\n",
    "system(sprintf(\"/usr/local/bin/shiny_deploy %s %s %s\", course, dir,folder), \n",
    "       intern = TRUE,\n",
    "       ignore.stdout = FALSE, \n",
    "       ignore.stderr = FALSE,\n",
    "       wait = TRUE, \n",
    "       input = NULL)"
   ]
  }
 ],
 "metadata": {
  "kernelspec": {
   "display_name": "R",
   "language": "R",
   "name": "ir"
  },
  "language_info": {
   "codemirror_mode": "r",
   "file_extension": ".r",
   "mimetype": "text/x-r-source",
   "name": "R",
   "pygments_lexer": "r",
   "version": "3.4.0"
  }
 },
 "nbformat": 4,
 "nbformat_minor": 1
}
