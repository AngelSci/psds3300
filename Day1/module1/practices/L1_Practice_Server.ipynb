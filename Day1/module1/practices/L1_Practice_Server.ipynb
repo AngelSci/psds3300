{
 "cells": [
  {
   "cell_type": "markdown",
   "metadata": {},
   "source": [
    "# Module 1 Practice: Server\n",
    "\n",
    "In this practice, we will see how to create the server code of our Shiny apps. Look at the L1_Practice_UI first, if you haven't done so. "
   ]
  },
  {
   "cell_type": "markdown",
   "metadata": {},
   "source": [
    "We know that a Shiny app has the following structure: "
   ]
  },
  {
   "cell_type": "raw",
   "metadata": {
    "collapsed": true
   },
   "source": [
    "library(shiny)\n",
    "\n",
    "# Define UI ----\n",
    "ui <- fluidPage(\n",
    "  \n",
    ")\n",
    "\n",
    "# Define server logic ----\n",
    "server <- function(input, output) {\n",
    "  \n",
    "}"
   ]
  },
  {
   "cell_type": "markdown",
   "metadata": {},
   "source": [
    "We know how to create a user interface from the UI practice notebook. Now, we focus on the server code. It is important to understand how code runs in a Shiny server script depending on *its location*. The server script has three locations to place the code in. **How frequently a code runs depends on those locations.** "
   ]
  },
  {
   "cell_type": "raw",
   "metadata": {
    "collapsed": true
   },
   "source": [
    "# server.R\n",
    "\n",
    "# FIRST place to put code \n",
    "\n",
    "server <- function(input, output) {\n",
    "    \n",
    "# SECOND place to put code \n",
    "    \n",
    "    output$map <- renderPlot ({\n",
    "        \n",
    "        # THIRD place to put code: in this example, it's a plot output.\n",
    "\n",
    "    })\n",
    "        \n",
    "    \n",
    "  }\n"
   ]
  },
  {
   "cell_type": "markdown",
   "metadata": {},
   "source": [
    "- Code that is placed in the **first** place (i.e. before the server functions) runs only **once** when the app is launched for the **first time** by *any* user. This is a good place to put the code that should run only once such as loading libraries, loading data sets, preprocessing data sets, etc. Any computationally heavy code should be put here so that the app does not slow down during interactive session. \n",
    "\n",
    "- Code that is placed in the **second** place (i.e. inside server function, but outside of any interface functions) runs **once each time a new user visits the app**.  This code will run once and save a distinct set of reactive objects for each user. Any session or user related data should be handled here as we will see later. \n",
    "\n",
    "- Code that is placed in the **third** place (i.e. inside of a function that depends on user input or any reactive variable) runs **every time** the user changes the user interface widget that this particular output depends upon. We should not put unnecessary code here in order not to slow down the app. \n",
    "\n",
    "## Render and Output\n",
    "\n",
    "Shiny renders different types of outputs to visualize data. UI code contains the **output** functions for text, data table, plot, and image visualizations. These output functions are placeholders in the Web app, and will display data coming from  their corresponding **render** functions in the server code. For example, to have a text output, we use `textOutput()` function in ui.R that will display the data coming from the `renderPrint()` function in server.R, and similarly `plotOutput()` depends on `renderPlot()` and so on. \n",
    "\n",
    "We have seen an example of data table output in the lab notebook; the following shows how these functions are connected to each other: "
   ]
  },
  {
   "cell_type": "raw",
   "metadata": {
    "collapsed": true
   },
   "source": [
    "# ui.R\n",
    "library(shiny)\n",
    "ui <- fluidPage(\n",
    "  \n",
    "sidebarLayout(\n",
    " sidebarPanel(),\n",
    "    \n",
    " mainPanel(\n",
    " dataTableOutput(\"dataOutput\") # this shows where the output goes fom the render function in server. \n",
    " )\n",
    " \n",
    "))\n",
    "    \n",
    "# server.R\n",
    "server <- function(input, output) {\n",
    " \n",
    "    output$dataOutput <- renderDataTable(mtcars) # using the same label \"dataOutput\", this tells how to render the output.  \n",
    "}"
   ]
  },
  {
   "cell_type": "markdown",
   "metadata": {},
   "source": [
    "As you can see, these two functions relate to each other by using the same given name/label **\"dataOutput\"**. You can give any variable name of your choosing in the Output functions of UI code; and that same variable name will be a field in the **`output` variable** in the server function to provide a connection to the UI.   \n",
    "\n",
    "Let's see an example that also uses an **`input`** variable in UI to send user input back to the server code as well as plotting functions. Pay attention to reactive expressions; they are used as functions, not as variables (e.g. formulaText**()**)."
   ]
  },
  {
   "cell_type": "raw",
   "metadata": {
    "collapsed": true
   },
   "source": [
    "# ui.R \n",
    "library(shiny)\n",
    "\n",
    "# Define UI for miles per gallon app \n",
    "ui <- fluidPage(\n",
    "\n",
    "  # App title \n",
    "  titlePanel(\"Miles Per Gallon\"),\n",
    "\n",
    "  sidebarLayout(\n",
    "\n",
    "    # Sidebar panel for inputs\n",
    "    sidebarPanel(\n",
    "\n",
    "      # Input: Selector for variable to plot against mpg\n",
    "      selectInput(\"variable\", \"Variable:\",    # \"variable\" is the label for this widget\n",
    "                  c(\"Cylinders\" = \"cyl\",\n",
    "                    \"Transmission\" = \"am\",\n",
    "                    \"Gears\" = \"gear\")),\n",
    "\n",
    "      # Input: Checkbox for whether outliers should be included \n",
    "      checkboxInput(\"outliers\", \"Show outliers\", TRUE) # \"outliers\" is the label for this widget\n",
    "\n",
    "    ),\n",
    "\n",
    "    # Main panel for displaying outputs\n",
    "    mainPanel(\n",
    "\n",
    "      # Output: Formatted text for caption\n",
    "      h3(textOutput(\"caption\")), # \"caption\" is the label for this widget\n",
    "\n",
    "      # Output: Plot of the requested variable against mpg\n",
    "      plotOutput(\"mpgPlot\")\n",
    "\n",
    "    )\n",
    "  )\n",
    ")"
   ]
  },
  {
   "cell_type": "raw",
   "metadata": {
    "collapsed": true
   },
   "source": [
    "# server.R\n",
    "\n",
    "library(shiny)\n",
    "library(datasets)\n",
    "\n",
    "# Data pre-processing\n",
    "# Tweak the \"am\" variable to have nicer factor labels\n",
    "\n",
    "# Since this doesn't rely on any user inputs, we can do this once at\n",
    "# startup and then use the value throughout the lifetime of the app.\n",
    "mpgData <- mtcars\n",
    "mpgData$am <- factor(mpgData$am, labels = c(\"Automatic\", \"Manual\"))\n",
    "\n",
    "\n",
    "# Define server logic to plot various variables against mpg \n",
    "\n",
    "# input and output variables of this function provide communication with the UI above. \n",
    "server <- function(input, output) {\n",
    "\n",
    "  # Compute the formula text \n",
    "  # This is in a reactive expression since it is shared by the\n",
    "  # output$caption and output$mpgPlot functions\n",
    "  formulaText <- reactive({\n",
    "    paste(\"mpg ~\", input$variable)\n",
    "  })\n",
    "\n",
    "  # Return the formula text to UI for printing as a caption \n",
    "  output$caption <- renderText({\n",
    "    formulaText()\n",
    "  })\n",
    "\n",
    "  # Generate a plot of the requested variable against mpg\n",
    "  # and exclude outliers if requested.\n",
    "  output$mpgPlot <- renderPlot({\n",
    "    boxplot(as.formula(formulaText()),\n",
    "            data = mpgData,\n",
    "            outline = input$outliers,\n",
    "            col = \"#75AADB\", pch = 19)\n",
    "  })\n",
    "\n",
    "}"
   ]
  },
  {
   "cell_type": "markdown",
   "metadata": {},
   "source": [
    "<span style='background:yellow'>Make sure to place the files under folder **\"module1-practice3\"** and deploy them.</span>"
   ]
  },
  {
   "cell_type": "code",
   "execution_count": null,
   "metadata": {
    "collapsed": true
   },
   "outputs": [],
   "source": [
    "#DEPLOY TO SHINY SERVER\n",
    "dir <- getwd() #This gets the current Working Directory\n",
    "course <- \"DATA-SCI-8654\" #This is to specify the course path for the shiny server\n",
    "folder <- \"module1-practice3\" #This specifies the folder name to copy\n",
    "\n",
    "system(sprintf(\"/usr/local/bin/shiny_deploy %s %s %s\", course, dir,folder), \n",
    "       intern = TRUE,\n",
    "       ignore.stdout = FALSE, \n",
    "       ignore.stderr = FALSE,\n",
    "       wait = TRUE, \n",
    "       input = NULL)"
   ]
  },
  {
   "cell_type": "markdown",
   "metadata": {},
   "source": [
    "Let's go see how it runs. Enter the following URL to your browser's address bar: \n",
    " \n",
    "  https://shiny.sgn.missouri.edu/students/YOUR_USERNAME/DATA-SCI-8654/module1-practice3/\n",
    "  \n",
    "\n",
    "### Checking the error logs \n",
    "\n",
    "If you make a mistake, you'll see an error message in the Shiny app output when you try to run it; it will tell you to check the error logs. \n",
    "The error logs are located at **`~/ShinyApps/log/`** folder. \n",
    "  \n",
    "You can run a terminal and navigate to that folder with `cd` command, and you will see a text file named something like **`module1-practice3-YOUR_USERNAME-DATE-ETC.log`**. \n",
    "You can look at that text file by running the `cat` command in the terminal window, and you'll see what went wrong with your app. \n",
    "  \n",
    "\n",
    "Also, if you go to `~/ShinyApps/DATA-SCI-8654` folder, you'll see your deployed apps in several folders named same way as the app folders under your module folders. "
   ]
  },
  {
   "cell_type": "markdown",
   "metadata": {},
   "source": [
    "\n",
    "  \n",
    "### <span style='background:yellow'>Now your turn:</span>\n",
    "\n",
    "Modify the above app to do the same using ggplot library. We will use the exact same ui.R as the interface does not depend on which library we use to plot data. We will modify the server.R in order to use geom_boxplot of ggplot. First we add library to the server.R: \n",
    "\n",
    "```\n",
    "library(ggplot2)\n",
    "```\n",
    "\n",
    "Then we change the inside of ```renderPlot()``` function to call the ggplot: \n",
    "\n",
    "```\n",
    "p <- ggplot(mpgData, aes(x= ... , y= ...)) + geom_boxplot()\n",
    "print(p)\n",
    "```\n",
    "\n",
    "We use the ```print()``` function inside the ```renderPlot```; this is usually how the ggplot object is sent to the Shiny's function. \n",
    "\n",
    "Pay attention to the **```aes()```**; normally we put the attribute names there such as : \n",
    "\n",
    "```\n",
    "aes(x=gear, y=mpg)\n",
    "```\n",
    "\n",
    "In Shiny, if we want these attribute names to be selected by user, we need to supply the string chosen by the user such as: \n",
    "\n",
    "```\n",
    "aes(x=input$variable, y=mpg)\n",
    "```\n",
    "\n",
    "This way you can pass the attribute name in the variable, but this will produce an error; you have to use **aes_string()** instead: \n",
    "\n",
    "```\n",
    "aes_string(x=input$variable, y=mpg)\n",
    "```\n",
    "\n",
    "This still gives error, because ```mpg``` is not a string, it's an attribute name. We fix it easily:\n",
    "\n",
    "```\n",
    "aes_string(x=input$variable, y=\"mpg\")\n",
    "```\n",
    "\n",
    "Now it should work: \n",
    "\n",
    "```\n",
    "p <- ggplot(mpgData, aes_string(x=input$variable, y=\"mpg\")) + geom_boxplot()\n",
    "print(p)\n",
    "```\n",
    "\n",
    "Let's see the whole server.R content : \n",
    "\n",
    "\n"
   ]
  },
  {
   "cell_type": "raw",
   "metadata": {
    "collapsed": true
   },
   "source": [
    "# server.R\n",
    "\n",
    "library(shiny)\n",
    "library(ggplot2)\n",
    "library(datasets)\n",
    "\n",
    "# Data pre-processing\n",
    "# Tweak the \"am\" variable to have nicer factor labels\n",
    "\n",
    "# Since this doesn't rely on any user inputs, we can do this once at\n",
    "# startup and then use the value throughout the lifetime of the app.\n",
    "mpgData <- mtcars\n",
    "mpgData$am <- factor(mpgData$am, labels = c(\"Automatic\", \"Manual\"))\n",
    "\n",
    "\n",
    "# Define server logic to plot various variables against mpg \n",
    "\n",
    "# input and output variables of this function provide communication with the UI above. \n",
    "server <- function(input, output) {\n",
    "\n",
    "  # Compute the formula text \n",
    "  # This is in a reactive expression since it is shared by the\n",
    "  # output$caption and output$mpgPlot functions\n",
    "  formulaText <- reactive({\n",
    "    paste(\"mpg ~\", input$variable)\n",
    "  })\n",
    "\n",
    "  # Return the formula text to UI for printing as a caption \n",
    "  output$caption <- renderText({\n",
    "    formulaText()\n",
    "  })\n",
    "\n",
    "  # Generate a plot of the requested variable against mpg\n",
    "  # and exclude outliers if requested.\n",
    "  output$mpgPlot <- renderPlot({\n",
    "      \n",
    "      p <- ggplot(mpgData, aes_string(x=input$variable, y=\"mpg\")) + geom_boxplot()\n",
    "      print(p)\n",
    "      \n",
    "  })\n",
    "\n",
    "}"
   ]
  },
  {
   "cell_type": "markdown",
   "metadata": {},
   "source": [
    "What do we do with the ```input$outliers``` ? There is a way incorporate it into the plot:\n",
    "\n",
    "```\n",
    "geom_boxplot(outlier.shape = NA)\n",
    "```\n",
    "\n",
    "We need another trick to use it with the ```input$outliers``` as we can't directly assign the variable to the shape: \n",
    "\n",
    "```\n",
    "   p <- ggplot(mpgData, aes_string(x=input$variable, y=\"mpg\")) \n",
    "   \n",
    "   if (input$outliers) {   \n",
    "     p <- p + geom_boxplot()\n",
    "   } else {\n",
    "     p <- p + geom_boxplot(outlier.shape = NA)\n",
    "   }\n",
    "   print(p)\n",
    "```\n",
    "\n",
    "This way we can add either one or the other boxplot geom. \n",
    "\n",
    "Write this code into server.R and copy the ui.R from above and place them under **```module1-practice4```** and deploy them. Then check the app to see if you got it right. \n",
    "\n"
   ]
  },
  {
   "cell_type": "code",
   "execution_count": null,
   "metadata": {
    "collapsed": true
   },
   "outputs": [],
   "source": [
    "### Add your Code Here to Deploy the Shiny App\n",
    "### -------------------------------------------\n",
    "\n",
    "\n",
    "\n",
    "\n",
    "\n"
   ]
  },
  {
   "cell_type": "markdown",
   "metadata": {},
   "source": [
    "\n",
    "**Do you see a problem ? **\n",
    "\n",
    "We need to turn ```cyl``` and ```gear``` into factors, too. Add these two lines right after ```mpgData <- mtcars``` and deploy and run again:\n",
    "\n",
    "```\n",
    "mpgData$cyl <- factor(mpgData$cyl)\n",
    "mpgData$gear <- factor(mpgData$gear)\n",
    "```"
   ]
  },
  {
   "cell_type": "markdown",
   "metadata": {},
   "source": [
    "# Save your notebook"
   ]
  }
 ],
 "metadata": {
  "kernelspec": {
   "display_name": "R",
   "language": "R",
   "name": "ir"
  },
  "language_info": {
   "codemirror_mode": "r",
   "file_extension": ".r",
   "mimetype": "text/x-r-source",
   "name": "R",
   "pygments_lexer": "r",
   "version": "3.4.0"
  }
 },
 "nbformat": 4,
 "nbformat_minor": 1
}
