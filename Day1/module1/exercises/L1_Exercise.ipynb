{
 "cells": [
  {
   "cell_type": "markdown",
   "metadata": {},
   "source": [
    "# Module 1 Exercise\n",
    "\n",
    "In this exercise, you will create a simple Shiny app that displays a scatter plot of price vs. carat for `diamonds` data set. \n",
    "\n",
    "**Exercise 1: ** Make sure you create the ui.R and server.R files and save them in a folder named **`module1-exercise1`** under your ***```exercises```*** folder, and deploy them. \n",
    "\n"
   ]
  },
  {
   "cell_type": "code",
   "execution_count": null,
   "metadata": {
    "collapsed": true
   },
   "outputs": [],
   "source": [
    "# This is how you would display it in a Jupyter notebook. \n",
    "#  Place this code into the ui.R and server.R files appropriately. \n",
    "\n",
    "library(ggplot2)\n",
    "data(\"diamonds\")\n",
    "ggplot(diamonds, aes(x=carat, y=price)) + geom_point()\n"
   ]
  },
  {
   "cell_type": "markdown",
   "metadata": {},
   "source": [
    "---\n",
    "\n",
    "**Note: Update and run cell at the end of this notebook for deployments as often as needed**\n",
    "\n",
    "---\n",
    "**Exercise 2: ** Create a second app by modifying your code to have an **input** in your user interface. Place a widget to choose `carat` or `depth` in the interface, and plot either price vs. carat or price vs. depth in the output. Make sure you create the ui.R and server.R files, and save them in a folder named **`module1-exercise2`** and deploy them. \n",
    "\n",
    "Hint: Use selectInput in the UI, and make sure you use ```aes_string``` instead of ```aes``` in ggplot, because you'll be using an input variable in aesthetics. \n",
    "\n",
    "---\n"
   ]
  },
  {
   "cell_type": "code",
   "execution_count": null,
   "metadata": {
    "collapsed": true
   },
   "outputs": [],
   "source": [
    "#DEPLOY CODE for your exercises\n",
    "dir <- getwd() #This gets the current Working Directory\n",
    "course <- \"DATA-SCI-8654\" #This is to specify the course path for the shiny server\n",
    "folder <- \"module1-exercise1\" #This specifies the folder name to copy\n",
    "#folder <- \"module1-exercise2\" #This specifies the folder name to copy\n",
    "\n",
    "system(sprintf(\"/usr/local/bin/shiny_deploy %s %s %s\", course, dir,folder), \n",
    "       intern = TRUE,\n",
    "       ignore.stdout = FALSE, \n",
    "       ignore.stderr = FALSE,\n",
    "       wait = TRUE, \n",
    "       input = NULL)"
   ]
  },
  {
   "cell_type": "markdown",
   "metadata": {},
   "source": [
    "## Verify your two applications are running and enter the ShinyApp URL in the cells below\n"
   ]
  },
  {
   "cell_type": "raw",
   "metadata": {},
   "source": [
    "# 1 Exercise URL:"
   ]
  },
  {
   "cell_type": "raw",
   "metadata": {},
   "source": [
    "# 2 Exercise URL:"
   ]
  },
  {
   "cell_type": "markdown",
   "metadata": {},
   "source": [
    "---"
   ]
  }
 ],
 "metadata": {
  "kernelspec": {
   "display_name": "R",
   "language": "R",
   "name": "ir"
  },
  "language_info": {
   "codemirror_mode": "r",
   "file_extension": ".r",
   "mimetype": "text/x-r-source",
   "name": "R",
   "pygments_lexer": "r",
   "version": "3.4.0"
  }
 },
 "nbformat": 4,
 "nbformat_minor": 1
}
