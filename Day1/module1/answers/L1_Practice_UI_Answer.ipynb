{
 "cells": [
  {
   "cell_type": "markdown",
   "metadata": {},
   "source": [
    "# Module 1 Practice: User Interface \n",
    "\n",
    "In this practice, we will go through building simple user interfaces in Shiny using Shiny layouts as well as simple HTML elements. We will deploy our Shiny apps in a way similar to what we have seen in the Lab1 notebook. "
   ]
  },
  {
   "cell_type": "markdown",
   "metadata": {},
   "source": [
    "## Layout\n",
    "\n",
    "We know that a Shiny app has the following structure: "
   ]
  },
  {
   "cell_type": "code",
   "execution_count": null,
   "metadata": {
    "collapsed": true
   },
   "outputs": [],
   "source": [
    "library(shiny)\n",
    "\n",
    "# Define UI ----\n",
    "ui <- fluidPage(\n",
    "  \n",
    ")\n",
    "\n",
    "# Define server logic ----\n",
    "server <- function(input, output) {\n",
    "  \n",
    "}"
   ]
  },
  {
   "cell_type": "markdown",
   "metadata": {},
   "source": [
    "We can create our user interface by adding elements to the fluidPage() function. A common layout is the sidebarLayout() that we have seen in the lab notebook. It has a sidebar panel that is usually used for user input, and a main panel that is used for the display of visualization as text, table, or plots. The following code creates a title, a sidebar on the left, and a main panel on the right. "
   ]
  },
  {
   "cell_type": "code",
   "execution_count": null,
   "metadata": {
    "collapsed": true
   },
   "outputs": [],
   "source": [
    "ui <- fluidPage(\n",
    "  titlePanel(\"title panel\"),\n",
    "\n",
    "  sidebarLayout(\n",
    "    sidebarPanel(\"sidebar panel\"),\n",
    "    mainPanel(\"main panel\")\n",
    "  )\n",
    ")"
   ]
  },
  {
   "cell_type": "markdown",
   "metadata": {},
   "source": [
    "We can swap the positions of the sidebar and the and the main panel by giving a position attribute. "
   ]
  },
  {
   "cell_type": "code",
   "execution_count": null,
   "metadata": {
    "collapsed": true
   },
   "outputs": [],
   "source": [
    "ui <- fluidPage(\n",
    "  titlePanel(\"title panel\"),\n",
    "  \n",
    "  sidebarLayout(position = \"right\",\n",
    "                sidebarPanel(\"sidebar panel\"),\n",
    "                mainPanel(\"main panel\")\n",
    "  )\n",
    ")"
   ]
  },
  {
   "cell_type": "markdown",
   "metadata": {},
   "source": [
    "\n",
    "We can add more content to the panels by using HTML tag functions. For example, we can create a first level header by using ***h1()*** function which corresponds to the `<h1>` tag in HTML. Similarly, we can use ***p()*** function to create a paragraph just like `<p>` tag in HTML.  "
   ]
  },
  {
   "cell_type": "code",
   "execution_count": null,
   "metadata": {
    "collapsed": true
   },
   "outputs": [],
   "source": [
    "# ui.R\n",
    "\n",
    "library(shiny)\n",
    "\n",
    "ui <- fluidPage(\n",
    "  titlePanel(\"App title/name\"),\n",
    "  sidebarLayout(\n",
    "      \n",
    "    sidebarPanel(), # nothing in the sidebar for now.\n",
    "    mainPanel(\n",
    "      h1(\"Welcome\"),  \n",
    "      p(\"p creates a paragraph of text.\"),\n",
    "      p(\"A new p() command starts a new paragraph.\"),\n",
    "      strong(\"strong() makes bold text.\"),\n",
    "      em(\"em() creates italicized/emphasized text.\"),\n",
    "      div(\"div creates segments of text with a similar style. This division of text is blue because we used a style argument.\", style = \"color:blue\"),\n",
    "      a(href=\"http://shiny.rstudio.com\",\"a sample link here.\")\n",
    "    )\n",
    "  )\n",
    ")"
   ]
  },
  {
   "cell_type": "markdown",
   "metadata": {},
   "source": [
    "Let's deploy this code as module1-practice1. Remember how we do this in lab1: First create the ui.R file that contains the above code, then create the server.R file that does nothing. "
   ]
  },
  {
   "cell_type": "code",
   "execution_count": 1,
   "metadata": {
    "collapsed": true
   },
   "outputs": [],
   "source": [
    "# server.R\n",
    "\n",
    "server <- function(input, output) {\n",
    "  \n",
    "}"
   ]
  },
  {
   "cell_type": "markdown",
   "metadata": {},
   "source": [
    "Make sure to place these two files under folder ```module1-practice1``` in ```practices``` folder and **run the code in the following cell** here. "
   ]
  },
  {
   "cell_type": "code",
   "execution_count": 1,
   "metadata": {},
   "outputs": [
    {
     "data": {
      "text/html": [
       "<ol class=list-inline>\n",
       "\t<li>'sending incremental file list'</li>\n",
       "\t<li>'deleting module1-practice1/untitled.txt'</li>\n",
       "\t<li>'module1-practice1/'</li>\n",
       "\t<li>''</li>\n",
       "\t<li><span style=white-space:pre-wrap>'sent 132 bytes  received 50 bytes  364.00 bytes/sec'</span></li>\n",
       "\t<li><span style=white-space:pre-wrap>'total size is 660  speedup is 3.63'</span></li>\n",
       "</ol>\n"
      ],
      "text/latex": [
       "\\begin{enumerate*}\n",
       "\\item 'sending incremental file list'\n",
       "\\item 'deleting module1-practice1/untitled.txt'\n",
       "\\item 'module1-practice1/'\n",
       "\\item ''\n",
       "\\item 'sent 132 bytes  received 50 bytes  364.00 bytes/sec'\n",
       "\\item 'total size is 660  speedup is 3.63'\n",
       "\\end{enumerate*}\n"
      ],
      "text/markdown": [
       "1. 'sending incremental file list'\n",
       "2. 'deleting module1-practice1/untitled.txt'\n",
       "3. 'module1-practice1/'\n",
       "4. ''\n",
       "5. <span style=white-space:pre-wrap>'sent 132 bytes  received 50 bytes  364.00 bytes/sec'</span>\n",
       "6. <span style=white-space:pre-wrap>'total size is 660  speedup is 3.63'</span>\n",
       "\n",
       "\n"
      ],
      "text/plain": [
       "[1] \"sending incremental file list\"                      \n",
       "[2] \"deleting module1-practice1/untitled.txt\"            \n",
       "[3] \"module1-practice1/\"                                 \n",
       "[4] \"\"                                                   \n",
       "[5] \"sent 132 bytes  received 50 bytes  364.00 bytes/sec\"\n",
       "[6] \"total size is 660  speedup is 3.63\"                 "
      ]
     },
     "metadata": {},
     "output_type": "display_data"
    }
   ],
   "source": [
    "#DEPLOY TO SHINY SERVER\n",
    "dir <- getwd() #This gets the current Working Directory\n",
    "course <- \"DATA-SCI-8654\" #This is to specify the course path for the shiny server\n",
    "folder <- \"module1-practice1\" #This specifies the folder name to copy\n",
    "\n",
    "system(sprintf(\"/usr/local/bin/shiny_deploy %s %s %s\", course, dir,folder), \n",
    "       intern = TRUE,\n",
    "       ignore.stdout = FALSE, \n",
    "       ignore.stderr = FALSE,\n",
    "       wait = TRUE, \n",
    "       input = NULL)"
   ]
  },
  {
   "cell_type": "markdown",
   "metadata": {},
   "source": [
    "Note that the above deployment code works, because this notebook is in your ```practices``` folder, and the app folder ```module1-practice1``` is also under ```practices``` folder. Let's go see how the app runs in the Shiny server. Enter the following URL to your browser's address bar: \n",
    " \n",
    "  **shiny.dsa.missouri.edu/students/YOUR_USERNAME/DATA-SCI-8654/module1-practice1/**\n",
    "  "
   ]
  },
  {
   "cell_type": "markdown",
   "metadata": {},
   "source": [
    "\n",
    "\n",
    "Run the following code cell to see which HTML tags you can use in Shiny. "
   ]
  },
  {
   "cell_type": "code",
   "execution_count": 8,
   "metadata": {},
   "outputs": [
    {
     "data": {
      "text/html": [
       "<ol class=list-inline>\n",
       "\t<li>'a'</li>\n",
       "\t<li>'abbr'</li>\n",
       "\t<li>'address'</li>\n",
       "\t<li>'area'</li>\n",
       "\t<li>'article'</li>\n",
       "\t<li>'aside'</li>\n",
       "\t<li>'audio'</li>\n",
       "\t<li>'b'</li>\n",
       "\t<li>'base'</li>\n",
       "\t<li>'bdi'</li>\n",
       "\t<li>'bdo'</li>\n",
       "\t<li>'blockquote'</li>\n",
       "\t<li>'body'</li>\n",
       "\t<li>'br'</li>\n",
       "\t<li>'button'</li>\n",
       "\t<li>'canvas'</li>\n",
       "\t<li>'caption'</li>\n",
       "\t<li>'cite'</li>\n",
       "\t<li>'code'</li>\n",
       "\t<li>'col'</li>\n",
       "\t<li>'colgroup'</li>\n",
       "\t<li>'command'</li>\n",
       "\t<li>'data'</li>\n",
       "\t<li>'datalist'</li>\n",
       "\t<li>'dd'</li>\n",
       "\t<li>'del'</li>\n",
       "\t<li>'details'</li>\n",
       "\t<li>'dfn'</li>\n",
       "\t<li>'div'</li>\n",
       "\t<li>'dl'</li>\n",
       "\t<li>'dt'</li>\n",
       "\t<li>'em'</li>\n",
       "\t<li>'embed'</li>\n",
       "\t<li>'eventsource'</li>\n",
       "\t<li>'fieldset'</li>\n",
       "\t<li>'figcaption'</li>\n",
       "\t<li>'figure'</li>\n",
       "\t<li>'footer'</li>\n",
       "\t<li>'form'</li>\n",
       "\t<li>'h1'</li>\n",
       "\t<li>'h2'</li>\n",
       "\t<li>'h3'</li>\n",
       "\t<li>'h4'</li>\n",
       "\t<li>'h5'</li>\n",
       "\t<li>'h6'</li>\n",
       "\t<li>'head'</li>\n",
       "\t<li>'header'</li>\n",
       "\t<li>'hgroup'</li>\n",
       "\t<li>'hr'</li>\n",
       "\t<li>'html'</li>\n",
       "\t<li>'i'</li>\n",
       "\t<li>'iframe'</li>\n",
       "\t<li>'img'</li>\n",
       "\t<li>'input'</li>\n",
       "\t<li>'ins'</li>\n",
       "\t<li>'kbd'</li>\n",
       "\t<li>'keygen'</li>\n",
       "\t<li>'label'</li>\n",
       "\t<li>'legend'</li>\n",
       "\t<li>'li'</li>\n",
       "\t<li>'link'</li>\n",
       "\t<li>'mark'</li>\n",
       "\t<li>'map'</li>\n",
       "\t<li>'menu'</li>\n",
       "\t<li>'meta'</li>\n",
       "\t<li>'meter'</li>\n",
       "\t<li>'nav'</li>\n",
       "\t<li>'noscript'</li>\n",
       "\t<li>'object'</li>\n",
       "\t<li>'ol'</li>\n",
       "\t<li>'optgroup'</li>\n",
       "\t<li>'option'</li>\n",
       "\t<li>'output'</li>\n",
       "\t<li>'p'</li>\n",
       "\t<li>'param'</li>\n",
       "\t<li>'pre'</li>\n",
       "\t<li>'progress'</li>\n",
       "\t<li>'q'</li>\n",
       "\t<li>'ruby'</li>\n",
       "\t<li>'rp'</li>\n",
       "\t<li>'rt'</li>\n",
       "\t<li>'s'</li>\n",
       "\t<li>'samp'</li>\n",
       "\t<li>'script'</li>\n",
       "\t<li>'section'</li>\n",
       "\t<li>'select'</li>\n",
       "\t<li>'small'</li>\n",
       "\t<li>'source'</li>\n",
       "\t<li>'span'</li>\n",
       "\t<li>'strong'</li>\n",
       "\t<li>'style'</li>\n",
       "\t<li>'sub'</li>\n",
       "\t<li>'summary'</li>\n",
       "\t<li>'sup'</li>\n",
       "\t<li>'table'</li>\n",
       "\t<li>'tbody'</li>\n",
       "\t<li>'td'</li>\n",
       "\t<li>'textarea'</li>\n",
       "\t<li>'tfoot'</li>\n",
       "\t<li>'th'</li>\n",
       "\t<li>'thead'</li>\n",
       "\t<li>'time'</li>\n",
       "\t<li>'title'</li>\n",
       "\t<li>'tr'</li>\n",
       "\t<li>'track'</li>\n",
       "\t<li>'u'</li>\n",
       "\t<li>'ul'</li>\n",
       "\t<li>'var'</li>\n",
       "\t<li>'video'</li>\n",
       "\t<li>'wbr'</li>\n",
       "</ol>\n"
      ],
      "text/latex": [
       "\\begin{enumerate*}\n",
       "\\item 'a'\n",
       "\\item 'abbr'\n",
       "\\item 'address'\n",
       "\\item 'area'\n",
       "\\item 'article'\n",
       "\\item 'aside'\n",
       "\\item 'audio'\n",
       "\\item 'b'\n",
       "\\item 'base'\n",
       "\\item 'bdi'\n",
       "\\item 'bdo'\n",
       "\\item 'blockquote'\n",
       "\\item 'body'\n",
       "\\item 'br'\n",
       "\\item 'button'\n",
       "\\item 'canvas'\n",
       "\\item 'caption'\n",
       "\\item 'cite'\n",
       "\\item 'code'\n",
       "\\item 'col'\n",
       "\\item 'colgroup'\n",
       "\\item 'command'\n",
       "\\item 'data'\n",
       "\\item 'datalist'\n",
       "\\item 'dd'\n",
       "\\item 'del'\n",
       "\\item 'details'\n",
       "\\item 'dfn'\n",
       "\\item 'div'\n",
       "\\item 'dl'\n",
       "\\item 'dt'\n",
       "\\item 'em'\n",
       "\\item 'embed'\n",
       "\\item 'eventsource'\n",
       "\\item 'fieldset'\n",
       "\\item 'figcaption'\n",
       "\\item 'figure'\n",
       "\\item 'footer'\n",
       "\\item 'form'\n",
       "\\item 'h1'\n",
       "\\item 'h2'\n",
       "\\item 'h3'\n",
       "\\item 'h4'\n",
       "\\item 'h5'\n",
       "\\item 'h6'\n",
       "\\item 'head'\n",
       "\\item 'header'\n",
       "\\item 'hgroup'\n",
       "\\item 'hr'\n",
       "\\item 'html'\n",
       "\\item 'i'\n",
       "\\item 'iframe'\n",
       "\\item 'img'\n",
       "\\item 'input'\n",
       "\\item 'ins'\n",
       "\\item 'kbd'\n",
       "\\item 'keygen'\n",
       "\\item 'label'\n",
       "\\item 'legend'\n",
       "\\item 'li'\n",
       "\\item 'link'\n",
       "\\item 'mark'\n",
       "\\item 'map'\n",
       "\\item 'menu'\n",
       "\\item 'meta'\n",
       "\\item 'meter'\n",
       "\\item 'nav'\n",
       "\\item 'noscript'\n",
       "\\item 'object'\n",
       "\\item 'ol'\n",
       "\\item 'optgroup'\n",
       "\\item 'option'\n",
       "\\item 'output'\n",
       "\\item 'p'\n",
       "\\item 'param'\n",
       "\\item 'pre'\n",
       "\\item 'progress'\n",
       "\\item 'q'\n",
       "\\item 'ruby'\n",
       "\\item 'rp'\n",
       "\\item 'rt'\n",
       "\\item 's'\n",
       "\\item 'samp'\n",
       "\\item 'script'\n",
       "\\item 'section'\n",
       "\\item 'select'\n",
       "\\item 'small'\n",
       "\\item 'source'\n",
       "\\item 'span'\n",
       "\\item 'strong'\n",
       "\\item 'style'\n",
       "\\item 'sub'\n",
       "\\item 'summary'\n",
       "\\item 'sup'\n",
       "\\item 'table'\n",
       "\\item 'tbody'\n",
       "\\item 'td'\n",
       "\\item 'textarea'\n",
       "\\item 'tfoot'\n",
       "\\item 'th'\n",
       "\\item 'thead'\n",
       "\\item 'time'\n",
       "\\item 'title'\n",
       "\\item 'tr'\n",
       "\\item 'track'\n",
       "\\item 'u'\n",
       "\\item 'ul'\n",
       "\\item 'var'\n",
       "\\item 'video'\n",
       "\\item 'wbr'\n",
       "\\end{enumerate*}\n"
      ],
      "text/markdown": [
       "1. 'a'\n",
       "2. 'abbr'\n",
       "3. 'address'\n",
       "4. 'area'\n",
       "5. 'article'\n",
       "6. 'aside'\n",
       "7. 'audio'\n",
       "8. 'b'\n",
       "9. 'base'\n",
       "10. 'bdi'\n",
       "11. 'bdo'\n",
       "12. 'blockquote'\n",
       "13. 'body'\n",
       "14. 'br'\n",
       "15. 'button'\n",
       "16. 'canvas'\n",
       "17. 'caption'\n",
       "18. 'cite'\n",
       "19. 'code'\n",
       "20. 'col'\n",
       "21. 'colgroup'\n",
       "22. 'command'\n",
       "23. 'data'\n",
       "24. 'datalist'\n",
       "25. 'dd'\n",
       "26. 'del'\n",
       "27. 'details'\n",
       "28. 'dfn'\n",
       "29. 'div'\n",
       "30. 'dl'\n",
       "31. 'dt'\n",
       "32. 'em'\n",
       "33. 'embed'\n",
       "34. 'eventsource'\n",
       "35. 'fieldset'\n",
       "36. 'figcaption'\n",
       "37. 'figure'\n",
       "38. 'footer'\n",
       "39. 'form'\n",
       "40. 'h1'\n",
       "41. 'h2'\n",
       "42. 'h3'\n",
       "43. 'h4'\n",
       "44. 'h5'\n",
       "45. 'h6'\n",
       "46. 'head'\n",
       "47. 'header'\n",
       "48. 'hgroup'\n",
       "49. 'hr'\n",
       "50. 'html'\n",
       "51. 'i'\n",
       "52. 'iframe'\n",
       "53. 'img'\n",
       "54. 'input'\n",
       "55. 'ins'\n",
       "56. 'kbd'\n",
       "57. 'keygen'\n",
       "58. 'label'\n",
       "59. 'legend'\n",
       "60. 'li'\n",
       "61. 'link'\n",
       "62. 'mark'\n",
       "63. 'map'\n",
       "64. 'menu'\n",
       "65. 'meta'\n",
       "66. 'meter'\n",
       "67. 'nav'\n",
       "68. 'noscript'\n",
       "69. 'object'\n",
       "70. 'ol'\n",
       "71. 'optgroup'\n",
       "72. 'option'\n",
       "73. 'output'\n",
       "74. 'p'\n",
       "75. 'param'\n",
       "76. 'pre'\n",
       "77. 'progress'\n",
       "78. 'q'\n",
       "79. 'ruby'\n",
       "80. 'rp'\n",
       "81. 'rt'\n",
       "82. 's'\n",
       "83. 'samp'\n",
       "84. 'script'\n",
       "85. 'section'\n",
       "86. 'select'\n",
       "87. 'small'\n",
       "88. 'source'\n",
       "89. 'span'\n",
       "90. 'strong'\n",
       "91. 'style'\n",
       "92. 'sub'\n",
       "93. 'summary'\n",
       "94. 'sup'\n",
       "95. 'table'\n",
       "96. 'tbody'\n",
       "97. 'td'\n",
       "98. 'textarea'\n",
       "99. 'tfoot'\n",
       "100. 'th'\n",
       "101. 'thead'\n",
       "102. 'time'\n",
       "103. 'title'\n",
       "104. 'tr'\n",
       "105. 'track'\n",
       "106. 'u'\n",
       "107. 'ul'\n",
       "108. 'var'\n",
       "109. 'video'\n",
       "110. 'wbr'\n",
       "\n",
       "\n"
      ],
      "text/plain": [
       "  [1] \"a\"           \"abbr\"        \"address\"     \"area\"        \"article\"    \n",
       "  [6] \"aside\"       \"audio\"       \"b\"           \"base\"        \"bdi\"        \n",
       " [11] \"bdo\"         \"blockquote\"  \"body\"        \"br\"          \"button\"     \n",
       " [16] \"canvas\"      \"caption\"     \"cite\"        \"code\"        \"col\"        \n",
       " [21] \"colgroup\"    \"command\"     \"data\"        \"datalist\"    \"dd\"         \n",
       " [26] \"del\"         \"details\"     \"dfn\"         \"div\"         \"dl\"         \n",
       " [31] \"dt\"          \"em\"          \"embed\"       \"eventsource\" \"fieldset\"   \n",
       " [36] \"figcaption\"  \"figure\"      \"footer\"      \"form\"        \"h1\"         \n",
       " [41] \"h2\"          \"h3\"          \"h4\"          \"h5\"          \"h6\"         \n",
       " [46] \"head\"        \"header\"      \"hgroup\"      \"hr\"          \"html\"       \n",
       " [51] \"i\"           \"iframe\"      \"img\"         \"input\"       \"ins\"        \n",
       " [56] \"kbd\"         \"keygen\"      \"label\"       \"legend\"      \"li\"         \n",
       " [61] \"link\"        \"mark\"        \"map\"         \"menu\"        \"meta\"       \n",
       " [66] \"meter\"       \"nav\"         \"noscript\"    \"object\"      \"ol\"         \n",
       " [71] \"optgroup\"    \"option\"      \"output\"      \"p\"           \"param\"      \n",
       " [76] \"pre\"         \"progress\"    \"q\"           \"ruby\"        \"rp\"         \n",
       " [81] \"rt\"          \"s\"           \"samp\"        \"script\"      \"section\"    \n",
       " [86] \"select\"      \"small\"       \"source\"      \"span\"        \"strong\"     \n",
       " [91] \"style\"       \"sub\"         \"summary\"     \"sup\"         \"table\"      \n",
       " [96] \"tbody\"       \"td\"          \"textarea\"    \"tfoot\"       \"th\"         \n",
       "[101] \"thead\"       \"time\"        \"title\"       \"tr\"          \"track\"      \n",
       "[106] \"u\"           \"ul\"          \"var\"         \"video\"       \"wbr\"        "
      ]
     },
     "metadata": {},
     "output_type": "display_data"
    }
   ],
   "source": [
    "library(shiny)\n",
    "names(tags)"
   ]
  },
  {
   "cell_type": "markdown",
   "metadata": {},
   "source": [
    "Some Shiny tags come with helper functions so that you can call them like we called ```h1()``` and ```p()``` above, for example. For others, you can use ```tags``` to access them like this:"
   ]
  },
  {
   "cell_type": "code",
   "execution_count": null,
   "metadata": {
    "collapsed": true
   },
   "outputs": [],
   "source": [
    "tags$h1(\"My header\")"
   ]
  },
  {
   "cell_type": "markdown",
   "metadata": {},
   "source": [
    "** Now your turn:** Create the following layout using what you have learned from the above example. Make sure to create and save the ui.R and server.R files to ```module1-practice2``` folder and deploy it to the Shiny server by modifying the above code cell and check it if you got it right on the server. "
   ]
  },
  {
   "cell_type": "markdown",
   "metadata": {},
   "source": [
    "<img src=\"../images/layout1.png\">"
   ]
  },
  {
   "cell_type": "code",
   "execution_count": null,
   "metadata": {
    "collapsed": true
   },
   "outputs": [],
   "source": [
    "# ui.R \n",
    "# starter code for the practice. Add your own code to this. \n",
    "library(shiny)\n",
    "\n",
    "ui <- fluidPage(\n",
    "  titlePanel(\"My Shiny App\"),\n",
    "  sidebarLayout(\n",
    "      \n",
    "    sidebarPanel(), # nothing in the sidebar for now.\n",
    "    mainPanel(  \n",
    "      h1(\"Introducing Shiny\"),  \n",
    "      p(\"Shiny is a new package from RStudio that makes it \", em(\"incredibly easy\"),\" to build interactive web applications in R.\"),\n",
    "      br(),\n",
    "      p(\"For an introduction and live examples, visit the\",a(href=\"http://shiny.rstudio.com\",\"Shiny homepage.\")),\n",
    "      br(),\n",
    "      h1(\"Features\"),\n",
    "      p(\"- Build useful web applications with only a few lines of code - no Javascript required.\"),\n",
    "      p(\"- Shiny applications are automatically 'live' in the same way that \", strong(\"spreadsheets\"), \"are live. Outputs change instantly as users modify inputs, without requiring a reload of the browser.\" )\n",
    "    )\n",
    "  )\n",
    ")"
   ]
  },
  {
   "cell_type": "code",
   "execution_count": null,
   "metadata": {
    "collapsed": true
   },
   "outputs": [],
   "source": [
    "# server.R\n",
    "# No need to add anything here, there is no functionality in this app, just the interface. \n",
    "server <- function(input, output) {\n",
    "  \n",
    "}"
   ]
  },
  {
   "cell_type": "code",
   "execution_count": 2,
   "metadata": {},
   "outputs": [
    {
     "data": {
      "text/html": [
       "<ol class=list-inline>\n",
       "\t<li>'sending incremental file list'</li>\n",
       "\t<li>'module1-practice2/'</li>\n",
       "\t<li>'module1-practice2/server.R'</li>\n",
       "\t<li><span style=white-space:pre-wrap>'\\r            143 100%    0.00kB/s    0:00:00  \\r            143 100%    0.00kB/s    0:00:00 (xfr#1, to-chk=1/3)'</span></li>\n",
       "\t<li>'module1-practice2/ui.R'</li>\n",
       "\t<li><span style=white-space:pre-wrap>'\\r            873 100%  106.57kB/s    0:00:00  \\r            873 100%  106.57kB/s    0:00:00 (xfr#2, to-chk=0/3)'</span></li>\n",
       "\t<li>''</li>\n",
       "\t<li><span style=white-space:pre-wrap>'sent 1,238 bytes  received 58 bytes  864.00 bytes/sec'</span></li>\n",
       "\t<li><span style=white-space:pre-wrap>'total size is 1,016  speedup is 0.78'</span></li>\n",
       "</ol>\n"
      ],
      "text/latex": [
       "\\begin{enumerate*}\n",
       "\\item 'sending incremental file list'\n",
       "\\item 'module1-practice2/'\n",
       "\\item 'module1-practice2/server.R'\n",
       "\\item '\\textbackslash{}r            143 100\\%    0.00kB/s    0:00:00  \\textbackslash{}r            143 100\\%    0.00kB/s    0:00:00 (xfr\\#1, to-chk=1/3)'\n",
       "\\item 'module1-practice2/ui.R'\n",
       "\\item '\\textbackslash{}r            873 100\\%  106.57kB/s    0:00:00  \\textbackslash{}r            873 100\\%  106.57kB/s    0:00:00 (xfr\\#2, to-chk=0/3)'\n",
       "\\item ''\n",
       "\\item 'sent 1,238 bytes  received 58 bytes  864.00 bytes/sec'\n",
       "\\item 'total size is 1,016  speedup is 0.78'\n",
       "\\end{enumerate*}\n"
      ],
      "text/markdown": [
       "1. 'sending incremental file list'\n",
       "2. 'module1-practice2/'\n",
       "3. 'module1-practice2/server.R'\n",
       "4. <span style=white-space:pre-wrap>'\\r            143 100%    0.00kB/s    0:00:00  \\r            143 100%    0.00kB/s    0:00:00 (xfr#1, to-chk=1/3)'</span>\n",
       "5. 'module1-practice2/ui.R'\n",
       "6. <span style=white-space:pre-wrap>'\\r            873 100%  106.57kB/s    0:00:00  \\r            873 100%  106.57kB/s    0:00:00 (xfr#2, to-chk=0/3)'</span>\n",
       "7. ''\n",
       "8. <span style=white-space:pre-wrap>'sent 1,238 bytes  received 58 bytes  864.00 bytes/sec'</span>\n",
       "9. <span style=white-space:pre-wrap>'total size is 1,016  speedup is 0.78'</span>\n",
       "\n",
       "\n"
      ],
      "text/plain": [
       "[1] \"sending incremental file list\"                                                                                   \n",
       "[2] \"module1-practice2/\"                                                                                              \n",
       "[3] \"module1-practice2/server.R\"                                                                                      \n",
       "[4] \"\\r            143 100%    0.00kB/s    0:00:00  \\r            143 100%    0.00kB/s    0:00:00 (xfr#1, to-chk=1/3)\"\n",
       "[5] \"module1-practice2/ui.R\"                                                                                          \n",
       "[6] \"\\r            873 100%  106.57kB/s    0:00:00  \\r            873 100%  106.57kB/s    0:00:00 (xfr#2, to-chk=0/3)\"\n",
       "[7] \"\"                                                                                                                \n",
       "[8] \"sent 1,238 bytes  received 58 bytes  864.00 bytes/sec\"                                                           \n",
       "[9] \"total size is 1,016  speedup is 0.78\"                                                                            "
      ]
     },
     "metadata": {},
     "output_type": "display_data"
    }
   ],
   "source": [
    "# Run this cell to deploy AFTER you save the files in the folder\n",
    "#DEPLOY TO SHINY SERVER\n",
    "dir <- getwd() #This gets the current Working Directory\n",
    "course <- \"DATA-SCI-8654\" #This is to specify the course path for the shiny server\n",
    "folder <- \"module1-practice2\" #This specifies the folder name to copy\n",
    "\n",
    "system(sprintf(\"/usr/local/bin/shiny_deploy %s %s %s\", course, dir,folder), \n",
    "       intern = TRUE,\n",
    "       ignore.stdout = FALSE, \n",
    "       ignore.stderr = FALSE,\n",
    "       wait = TRUE, \n",
    "       input = NULL)"
   ]
  },
  {
   "cell_type": "code",
   "execution_count": null,
   "metadata": {
    "collapsed": true
   },
   "outputs": [],
   "source": []
  }
 ],
 "metadata": {
  "kernelspec": {
   "display_name": "R",
   "language": "R",
   "name": "ir"
  },
  "language_info": {
   "codemirror_mode": "r",
   "file_extension": ".r",
   "mimetype": "text/x-r-source",
   "name": "R",
   "pygments_lexer": "r",
   "version": "3.4.0"
  }
 },
 "nbformat": 4,
 "nbformat_minor": 1
}
