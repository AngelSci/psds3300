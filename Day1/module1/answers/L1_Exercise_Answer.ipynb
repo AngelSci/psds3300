{
 "cells": [
  {
   "cell_type": "markdown",
   "metadata": {},
   "source": [
    "# Module 1 Exercise Answer\n",
    "\n",
    "In this exercise, you will create a simple Shiny app that displays a scatter plot of price vs. carat for `diamonds` data set. \n",
    "\n",
    "**Exercise 1: ** Make sure you create the ui.R and server.R files and save them in a folder named **`module1-exercise1`** under your ***```exercises```*** folder, and deploy them. \n",
    "\n"
   ]
  },
  {
   "cell_type": "code",
   "execution_count": null,
   "metadata": {},
   "outputs": [],
   "source": [
    "# This is how you would display it ina Jupyter notebook. Place this code into the ui.R and server.R files appropriately. \n",
    "\n",
    "library(ggplot2)\n",
    "data(\"diamonds\")\n",
    "ggplot(diamonds, aes(x=carat, y=price)) + geom_point()\n"
   ]
  },
  {
   "cell_type": "code",
   "execution_count": null,
   "metadata": {
    "collapsed": true
   },
   "outputs": [],
   "source": [
    "# ui.R\n",
    "\n",
    "library(shiny)\n",
    "library(ggplot2)\n",
    "\n",
    "ui <- fluidPage(\n",
    "  titlePanel(\"Module 1 Exercises\"),\n",
    "  sidebarLayout(\n",
    "      \n",
    "    sidebarPanel(), # nothing in the sidebar for now.\n",
    "    mainPanel(\n",
    "      h1(\"ggplot output\"),  \n",
    "      plotOutput(\"diamondplot\")\n",
    "    )\n",
    "  )\n",
    ")\n",
    "\n",
    "\n",
    "# server.R\n",
    "library(shiny)\n",
    "library(ggplot2)\n",
    "\n",
    "data(\"diamonds\")\n",
    "\n",
    "server <- function(input, output) {\n",
    "\n",
    "  \n",
    "  output$diamondplot <- renderPlot({ \n",
    "      \n",
    "      ggplot(diamonds, aes(x=carat, y=price)) + geom_point()\n",
    "      \n",
    "      \n",
    "  })\n",
    "\n",
    "}"
   ]
  },
  {
   "cell_type": "markdown",
   "metadata": {},
   "source": [
    "**Exercise 2: ** Create a second app by modifying your code to have an **input** in your user interface. Place a widget to choose `carat` or `depth` in the interface, and plot either price vs. carat or price vs. depth in the output. Make sure you create the ui.R and server.R files, and save them in a folder named **`module1-exercise2`** and deploy them. \n",
    "\n",
    "Hint: Use selectInput in the UI, and make sure you use ```aes_string``` instead of ```aes``` in ggplot, because you'll be using an input variable in aesthetics. "
   ]
  },
  {
   "cell_type": "code",
   "execution_count": null,
   "metadata": {
    "collapsed": true
   },
   "outputs": [],
   "source": [
    "# ui.R\n",
    "\n",
    "library(shiny)\n",
    "library(ggplot2)\n",
    "\n",
    "ui <- fluidPage(\n",
    "  titlePanel(\"Module 1 Exercises\"),\n",
    "  sidebarLayout(\n",
    "      \n",
    "    sidebarPanel(\n",
    "         selectInput(\"variable\", \"Variable:\",    # \"variable\" is the label for this widget\n",
    "                  c(\"Carat\" = \"carat\",\n",
    "                    \"Depth\" = \"depth\"))    \n",
    "    ), \n",
    "    \n",
    "    mainPanel(\n",
    "      h1(\"ggplot output\"),  \n",
    "      plotOutput(\"diamondplot\")\n",
    "    )\n",
    "  )\n",
    ")\n",
    "\n",
    "\n",
    "# server.R\n",
    "library(shiny)\n",
    "library(ggplot2)\n",
    "\n",
    "data(\"diamonds\")\n",
    "\n",
    "server <- function(input, output) {\n",
    "\n",
    "  \n",
    "  output$diamondplot <- renderPlot({ \n",
    "      \n",
    "      ggplot(diamonds, aes_string(x=input$variable, y=\"price\")) + geom_point()\n",
    "      \n",
    "      \n",
    "  })\n",
    "\n",
    "}"
   ]
  },
  {
   "cell_type": "code",
   "execution_count": 1,
   "metadata": {},
   "outputs": [
    {
     "name": "stderr",
     "output_type": "stream",
     "text": [
      "Warning message:\n",
      "\"running command '/usr/local/bin/shiny_deploy DATA-SCI-8654 /dsa/home/scottgs/PSDS3300_Preview/Day1/module1/answers module1-exercise1' had status 23\""
     ]
    },
    {
     "data": {
      "text/html": [
       "<ol class=list-inline>\n",
       "\t<li>'sending incremental file list'</li>\n",
       "\t<li>''</li>\n",
       "\t<li><span style=white-space:pre-wrap>'sent 18 bytes  received 12 bytes  60.00 bytes/sec'</span></li>\n",
       "\t<li><span style=white-space:pre-wrap>'total size is 0  speedup is 0.00'</span></li>\n",
       "</ol>\n"
      ],
      "text/latex": [
       "\\begin{enumerate*}\n",
       "\\item 'sending incremental file list'\n",
       "\\item ''\n",
       "\\item 'sent 18 bytes  received 12 bytes  60.00 bytes/sec'\n",
       "\\item 'total size is 0  speedup is 0.00'\n",
       "\\end{enumerate*}\n"
      ],
      "text/markdown": [
       "1. 'sending incremental file list'\n",
       "2. ''\n",
       "3. <span style=white-space:pre-wrap>'sent 18 bytes  received 12 bytes  60.00 bytes/sec'</span>\n",
       "4. <span style=white-space:pre-wrap>'total size is 0  speedup is 0.00'</span>\n",
       "\n",
       "\n"
      ],
      "text/plain": [
       "[1] \"sending incremental file list\"                    \n",
       "[2] \"\"                                                 \n",
       "[3] \"sent 18 bytes  received 12 bytes  60.00 bytes/sec\"\n",
       "[4] \"total size is 0  speedup is 0.00\"                 \n",
       "attr(,\"status\")\n",
       "[1] 23\n",
       "attr(,\"errmsg\")\n",
       "[1] \"Resource temporarily unavailable\""
      ]
     },
     "metadata": {},
     "output_type": "display_data"
    }
   ],
   "source": [
    "#DEPLOY CODE for your exercises\n",
    "dir <- getwd() #This gets the current Working Directory\n",
    "course <- \"DATA-SCI-8654\" #This is to specify the course path for the shiny server\n",
    "folder <- \"module1-exercise1\" #This specifies the folder name to copy\n",
    "#folder <- \"module1-exercise2\" #This specifies the folder name to copy\n",
    "\n",
    "system(sprintf(\"/usr/local/bin/shiny_deploy %s %s %s\", course, dir,folder), \n",
    "       intern = TRUE,\n",
    "       ignore.stdout = FALSE, \n",
    "       ignore.stderr = FALSE,\n",
    "       wait = TRUE, \n",
    "       input = NULL)"
   ]
  },
  {
   "cell_type": "code",
   "execution_count": null,
   "metadata": {
    "collapsed": true
   },
   "outputs": [],
   "source": []
  }
 ],
 "metadata": {
  "kernelspec": {
   "display_name": "R",
   "language": "R",
   "name": "ir"
  },
  "language_info": {
   "codemirror_mode": "r",
   "file_extension": ".r",
   "mimetype": "text/x-r-source",
   "name": "R",
   "pygments_lexer": "r",
   "version": "3.4.0"
  }
 },
 "nbformat": 4,
 "nbformat_minor": 1
}
