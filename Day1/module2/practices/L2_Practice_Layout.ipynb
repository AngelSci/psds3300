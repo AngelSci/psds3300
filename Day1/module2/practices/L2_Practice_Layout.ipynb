{
 "cells": [
  {
   "cell_type": "markdown",
   "metadata": {},
   "source": [
    "# Practice - Layout\n",
    "\n",
    "Here, we will create a shiny app that makes use of the layouts and widgets we have seen in the lab notebooks. \n",
    "We will start with the simple example, and add components to it. \n",
    "As in the labs, we will create a single `app.R` file that contains the UI and the server. \n",
    "\n",
    "Let's start with a simple data set and create an interactive visualization around it. \n",
    "Run the following code here in JupyterHub to get familiarized with the data set: \n"
   ]
  },
  {
   "cell_type": "code",
   "execution_count": null,
   "metadata": {
    "collapsed": true
   },
   "outputs": [],
   "source": [
    "popdata = read.csv(\"module2-pop/pop_proj.csv\")\n",
    "head(popdata)\n",
    "str(popdata)"
   ]
  },
  {
   "cell_type": "markdown",
   "metadata": {},
   "source": [
    "We will use this data set to create a visualization that shows the population projection for a given age group and sex. \n",
    "We first plot it with ggplot here in the notebook, then we will modify it to deploy as an app. \n"
   ]
  },
  {
   "cell_type": "code",
   "execution_count": null,
   "metadata": {
    "collapsed": true
   },
   "outputs": [],
   "source": [
    "library(ggplot2)\n",
    "\n",
    "# show projection for all ages and sexes \n",
    "p <- ggplot(popdata, aes(x=year, y=pop)) + geom_bar(stat=\"identity\") + theme_minimal() \n",
    "p <- p + xlab(\"Years\") + ylab(\"Population Projection\")\n",
    "p\n"
   ]
  },
  {
   "cell_type": "markdown",
   "metadata": {},
   "source": [
    "As we have seen in the previous module, we need to change a few things when deploying ggplot plots in a Shiny app. \n",
    "**We need to change the ```aes``` to ```aes_string``` and print the ggplot object to output.** \n",
    "\n",
    "Also, we need to create a list of choices for our selection widgets. \n",
    "We can do that using the ```levels``` function. \n",
    "The following code has a full interface that is not functional yet. \n",
    "No matter what the input is, server code produces the same ggplot object. \n",
    "Let's run this first, then we'll add more functionality to it. "
   ]
  },
  {
   "cell_type": "raw",
   "metadata": {},
   "source": [
    "# Do not run this code cell, copy and paste it to app.R\n",
    "\n",
    "library(shiny)\n",
    "library(ggplot2)\n",
    "\n",
    "# these operations need to be done only once, so  we put them here. \n",
    "# read the data set \n",
    "popdata = read.csv(\"pop_proj.csv\") # data set is in the same folder as the app. \n",
    "\n",
    "# we need these lists to automatically populate the choices in the UI. \n",
    "sex_list <- c(\"All\", levels(popdata$sex))\n",
    "age_list <- c(\"All\", levels(popdata$age))\n",
    "\n",
    "\n",
    "pop_ui <- fluidPage(\n",
    "  titlePanel(\"popVis\"),\n",
    "\n",
    "  sidebarLayout(\n",
    "    sidebarPanel(\n",
    "      helpText(\"Projections of the population by sex and selected age groups for US: 2015-2030\"),\n",
    "\n",
    "      selectInput(\"age_in\", \n",
    "                  label = em(\"Age bracket:\"),\n",
    "                  choices = age_list,\n",
    "                  selected = \"All\"), #default\n",
    "\n",
    "        selectInput(\"sex_in\", \n",
    "                  label = em(\"Sex:\"),\n",
    "                  choices = sex_list,\n",
    "                  selected = \"All\") #default\n",
    "    ),\n",
    "\n",
    "    mainPanel(\n",
    "      h3(\"Projection\"),\n",
    "      plotOutput(\"ggp\")      # this is our ggplot output in the UI; its name is \"ggp\"\n",
    "    )\n",
    "  )\n",
    ")\n",
    "\n",
    "pop_server <- function(input, output) {\n",
    "\n",
    "    # this is how we create a plot in the UI: \n",
    "    # we put the ggplot code inside the renderPlot() function and send it to the output named \"ggp\"\n",
    "  output$ggp <- renderPlot({ \n",
    "      \n",
    "      p <- ggplot(popdata, aes_string(x=\"year\", y=\"pop\")) + geom_bar(stat=\"identity\") + theme_minimal() \n",
    "      p <- p + xlab(\"Years\") + ylab(\"Population Projection\")\n",
    "\n",
    "      print(p) # don't forget to \"print\" it. \n",
    "  })\n",
    "}\n",
    "\n",
    "shinyApp(ui=pop_ui, server=pop_server)"
   ]
  },
  {
   "cell_type": "markdown",
   "metadata": {},
   "source": [
    "**Copy and paste this code into app.R under ```module2-pop``` and deploy it. **"
   ]
  },
  {
   "cell_type": "code",
   "execution_count": null,
   "metadata": {
    "collapsed": true
   },
   "outputs": [],
   "source": [
    "# RUN THIS TO DEPLOY TO SHINY SERVER\n",
    "dir <- getwd() #This gets the current Working Directory\n",
    "course <- \"DATA-SCI-8654\" #This is to specify the course path for the shiny server\n",
    "folder <- \"module2-pop\" #This specifies the folder name to copy\n",
    "\n",
    "system(sprintf(\"/usr/local/bin/shiny_deploy %s %s %s\", course, dir,folder), \n",
    "       intern = TRUE,\n",
    "       ignore.stdout = FALSE, \n",
    "       ignore.stderr = FALSE,\n",
    "       wait = TRUE, \n",
    "       input = NULL)"
   ]
  },
  {
   "cell_type": "markdown",
   "metadata": {},
   "source": [
    "Now we will modify to code to make it reactive to the user input. \n",
    "We will check the ```sex_in``` and ```age_in``` to subset the data and display it. \n",
    "**Edit your app.R to change the server function like this: **"
   ]
  },
  {
   "cell_type": "raw",
   "metadata": {
    "collapsed": true
   },
   "source": [
    "pop_server <- function(input, output) {\n",
    "\n",
    "  output$ggp <- renderPlot({ \n",
    "      \n",
    "      # check the input widget's value; if it's not \"All\", subset the data using the widget's value.\n",
    "      if (input$age_in != \"All\") \n",
    "      {\n",
    "        newdata <- subset(popdata, age == input$age_in)\n",
    "      } else { \n",
    "          \n",
    "        newdata <- popdata  # otherwise keep the original data \n",
    "      }\n",
    "      \n",
    "      # do the same for sex_in input widget: either display everything, or display a subset. \n",
    "      if (input$sex_in == \"All\") \n",
    "      {\n",
    "          p <- ggplot(data=newdata, aes_string(x=\"year\", y=\"pop\")) \n",
    "\n",
    "      } else {\n",
    "          \n",
    "          p <- ggplot(data=subset(newdata, sex == input$sex_in), aes_string(x=\"year\", y=\"pop\"))           \n",
    "      }\n",
    "      \n",
    "      # regardless of the conditions above, add the following to the ggplot object. \n",
    "      p <- p + geom_bar(stat=\"identity\") + theme_minimal() + xlab(\"Years\") + ylab(\"Population Projection\") + ylim(0,300000) \n",
    "      \n",
    "      # send the plot to the output in the UI. \n",
    "      print(p)\n",
    "  })\n",
    "}\n"
   ]
  },
  {
   "cell_type": "markdown",
   "metadata": {},
   "source": [
    "The code above **reacts to the user input** by running the subsetting code inside the ```renderPlot``` so that every time user interacts with the widgets, this code runs to subset the data according to the user's choices and builds the ggplot object. \n",
    "By adding a fixed ```ylim```, we make comparisons easier in between choices. \n",
    "\n",
    "Now, we will change the layout and move the user input to the bottom of the page. \n",
    "We need to modify the UI to change the layout using grid system. \n",
    "We'll have two rows, first row will contain the plot, \n",
    "second row will contain the two input fields. \n"
   ]
  },
  {
   "cell_type": "raw",
   "metadata": {
    "collapsed": true
   },
   "source": [
    "pop_ui <- fluidPage(\n",
    "    \n",
    "    h1(\"popVis\"),\n",
    "    \n",
    "    fluidRow(\n",
    "            h3(\"Projection\"),\n",
    "            plotOutput(\"ggp\")\n",
    "        ),\n",
    "    \n",
    "    hr(),\n",
    "    \n",
    "    fluidRow(\n",
    "        column(3,\n",
    "              helpText(\"Projections of the population by sex and selected age groups for US: 2015-2030\")\n",
    "        ),\n",
    "        column(4,\n",
    "                selectInput(\"sex_in\", \n",
    "                  label = em(\"Sex:\"),\n",
    "                  choices = sex_list,\n",
    "                  selected = \"All\") #default\n",
    "\n",
    "        ),\n",
    "        column(5,\n",
    "                selectInput(\"age_in\", \n",
    "                  label = em(\"Age bracket:\"),\n",
    "                  choices = age_list,\n",
    "                  selected = \"All\") #default\n",
    "\n",
    "        ))\n",
    "    )\n",
    "    "
   ]
  },
  {
   "cell_type": "markdown",
   "metadata": {},
   "source": [
    "**Edit your app.R to change the UI function like above and deploy the app.**"
   ]
  },
  {
   "cell_type": "markdown",
   "metadata": {},
   "source": [
    "And as a last modification, we will add a tabsetPanel for a handy table output with search and sort functionality. \n",
    "The following code cell has the UI function that you need to copy to your app.R file. \n",
    "\n",
    "**It is a good practice to write the code here first and then copy to the text editor, because Jupyter notebook highlights the matching parentheses in the code cells helping us to make sure we are not misplacing parentheses or brackets.** "
   ]
  },
  {
   "cell_type": "code",
   "execution_count": null,
   "metadata": {
    "collapsed": true
   },
   "outputs": [],
   "source": [
    "# Not for Jupyter running\n",
    "\n",
    "pop_ui <- fluidPage(\n",
    "    \n",
    "  h1(\"popVis\"),\n",
    "  tabsetPanel(    \n",
    "   tabPanel(\"Projection\",     \n",
    "\n",
    "    fluidRow(      \n",
    "        plotOutput(\"ggp\")        \n",
    "    ),\n",
    "    \n",
    "    hr(),\n",
    "    \n",
    "    fluidRow(\n",
    "        column(3,\n",
    "              helpText(\"Projections of the population by sex and selected age groups for US: 2015-2030\")\n",
    "        ),\n",
    "        column(4,\n",
    "                selectInput(\"sex_in\", \n",
    "                  label = em(\"Sex:\"),\n",
    "                  choices = sex_list,\n",
    "                  selected = \"All\") #default\n",
    "        ),\n",
    "        column(5,\n",
    "                selectInput(\"age_in\", \n",
    "                  label = em(\"Age bracket:\"),\n",
    "                  choices = age_list,\n",
    "                  selected = \"All\") #default\n",
    "        )\n",
    "    )             \n",
    "   ),\n",
    "            \n",
    "    tabPanel(\"Data\", dataTableOutput(\"table\")) \n",
    "  )\n",
    ")\n",
    "    "
   ]
  },
  {
   "cell_type": "markdown",
   "metadata": {},
   "source": [
    "We also need to add the following line to the server code to define the output for the data tab:\n",
    "\n",
    "```\n",
    "output$table <- renderDataTable(popdata) \n",
    "```\n",
    "\n",
    "** Do these changes in your app.R and deploy it to the server. ** \n",
    "You can play with the different shiny themes, fonts, and other styling elements to make your app look more elegant. \n",
    "\n",
    "You should see something similar to this picture. \n",
    "\n",
    "---\n",
    "\n",
    "<img src=\"../images/pop.png\">\n",
    "\n",
    "---"
   ]
  }
 ],
 "metadata": {
  "kernelspec": {
   "display_name": "R",
   "language": "R",
   "name": "ir"
  },
  "language_info": {
   "codemirror_mode": "r",
   "file_extension": ".r",
   "mimetype": "text/x-r-source",
   "name": "R",
   "pygments_lexer": "r",
   "version": "3.4.0"
  }
 },
 "nbformat": 4,
 "nbformat_minor": 1
}
