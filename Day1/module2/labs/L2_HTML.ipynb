{
 "cells": [
  {
   "cell_type": "markdown",
   "metadata": {},
   "source": [
    "# Lab 2 - HTML and CSS  \n",
    "\n",
    "Even though Shiny takes care of the layout of the Web app, \n",
    "we can customize the style of our apps by using HTML and CSS within the Shiny R code. \n",
    "HTML is the standard markup language for creating Web pages; \n",
    "it stands for Hyper Text Markup Language. \n",
    "It describes the structure of Web pages using a *markup language*; \n",
    "HTML elements are the building blocks of HTML pages.\n",
    "HTML elements are represented by tags that label pieces of content such as \"heading\", \"paragraph\", \"table\", and so on. \n",
    "\n",
    "HTML tags are element names surrounded by angle brackets like this:\n",
    "\n",
    "```html\n",
    "\n",
    "<tagname>content goes here...</tagname>\n",
    "\n",
    "```"
   ]
  },
  {
   "cell_type": "markdown",
   "metadata": {},
   "source": [
    "HTML tags normally come in pairs. \n",
    "The first tag in a pair is the start tag, the second tag is the end tag. \n",
    "The end tag is written like the start tag, but with a forward slash inserted before the tag name.\n",
    "\n",
    "Some html tags are, ```<h1>,<h2>,etc.,<p>,<br>,<b>,<i>```. \n",
    "We can add *styles* to tags in order to change their appearance: \n",
    "```\n",
    "<tagname style=\"property:value;\">\n",
    "```\n",
    "\n",
    "The property is a CSS property.\n",
    "The value is a CSS value.\n",
    "For example:\n",
    "```html\n",
    "<h1 style=\"color:blue;\">This is a heading</h1>\n",
    "<p style=\"color:red;\">This is a paragraph.</p>\n",
    "<h1 style=\"font-family:verdana;\">This is a heading</h1>\n",
    "<p style=\"font-family:courier;\">This is a paragraph.</p>\n",
    "<h1 style=\"font-size:300%;\">This is a heading</h1>\n",
    "<p style=\"font-size:160%;\">This is a paragraph.</p>\n",
    "<h1 style=\"text-align:center;\">Centered Heading</h1>\n",
    "<p style=\"text-align:center;\">Centered paragraph.</p>\n",
    "```\n",
    "\n",
    "These are rendered as: \n",
    "\n",
    "<h1 style=\"color:blue;\">This is a heading</h1>\n",
    "<p style=\"color:red;\">This is a paragraph.</p>\n",
    "<h1 style=\"font-family:verdana;\">This is a heading</h1>\n",
    "<p style=\"font-family:courier;\">This is a paragraph.</p>\n",
    "<h1 style=\"font-size:300%;\">This is a heading</h1>\n",
    "<p style=\"font-size:160%;\">This is a paragraph.</p>\n",
    "<h1 style=\"text-align:center;\">Centered Heading</h1>\n",
    "<p style=\"text-align:center;\">Centered paragraph.</p>\n",
    "\n",
    "--- \n",
    "CSS stands for Cascading Style Sheets. \n",
    "it describes how HTML elements are to be displayed on screen. \n",
    "CSS saves a lot of work by controlling the layout of multiple Web pages all at once. \n",
    "CSS can be added to HTML elements in 3 ways:\n",
    "\n",
    "- Inline - by using the style attribute in HTML elements\n",
    "- Internal - by using a style element \n",
    "- External - by using an external CSS file\n",
    "\n",
    "The most common way to add CSS is to keep the styles in separate CSS files.\n",
    "However, here we showed inline styling above, because this is easier to demonstrate."
   ]
  },
  {
   "cell_type": "markdown",
   "metadata": {},
   "source": [
    "### Customizing Shiny App Look\n",
    "\n",
    "You can add CSS styling directly to individual HTML elements in your UI, just as you add styling directly to HTML tags in a Web document. CSS provided at this level takes precedence over any other sources of CSS (should a conflict occur).\n",
    "\n",
    "To add CSS to an individual element, pass it to the style argument of the Shiny function that you use to create that element. In the script below, we set the style of the title of the Shiny app with the style argument of h1 in headerPanel. The style relies on a font that we import from the Web:"
   ]
  },
  {
   "cell_type": "raw",
   "metadata": {
    "collapsed": true
   },
   "source": [
    "\n",
    "ui <- fluidPage(\n",
    "\n",
    "  tags$head(\n",
    "    tags$style(HTML(\"\n",
    "      @import url('//fonts.googleapis.com/css?family=Lobster|Cabin:400,700');\n",
    "    \"))\n",
    "  ),\n",
    "    \n",
    "  headerPanel(\n",
    "    h1(\"New Application\", \n",
    "      style = \"font-family: 'Lobster', cursive;\n",
    "        font-weight: 500; line-height: 1.1; \n",
    "        color: #4d3a7d;\")),\n",
    "  \n",
    "  sidebarPanel(\n",
    "    sliderInput(\"obs\", \"Number of observations:\", \n",
    "                min = 1, max = 1000, value = 500)\n",
    "  ),\n",
    "  \n",
    "  mainPanel(plotOutput(\"distPlot\"))\n",
    ")\n"
   ]
  },
  {
   "cell_type": "markdown",
   "metadata": {},
   "source": [
    "In the above code, we insert an HTML tag (h1) into the headerPanel and give it a style by using a font family that is downloaded from googleapis.com. \n",
    "In the same style, we also give a size and color, too. \n",
    "You can customize the looks of your apps by inserting html tags and styles to change the format of the text, \n",
    "to align text and other elements, and to create custom layouts by inserting paragraphs and breaks. "
   ]
  },
  {
   "cell_type": "markdown",
   "metadata": {
    "collapsed": true
   },
   "source": [
    "### Shiny Themes\n",
    "\n",
    "```shinythemes``` library gives you a shortcut to use a variety of styles in your Shiny apps without resorting to adding individual style elements to your UI. \n",
    "Your Shiny app uses the default Bootstrap theme, \n",
    "you can change by defining a theme in your UI function:\n",
    "\n",
    "```R\n",
    "## ui.R ##\n",
    "library(shinythemes)\n",
    "\n",
    "fluidPage(theme = shinytheme(\"cerulean\"),\n",
    "  ...\n",
    ")\n",
    "```\n",
    "\n",
    "Here is a code that lets you quickly try available themes in the ```shinythemes``` library. Copy and paste it into an app.R file and deploy it as ```module2-shinythemes```. \n",
    "\n",
    "---\n",
    "```R\n",
    "\n",
    "library(shinythemes)\n",
    "\n",
    "  ui <- fluidPage(\n",
    "    shinythemes::themeSelector(),  # <--- Add this somewhere in the UI\n",
    "    sidebarPanel(\n",
    "      textInput(\"txt\", \"Text input:\", \"text here\"),\n",
    "      sliderInput(\"slider\", \"Slider input:\", 1, 100, 30),\n",
    "      actionButton(\"action\", \"Button\"),\n",
    "      actionButton(\"action2\", \"Button2\", class = \"btn-primary\")\n",
    "    ),\n",
    "    mainPanel(\n",
    "      tabsetPanel(\n",
    "        tabPanel(\"Tab 1\"),\n",
    "        tabPanel(\"Tab 2\")\n",
    "      )\n",
    "    )\n",
    "  )\n",
    "\n",
    "server <- function(input, output) {}\n",
    "\n",
    "\n",
    "shinyApp(ui=ui, server=server)\n",
    "```\n",
    "---"
   ]
  },
  {
   "cell_type": "code",
   "execution_count": null,
   "metadata": {
    "collapsed": true
   },
   "outputs": [],
   "source": [
    "#DEPLOY TO SHINY SERVER\n",
    "dir <- getwd() #This gets the current Working Directory\n",
    "course <- \"DATA-SCI-8654\" #This is to specify the course path for the shiny server\n",
    "folder <- \"module2-shinythemes\" #This specifies the folder name to copy\n",
    "\n",
    "system(sprintf(\"/usr/local/bin/shiny_deploy %s %s %s\", course, dir,folder), \n",
    "       intern = TRUE,\n",
    "       ignore.stdout = FALSE, \n",
    "       ignore.stderr = FALSE,\n",
    "       wait = TRUE, \n",
    "       input = NULL)"
   ]
  },
  {
   "cell_type": "markdown",
   "metadata": {},
   "source": [
    "### Using Other Bootstrap Themes \n",
    "\n",
    "You can find a variety of Bootstrap themes (not to mix with templates) freely available on the Web and use it in your Shiny apps.\n",
    "All you need to do is to download the theme which is a ```.css``` file, and place it in under your app's folder like this: \n",
    "\n",
    "```\n",
    "myapp/\n",
    " |-- app.R\n",
    " |-- www/\n",
    "      |-- mytheme.css\n",
    "\n",
    "```\n",
    "Files in the ```www/``` folder under your app's folder are automatically made available to your app. Your UI function would look like this:\n",
    "\n",
    "```R\n",
    "fluidPage(\n",
    "  theme = \"mytheme.css\",\n",
    "  ...\n",
    ")\n",
    "\n",
    "```"
   ]
  }
 ],
 "metadata": {
  "kernelspec": {
   "display_name": "R",
   "language": "R",
   "name": "ir"
  },
  "language_info": {
   "codemirror_mode": "r",
   "file_extension": ".r",
   "mimetype": "text/x-r-source",
   "name": "R",
   "pygments_lexer": "r",
   "version": "3.4.0"
  }
 },
 "nbformat": 4,
 "nbformat_minor": 1
}
