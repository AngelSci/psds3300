{
 "cells": [
  {
   "cell_type": "markdown",
   "metadata": {},
   "source": [
    "# Module 2 Exercise\n",
    "\n",
    "In this exercise, you will create a Shiny app similar to the example in the ```L2_Practice_Layout``` notebook. Here is a cheatsheet for Shiny: [Shiny cheatsheet](http://shiny.rstudio.com/images/shiny-cheatsheet.pdf).\n",
    "\n",
    "Keep a copy of your app.R in this exercise notebook; save it in a code cell, it'll be easier for you to match parentheses of functions."
   ]
  },
  {
   "cell_type": "markdown",
   "metadata": {},
   "source": [
    "\n",
    "You will use the **gapminder data** to create your interactive visualization. Make sure you do all the necessary data preprocessing only once outside the UI and server code. Following are pieces of sample code that you will need to modify and use to create the visualization in the Shiny app. Study them first. "
   ]
  },
  {
   "cell_type": "code",
   "execution_count": null,
   "metadata": {
    "collapsed": true
   },
   "outputs": [],
   "source": [
    "library(ggplot2)\n",
    "library(dplyr)\n",
    "#gapminder <- readRDS(file = \"/dsa/data/all_datasets/gapminder_data.rds\")\n",
    "gapminder <- readRDS(file = \"/dsa/data/all_datasets/gapminder_data.rds\")\n",
    "\n",
    "gm <- gapminder \n",
    "gm <- transform(gm, pop = as.numeric(pop))\n",
    "head(gm)"
   ]
  },
  {
   "cell_type": "code",
   "execution_count": null,
   "metadata": {
    "collapsed": true
   },
   "outputs": [],
   "source": [
    "# Code to plot life expectancy for a given year (all countries). \n",
    "\n",
    "ggplot(data=subset(gm, year==1952), aes(x=lifeExp)) +  geom_density(alpha=.2, fill=\"red\") + xlab(\"Life Expectancy\")"
   ]
  },
  {
   "cell_type": "code",
   "execution_count": null,
   "metadata": {
    "collapsed": true
   },
   "outputs": [],
   "source": [
    "# Code to aggregate data per continent\n",
    "# compute total pop and weighted means for life exp. gdp per cap. \n",
    "cgm <- gm %>% group_by(continent,year) %>% summarise(totpop=sum(pop),avglifeExp=sum(pop*lifeExp)/totpop,avggdpPercap=sum(pop*gdpPercap)/totpop, numCountries=n())\n",
    "\n",
    "head(cgm)"
   ]
  },
  {
   "cell_type": "code",
   "execution_count": null,
   "metadata": {
    "collapsed": true
   },
   "outputs": [],
   "source": [
    "# Code to plot total population per continent for a given year \n",
    "\n",
    "ggplot(data=subset(cgm,year==1952), aes(x=continent, y=totpop, fill=continent)) + geom_bar(stat=\"identity\") "
   ]
  },
  {
   "cell_type": "code",
   "execution_count": null,
   "metadata": {
    "collapsed": true
   },
   "outputs": [],
   "source": [
    "# Code to plot average GPD per capita per continent for a given year\n",
    "\n",
    "ggplot(data=subset(cgm,year==1952), aes(x=continent, y=avggdpPercap, fill=continent)) + geom_bar(stat=\"identity\") \n"
   ]
  },
  {
   "cell_type": "markdown",
   "metadata": {},
   "source": [
    "**Exercise 1: ** \n",
    "\n",
    "- Given these pieces of code, create a Shiny app that displays the plots for life expectancy for all countries, population per continent, and the average GDP per capita per continent **for a given year.**\n",
    "\n",
    "- **Year** will be a ** *slider* input** between 1952 and 2007 with 5 year steps chosen by the user.\n",
    "\n",
    "- ** Create three tabs ** with the plots in one tab, and gm and cgm data tables in the other two tabs. \n",
    "\n",
    "- Make sure you create the app.R file and save it to the folder named **`module2-exercise1`** under your **```exercises```** folder, and deploy it by running the following code cell.   \n",
    "\n",
    "\n",
    "Design a clean look with nice background, no clutter, using appropriate captions, font sizes, styles, etc. You can design the dashboard in any way you want. \n",
    "\n",
    "PS: Pay attention to variable names, input output names, and the ggplot aes_string.  \n"
   ]
  },
  {
   "cell_type": "code",
   "execution_count": null,
   "metadata": {},
   "outputs": [],
   "source": [
    "#DEPLOY CODE for your exercises\n",
    "dir <- getwd() #This gets the current Working Directory\n",
    "course <- \"DATA-SCI-8654\" #This is to specify the course path for the shiny server\n",
    "folder <- \"module2-exercise1\" #This specifies the folder name to copy\n",
    "#folder <- \"module1-exercise2\" #This specifies the folder name to copy\n",
    "\n",
    "system(sprintf(\"/usr/local/bin/shiny_deploy %s %s %s\", course, dir,folder), \n",
    "       intern = TRUE,\n",
    "       ignore.stdout = FALSE, \n",
    "       ignore.stderr = FALSE,\n",
    "       wait = TRUE, \n",
    "       input = NULL)"
   ]
  },
  {
   "cell_type": "markdown",
   "metadata": {},
   "source": [
    "\n",
    "### Your code should produce the following at the minimum; you are expected to do a better design than this: \n",
    "\n",
    "<img src=\"../images/exercise_app.png\">\n",
    "\n"
   ]
  },
  {
   "cell_type": "code",
   "execution_count": null,
   "metadata": {
    "collapsed": true
   },
   "outputs": [],
   "source": [
    "# Do not run this code cell, copy and paste it to app.R\n",
    "\n",
    "library(ggplot2)\n",
    "library(dplyr)\n",
    "#gapminder <- readRDS(file = \"/dsa/data/all_datasets/gapminder_data.rds\")\n",
    "gapminder <- readRDS(file = \"/dsa/data/all_datasets/gapminder_data.rds\")\n",
    "\n",
    "# these operations need to be done only once\n",
    "\n",
    "gm <- gapminder \n",
    "gm <- transform(gm, pop = as.numeric(pop))\n",
    "# compute total pop and weighted means for life exp. gdp per cap. \n",
    "cgm <- gm %>% group_by(continent,year) %>% summarise(totpop=sum(pop),avglifeExp=sum(pop*lifeExp)/totpop,avggdpPercap=sum(pop*gdpPercap)/totpop, numCountries=n())\n",
    "\n",
    "\n",
    "pop_ui <- fluidPage(\n",
    "    \n",
    "  h1(\"GapMinder\"),\n",
    "  tabsetPanel(    \n",
    "   tabPanel(\"Plots\",     \n",
    "\n",
    "    fluidRow(      \n",
    "        column(4, plotOutput(\"plot1\")),\n",
    "        column(4, plotOutput(\"plot2\")),\n",
    "        column(4, plotOutput(\"plot3\"))\n",
    "    ),\n",
    "    \n",
    "    hr(),\n",
    "    \n",
    "    fluidRow(\n",
    "        column(4,\n",
    "              helpText(\"GapMinder data: worlwide average life expectancy and GDP per capita 1952 - 2007.\")\n",
    "        ),\n",
    "        column(8,\n",
    "                sliderInput(\"year_in\", \n",
    "                  label = em(\"Year:\"), 1952, 2007, 1952, 5, width=\"100%\", sep=\"\")\n",
    "                  \n",
    "        )\n",
    "    )             \n",
    "   ),\n",
    "            \n",
    "   tabPanel(\"Country Data\", dataTableOutput(\"table1\")), \n",
    "   tabPanel(\"Continent Data\", dataTableOutput(\"table2\"))       \n",
    "  )\n",
    ")\n",
    "    \n",
    "\n",
    "pop_server <- function(input, output) {\n",
    "\n",
    "         \n",
    "  output$plot1 <- renderPlot({ \n",
    "      \n",
    "      p <- ggplot(data=subset(gm, year==input$year_in), aes(x=lifeExp)) +  geom_density(alpha=.2, fill=\"red\")             \n",
    "      p <- p + theme_minimal() + xlab(\"Years\") + ylab(\"Life Expectancy\") + xlim(0,100) \n",
    "      print(p)\n",
    "  })\n",
    " \n",
    "  output$plot2 <- renderPlot({ \n",
    "      \n",
    "      p <- ggplot(data=subset(cgm,year==input$year_in), aes(x=continent, y=totpop, fill=continent)) + geom_bar(stat=\"identity\")       \n",
    "      p <- p + theme_minimal() + xlab(\"Continents\") + ylab(\"Total Population\") + theme(legend.position=\"none\") + ylim(0,4000000000) \n",
    "      print(p)\n",
    "  })\n",
    "\n",
    "    output$plot3 <- renderPlot({ \n",
    "      \n",
    "      p <- ggplot(data=subset(cgm,year==input$year_in), aes(x=continent, y=avggdpPercap, fill=continent)) + geom_bar(stat=\"identity\")      \n",
    "      p <- p + theme_minimal() + xlab(\"Continents\") + ylab(\"GDP per Capita\") + theme(legend.position=\"none\") + ylim(0,40000) \n",
    "      print(p)\n",
    "  })    \n",
    "    \n",
    "  output$table1 <- renderDataTable(gm)    \n",
    "  output$table2 <- renderDataTable(cgm)    \n",
    "    \n",
    "}\n",
    "\n",
    "shinyApp(ui=pop_ui, server=pop_server)"
   ]
  }
 ],
 "metadata": {
  "kernelspec": {
   "display_name": "R",
   "language": "R",
   "name": "ir"
  },
  "language_info": {
   "codemirror_mode": "r",
   "file_extension": ".r",
   "mimetype": "text/x-r-source",
   "name": "R",
   "pygments_lexer": "r",
   "version": "3.4.0"
  }
 },
 "nbformat": 4,
 "nbformat_minor": 1
}
