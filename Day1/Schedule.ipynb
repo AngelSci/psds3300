{
 "cells": [
  {
   "cell_type": "markdown",
   "metadata": {},
   "source": [
    "# PSDS 3300\n",
    "# Advanced Visualization and Communication 1\n",
    "\n",
    "\n",
    "## Day 1 Agenda\n",
    "\n",
    "#### Breaks (approx.)\n",
    "  1. 15 min @ 9:30a  \n",
    "  1. 60 min @ 11:30a (lunch)\n",
    "  1. 15 min @ 2:30p  \n",
    "\n",
    "#### Course Resources\n",
    "  * Your R Programming Boot Camp, _PSDS2120_\n",
    "  * Your Data Visualization course, _PSDS2300_\n"
   ]
  },
  {
   "cell_type": "markdown",
   "metadata": {},
   "source": [
    "\n",
    "#### Self-Paced Review/Primer - Jupyter Hub\n",
    " * Reading : [JupyterHub Learning Environment](./resources/JupyterHub_Learning.ipynb)     \n",
    " * Reading : [JupyterHub Usage](./resources/JupyterHub_Usage.ipynb)\n",
    " * [Discussion Board](https://argon.sgn.missouri.edu/)\n",
    " * [Git Lab](https://corona.sgn.missouri.edu/)\n",
    " \n",
    "--- "
   ]
  },
  {
   "cell_type": "markdown",
   "metadata": {},
   "source": [
    "## Course Welcome Overview\n",
    "\n",
    " 1. Class Introductions\n",
    " 1. PSDS Course Procedures\n",
    "    * [Slides](https://indigo.sgn.missouri.edu/static/info/PSDS_Course_Procedures.pdf)\n",
    " 1. Overview of Course\n",
    "    * [Slides](./resources/CourseOverview.pdf)\n",
    "    "
   ]
  },
  {
   "cell_type": "markdown",
   "metadata": {},
   "source": [
    "---- \n",
    "\n",
    "## Module 1\n",
    "## Introduction to Interactive Visualizations with Shiny\n",
    "\n",
    "\n",
    "## Topics covered\n",
    "- Introduction to Shiny \n",
    "- App architecture\n",
    "- Deploying apps \n",
    "- Reactive Programming \n",
    "\n",
    "### Module Kick Off\n",
    " * [Module 1](./module1/slides/M1.pdf)\n",
    "\n",
    "  \n",
    "### Readings\n",
    "\n",
    "The following are some useful references for Shiny:\n",
    "\n",
    "- [shiny.rstudio.com](https://shiny.rstudio.com)\n",
    "- [Shiny function reference](http://shiny.rstudio.com/reference/shiny/latest/)\n",
    "- [Shiny articles](http://shiny.rstudio.com/articles/)\n",
    "- [Shiny R package](https://cran.r-project.org/web/packages/shiny/shiny.pdf)\n",
    "\n",
    "The following are good reads for dashboard layouts and web layouts in general: \n",
    "\n",
    "- [Dashboard Layouts](https://www.perceptualedge.com/articles/Whitepapers/Formatting_and_Layout_Matter.pdf)\n",
    "- [User Interface Patterns](https://www.uxpin.com/studio/blog/web-layout-best-practices-12-timeless-ui-patterns-explained/)\n",
    "- [Visual Hierarchy for Design](https://99designs.com/blog/tips/6-principles-of-visual-hierarchy/)\n"
   ]
  },
  {
   "cell_type": "markdown",
   "metadata": {},
   "source": [
    "### Labs\n",
    " - [Introduction to Shiny](./module1/labs/L1_AdvViz_Intro.ipynb)\n",
    "\n",
    "### Practice Examples  \n",
    " - [L1_Practice_UI](./module1/practices/L1_Practice_UI.ipynb)\n",
    " - [L1_Practice_Server](./module1/practices/L1_Practice_Server.ipynb)\n",
    "  \n",
    "### End of Module  Exercises\n",
    "\n",
    "* [Module 1 Exercises](./module1/exercises/L1_Exercise.ipynb)\n"
   ]
  },
  {
   "cell_type": "markdown",
   "metadata": {},
   "source": [
    "** Submitting Work 11:15 - AM**:\n",
    "\n",
    "Please remember to **save** and close all your notebooks. To properly close a notebook:  \n",
    "`File > Close and Halt`\n",
    "\n",
    "  * Review our work    \n",
    "  * Stage Changes\n",
    "  * Create a commit (i.e., a save point)\n",
    "```\n",
    "cd PSDS3300OP3*\n",
    "git status\n",
    "git add FILENAME_OR_DIRECTORY_HERE\n",
    "git commit -m \"This is part of my Day 1 work\"\n",
    "```\n",
    "  * Send these changes to the server for safe keeping (i.e., publish)\n",
    "  * Confirm our working folder is clean and all work is tracked\n",
    "```\n",
    "git push\n",
    "git status\n",
    "```"
   ]
  },
  {
   "cell_type": "markdown",
   "metadata": {},
   "source": [
    "---\n",
    "\n",
    "## MU Course Enrollment / Registration for New _and_ Returning PSDS Students\n",
    "  \n",
    "  \n",
    "### <span style=\"background:yellow\">IF you want MU Credit for this course </span> : \n",
    "\n",
    "#### 1) Please click link below and provide your _PSDS student ID_ and a _non-work_ (non-NGA) _email address_.\n",
    "   * https://indigo.sgn.missouri.edu/static/ContactMe.php  \n",
    "\n",
    "#### 2) Detailed step-by-step instructions will be sent to the _email you provided in Step 1)_ within 24 hours after the completion of Day 1 of this course.\n",
    "\n",
    "#### 3) Please _complete all steps_ and provide all information (biographical, transcript, etc.) as requested in the email sent in Step 2).\n",
    "\n",
    "<span style=\"background:lightgreen;\">**IMPORTANT**:</span> \n",
    "<span style=\"background:yellow; font-size: 1.2em;\">\n",
    "If you are a ___new PSDS student___ please note there is a __14-day deadline for providing an official college transcript__ to MU.\n",
    "The email in Step 2) will provide details of how to do this.\n",
    "This is a _hard deadline_ as per University policy and we have no flexibility. Thus, if you cannot meet this deadline you will not be able to obtain MU credit for this course. \n",
    "</span> \n",
    "---"
   ]
  },
  {
   "cell_type": "markdown",
   "metadata": {},
   "source": [
    "## Module 2\n",
    "##  Customizing Interactive Visualizations with Shiny \n",
    "\n",
    "\n",
    "## Topics covered\n",
    "- Building layouts, Widgets\n",
    "- Dashboard design in Shiny \n",
    "- Custom UI with HTML and CSS\n",
    "\n",
    "### Module Kick Off\n",
    " * [Module 2](./module2/slides/M2.pdf)\n",
    "\n",
    "\n",
    "### Readings\n",
    "\n",
    "The following are some useful references for creating dashboards in Shiny:\n",
    "\n",
    "- [shinydashboard package](https://cran.r-project.org/web/packages/shinydashboard/shinydashboard.pdf)\n",
    "- [shinydashboard functions reference](https://www.rdocumentation.org/packages/shinydashboard/versions/0.6.1)\n",
    "\n",
    "- [HTML basics](https://www.w3schools.com/html/html_basic.asp)\n",
    "\n",
    "The following are good links to get familiar with the dashboard design and general interactive visualization design process. \n",
    "\n",
    "- [Examples of Dashboard Design](http://www.hongkiat.com/blog/dashboard-design-examples-resources/)\n",
    "- [Sample Tool Design Process 1](https://indigo.sgn.missouri.edu/static/PDF/AdvViz1/Hoque_et_al-2014-Computer_Graphics_Forum.pdf)\n",
    "- [Sample Tool Design Process 2](https://indigo.sgn.missouri.edu/static/PDF/AdvViz1/Poco_et_al-2014-Computer_Graphics_Forum.pdf)\n",
    "\n"
   ]
  },
  {
   "cell_type": "markdown",
   "metadata": {},
   "source": [
    "\n",
    "  \n",
    "### Labs\n",
    " - [Layouts in Shiny](./module2/labs/L2_Layouts.ipynb)\n",
    " - [Widgets in Shiny](./module2/labs/L2_Widgets.ipynb)\n",
    " - [HTML and CSS](./module2/labs/L2_HTML.ipynb)\n",
    "\n",
    "  \n",
    "### Practice Examples  \n",
    "\n",
    "- [L2_Practice_Layout](./module2/practices/L2_Practice_Layout.ipynb)\n",
    "- [L2_Practice_Dashboard](./module2/practices/L2_Practice_Dashboard.ipynb)\n",
    "\n",
    "\n",
    "\n",
    "### End of Module Exercises\n",
    "* [Module 2 Exercises](./module2/exercises/L2_Exercise.ipynb)\n",
    "\n"
   ]
  },
  {
   "cell_type": "markdown",
   "metadata": {},
   "source": [
    "----\n",
    "\n",
    "## End of Day\n",
    " \n",
    " * Use **git** to add `Day1/module1` and `Day1/module2` folders, ensure all your Shiny Apps are submitted.\n",
    "\n",
    "\n",
    "#### <span style='background:yellow'>Remember: All classes are Instructor-Led, class starts at 0730 next time!</span>\n",
    "\n"
   ]
  },
  {
   "cell_type": "markdown",
   "metadata": {},
   "source": [
    "## Starting Subsequent Days\n",
    "\n",
    "Next course day is available after 6am the morning of that instruction day. \n",
    "**Please refer to** [the discussion board](https://argon.sgn.missouri.edu) for the official instruction days.\n",
    "You will start by pulling the published course materials as you have in other courses.\n",
    "\n",
    "Before pulling a new day of work, \n",
    "please ensure you follow the process to commit all your previous work and get it published to the server.\n",
    "This will ensure a smooth merge of the module into your working course folder.\n",
    "Please remember to save and close all your notebooks, then use the command line to stage, commit, and push your work to the server.\n",
    "\n",
    "Next course day, you will start by pulling the published course materials:\n",
    "```\n",
    "cd PSDS3300OP3*\n",
    "git pull --no-edit upstream master\n",
    "```"
   ]
  },
  {
   "cell_type": "markdown",
   "metadata": {},
   "source": [
    "---"
   ]
  }
 ],
 "metadata": {
  "kernelspec": {
   "display_name": "Python 3",
   "language": "python",
   "name": "python3"
  },
  "language_info": {
   "codemirror_mode": {
    "name": "ipython",
    "version": 3
   },
   "file_extension": ".py",
   "mimetype": "text/x-python",
   "name": "python",
   "nbconvert_exporter": "python",
   "pygments_lexer": "ipython3",
   "version": "3.4.9"
  }
 },
 "nbformat": 4,
 "nbformat_minor": 2
}
