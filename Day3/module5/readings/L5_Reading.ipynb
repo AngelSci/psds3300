{
 "cells": [
  {
   "cell_type": "markdown",
   "metadata": {},
   "source": [
    "# Module Five: Human Centered Design and Evaluation\n",
    "\n",
    " \n",
    " "
   ]
  },
  {
   "cell_type": "markdown",
   "metadata": {
    "collapsed": true
   },
   "source": [
    "## Interaction\n",
    "\n",
    "Interaction amplifies the cognition; \n",
    "we understand things better if we can interact with them and observe the cause and effect. \n",
    "In the design domain, interaction can be achieved through widgets, animations, \n",
    "transitions, navigation (pan, zoom, etc.), scrollytelling (telling an interactive story, interaction by scrolling), etc. \n",
    "Users can interact with the data by selecting a region of interest (brushing), \n",
    "navigation, or other interactive elements. \n",
    "Design and evaluation of interaction techniques effect the usability of the interfaces and the understanding of the explored data.\n",
    "\n",
    "The five basic ways humans interact with computers was presented by Ben Shneiderman in 1983. [Five Interaction Styles](http://wiki.cas.mcmaster.ca/index.php/Five_Interaction_Styles)\n",
    "\n",
    "\n",
    "## Usability Testing \n",
    "\n",
    "A usability test is a structured process used to explore the interaction between an objective participant and a proposed design. Some relevant quality metrics for evaluation of user interfaces and interaction styles are\n",
    "\n",
    "- Ease of learning: How fast can a user learn to accomplish basic tasks?\n",
    "- Efficiency of use: How fast can an experienced user accomplish tasks?\n",
    "- Memorability: Can a user remember enough to use it effectively the next time?\n",
    "- Error frequency and severity: How often do users make errors, how serious are these errors, and how do users recover from these errors?\n",
    "- Subjective satisfaction: How much does the user like using the system?\n",
    "- Discoverability\n",
    "- Aesthetics and emotional impact\n",
    "- Consistency with other interactions\n",
    "\n",
    "Some usability methods are:\n",
    "\n",
    "- Heuristic Evaluation\n",
    "- Cognitive Dimensions\n",
    "- Think-aloud user studies\n",
    "- Personas\n",
    "- Paper prototypes\n",
    "- Cognitive Walkthrough\n",
    "- KLM and GOMS\n",
    "\n",
    "\n",
    "## Readings\n",
    "\n",
    "Read the italicized items first. \n",
    "\n",
    "- [*Ten usability heuristics for user interface design by Nielsen*](https://www.nngroup.com/articles/ten-usability-heuristics/). [*Also here*](http://www.designprinciplesftw.com/collections/10-usability-heuristics-for-user-interface-design)\n",
    "\n",
    "- [The Eight Golden Rules of Interface Design by Ben Shneiderman](http://www.cs.umd.edu/~ben/goldenrules.html)\n",
    "\n",
    "- [Usability Evaluation Basics](https://www.usability.gov/what-and-why/usability-evaluation.html)\n",
    "\n",
    "- [The Surest Path to Visual Discovery](https://indigo.sgn.missouri.edu/static/PDF/AdvViz1/path_to_visual_discovery.pdf)\n",
    "\n",
    "- [*Section 2.4 from the book*](http://www.cs.swan.ac.uk/~csbob/research/hcve/kerren07hcve.pdf)\n",
    "\n",
    "- [*Paper: A comparison of usability methods for testing interactive health technologies*](https://indigo.sgn.missouri.edu/static/PDF/AdvViz1/usability-health.pdf)"
   ]
  }
 ],
 "metadata": {
  "kernelspec": {
   "display_name": "R",
   "language": "R",
   "name": "ir"
  },
  "language_info": {
   "codemirror_mode": "r",
   "file_extension": ".r",
   "mimetype": "text/x-r-source",
   "name": "R",
   "pygments_lexer": "r",
   "version": "3.4.0"
  }
 },
 "nbformat": 4,
 "nbformat_minor": 2
}
