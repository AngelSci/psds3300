{
 "cells": [
  {
   "cell_type": "markdown",
   "metadata": {},
   "source": [
    "# Module Five: Human Centered Design and Evaluation \n",
    "\n",
    "\n",
    "## Topics covered\n",
    "- User interaction techniques, widgets, evaluation of efficiency\n",
    "- UI evaluation methods\n",
    "- UI Styles\n",
    "\n",
    "## Notebook Shortcuts\n",
    "\n",
    "(Please go through the notebooks in this order) \n",
    "\n",
    "### readings\n",
    "- [L5_Reading](readings/L5_Reading.ipynb)\n",
    "\n",
    "\n",
    "### labs\n",
    "- [L5_Dynamic_User_Interface](labs/L5_Dynamic_User_Interface.ipynb)\n",
    "\n",
    "\n",
    "### practices\n",
    "- [L5_Practice](practices/L5_Practice.ipynb)\n",
    "\n",
    "\n",
    "### exercises\n",
    "- [L5_Exercise](exercises/L5_Exercise.ipynb)\n",
    "\n",
    "\n",
    "\n",
    "## Video topics\n",
    "- **Concept Video**: -\n",
    "\n",
    "\n",
    "## Suggested Schedule\n",
    "\n",
    "### Monday-Tuesday\n",
    "- **Readings**\n",
    "- **Lab Notebooks**\n",
    "- **Practice Notebooks**\n",
    "\n",
    "### Wednesday\n",
    "- Discussion\n",
    "\n",
    "### Thursday\n",
    "- Discussion Responses\n",
    "\n",
    "### Friday/Saturday/Sunday\n",
    "- **Exercise**: L5_Exercise.ipynb \n"
   ]
  }
 ],
 "metadata": {
  "kernelspec": {
   "display_name": "Python 3",
   "language": "python",
   "name": "python3"
  },
  "language_info": {
   "codemirror_mode": {
    "name": "ipython",
    "version": 3
   },
   "file_extension": ".py",
   "mimetype": "text/x-python",
   "name": "python",
   "nbconvert_exporter": "python",
   "pygments_lexer": "ipython3",
   "version": "3.4.5"
  }
 },
 "nbformat": 4,
 "nbformat_minor": 1
}
