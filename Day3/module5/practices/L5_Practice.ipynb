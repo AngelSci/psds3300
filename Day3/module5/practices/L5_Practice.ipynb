{
 "cells": [
  {
   "cell_type": "markdown",
   "metadata": {},
   "source": [
    "# Module 5 - Practice \n",
    "\n",
    "In this practice, we will continue to work with the gapminder data set. \n",
    "The following code is from the lab notebook. \n",
    "We will modify it to see how to experiment with the UI elements to create dynamic user interfaces. \n"
   ]
  },
  {
   "cell_type": "raw",
   "metadata": {
    "collapsed": true
   },
   "source": [
    "# lab1 source \n",
    "library(shiny)\n",
    "library(ggplot2)\n",
    "library(ggthemes)\n",
    "gapminder <- readRDS(file = \"/dsa/data/all_datasets/gapminder_data.rds\")\n",
    "\n",
    "gm <- gapminder\n",
    "\n",
    "ui <- fluidPage(\n",
    "        sidebarLayout(\n",
    "            sidebarPanel(\n",
    "                selectInput(\"plotType\", \"Plot Type\", c(Scatter = \"scatter\", Bar = \"bar\")),\n",
    "\n",
    "                # show this panel only if the plot type is chosen as 'scatter' above\n",
    "                conditionalPanel(\n",
    "                    condition = \"input.plotType == 'scatter'\",\n",
    "                    selectInput(\"cont\", \"Continent:\", choices = levels(gm$continent))\n",
    "                ),\n",
    "                \n",
    "                # show this panel only if the plot type is chosen as 'bar' above\n",
    "                conditionalPanel(\n",
    "                    condition = \"input.plotType == 'bar'\",\n",
    "                    sliderInput(\"year\", \"Year:\", min=1952, max=2007, step=5, value=1952)\n",
    "                )\n",
    "            ),\n",
    "            mainPanel(\n",
    "                plotOutput(\"plot\")\n",
    "            )\n",
    "        )\n",
    "    )\n",
    "\n",
    "server <- function(input, output) {\n",
    "\n",
    "    output$plot <- renderPlot({\n",
    "\n",
    " if (input$plotType == \"scatter\")\n",
    "        {\n",
    "            p <- ggplot(data=subset(gm, continent==input$cont), aes_string(x=\"gdpPercap\", y=\"lifeExp\", color=\"country\")) + geom_point()\n",
    "            p <- p + theme_minimal() + xlab(\"GDP per capita\") + ylab(\"Life Expectancy\") + geom_line(size=0.5)\n",
    "            p <- p+ ggtitle(paste0(\"Countries in \", input$cont)) + theme(legend.position=\"none\") + xlim(0,50000) + ylim(0,90)\n",
    "            p\n",
    "        } else # bar plot\n",
    "        {\n",
    "            p <- ggplot(data=subset(gm, year==input$year), aes_string(x=\"continent\", y=\"lifeExp\"))\n",
    "            p <- p + geom_bar(stat=\"summary\", fun.y=\"mean\")\n",
    "            p <- p + theme_minimal() + xlab(\"continents\") + ylab(\"Life Expectancy\")\n",
    "            p <- p + ggtitle(paste0(\"Continents in \", input$year)) + ylim(0,90)\n",
    "            p\n",
    "        }\n",
    "    })\n",
    "}\n",
    "\n",
    "shinyApp(ui, server)"
   ]
  },
  {
   "cell_type": "markdown",
   "metadata": {},
   "source": [
    "## renderUI\n",
    "\n",
    "Let's change the UI code to have a **```uiOutput```** element to create a selection list of countries. Add the following after the last conditional panel: \n",
    "```R\n",
    "uiOutput(\"countries\")\n",
    "```\n",
    "\n",
    "We will use this to render a selection list of countries for a chosen continent.\n",
    "Remember that we let the user to choose a continent **only if** the user has chosen the scatter plot.\n",
    "So, **we need to program this logic into the **```renderUI```** function. **\n",
    "\n",
    "In the server code, we add the corresponding ```renderUI``` for this ```uiOutput```:"
   ]
  },
  {
   "cell_type": "raw",
   "metadata": {
    "collapsed": true
   },
   "source": [
    "\n",
    "output$countries <- renderUI({\n",
    "\n",
    "  if (input$plotType == \"scatter\")  # user has chosen the scatter plot \n",
    "  {\n",
    "    # find countries in that continent  \n",
    "    ss <- subset(gm, continent==input$cont)  \n",
    "    cnt <- levels(droplevels(ss$country))\n",
    "      \n",
    "    # render a selection list widget     \n",
    "    selectInput(\"select_country\", \"Choose a country:\", choices=cnt)\n",
    "  }\n",
    "  else # user has chosen bar chart: there is really nothing to do here.\n",
    "  {       \n",
    "       # because there is nothing, there is also no render,\n",
    "       # it means this widget will disappear when bar chart is chosen. \n",
    "       # (you could render  some other UI element here if you wanted to)      \n",
    "  }\n",
    "})\n"
   ]
  },
  {
   "cell_type": "markdown",
   "metadata": {},
   "source": [
    "Now that we let the user choose a country, we should do something with it. \n",
    "Here is an example of how to render a data table for that country. \n",
    "First, we need another UI element for the data table. Add the following after the ```plotOutput```: \n",
    "\n",
    "```R\n",
    "uiOutput(\"country_table\")\n",
    "```\n",
    "\n",
    "Now the corresponding render function: \n"
   ]
  },
  {
   "cell_type": "raw",
   "metadata": {
    "collapsed": true
   },
   "source": [
    "\n",
    "output$country_table <- renderUI({\n",
    "\n",
    "  if (input$plotType == \"scatter\")  # user has chosen the scatter plot \n",
    "  {\n",
    "    ss <- subset(gm, country==input$select_country)  \n",
    "      \n",
    "    # first, we need to send the data table to the output with a render function\n",
    "    output$ctable <- renderDataTable(ss)\n",
    "    # then, we need to create the output function for the UI\n",
    "    dataTableOutput(\"ctable\")  \n",
    "  }  \n",
    "})\n"
   ]
  },
  {
   "cell_type": "markdown",
   "metadata": {},
   "source": [
    "Pay attention to how we had to **render the table first, and create the output later**, with a new name **```ctable```**. After these modifications, the whole program looks like this: "
   ]
  },
  {
   "cell_type": "raw",
   "metadata": {
    "collapsed": true
   },
   "source": [
    "library(shiny)\n",
    "library(ggplot2)\n",
    "library(ggthemes)\n",
    "gapminder <- readRDS(file = \"/dsa/data/all_datasets/gapminder_data.rds\")\n",
    "\n",
    "gm <- gapminder\n",
    "\n",
    "ui <- fluidPage(\n",
    "        sidebarLayout(\n",
    "            sidebarPanel(\n",
    "                selectInput(\"plotType\", \"Plot Type\", c(Scatter = \"scatter\", Bar = \"bar\")),\n",
    "\n",
    "                # show this panel only if the plot type is chosen as 'scatter' above\n",
    "                conditionalPanel(\n",
    "                    condition = \"input.plotType == 'scatter'\",\n",
    "                    selectInput(\"cont\", \"Continent:\", choices = levels(gm$continent))\n",
    "                ),\n",
    "                \n",
    "                # show this panel only if the plot type is chosen as 'bar' above\n",
    "                conditionalPanel(\n",
    "                    condition = \"input.plotType == 'bar'\",\n",
    "                    sliderInput(\"year\", \"Year:\", min=1952, max=2007, step=5, value=1952)\n",
    "                ),\n",
    "                uiOutput(\"countries\")\n",
    "            ),\n",
    "            mainPanel(\n",
    "                plotOutput(\"plot\"),\n",
    "                uiOutput(\"country_table\")\n",
    "            )\n",
    "        )\n",
    "    )\n",
    "\n",
    "server <- function(input, output) {\n",
    "\n",
    "    output$plot <- renderPlot({\n",
    "\n",
    "        if (input$plotType == \"scatter\")\n",
    "        {\n",
    "            p <- ggplot(data=subset(gm, continent==input$cont), aes_string(x=\"gdpPercap\", y=\"lifeExp\", color=\"country\")) + geom_point()\n",
    "            p <- p + theme_minimal() + xlab(\"GDP per capita\") + ylab(\"Life Expectancy\") + geom_line(size=0.5)\n",
    "            p <- p+ ggtitle(paste0(\"Countries in \", input$cont)) + theme(legend.position=\"none\") + xlim(0,50000) + ylim(0,90)\n",
    "            p\n",
    "        } else # bar plot\n",
    "        {\n",
    "            p <- ggplot(data=subset(gm, year==input$year), aes_string(x=\"continent\", y=\"lifeExp\"))\n",
    "            p <- p + geom_bar(stat=\"summary\", fun.y=\"mean\")\n",
    "            p <- p + theme_minimal() + xlab(\"continents\") + ylab(\"Life Expectancy\")\n",
    "            p <- p + ggtitle(paste0(\"Continents in \", input$year)) + ylim(0,90)\n",
    "            p\n",
    "        }\n",
    "    })\n",
    "        \n",
    "    output$countries <- renderUI({\n",
    "\n",
    "        if (input$plotType == \"scatter\")  # user has chosen the scatter plot \n",
    "        {\n",
    "            # find countries in that continent  \n",
    "            ss <- subset(gm, continent==input$cont)  \n",
    "            cnt <- levels(droplevels(ss$country))\n",
    "\n",
    "            # render a selection list widget     \n",
    "            selectInput(\"select_country\", \"Choose a country:\", choices=cnt)\n",
    "        }\n",
    "        else \n",
    "        {\n",
    "            # user has chosen bar chart: there is really nothing to do here.\n",
    "            # because there is nothing, there is also no render,\n",
    "            # it means this widget will disappear when bar chart is chosen. \n",
    "\n",
    "            # (you could render  some other UI element here if you wanted to)\n",
    "        }\n",
    "    })\n",
    "\n",
    "    output$country_table <- renderUI({\n",
    "\n",
    "        if (input$plotType == \"scatter\")  # user has chosen the scatter plot \n",
    "        {\n",
    "            ss <- subset(gm, country==input$select_country)  \n",
    "\n",
    "            # first, we need to send the data table to the output with a render function\n",
    "            output$ctable <- renderDataTable(ss)\n",
    "            # then, we need to create the output function for the UI\n",
    "            dataTableOutput(\"ctable\")  \n",
    "        }  \n",
    "    })\n",
    "      \n",
    "}\n",
    "\n",
    "shinyApp(ui, server)"
   ]
  },
  {
   "cell_type": "markdown",
   "metadata": {},
   "source": [
    "**A few notes here: **\n",
    "\n",
    " - The ```uiOutput``` for country selection is after the conditional panels, not inside; so it does not depend on their conditions, **BUT it will appear only if the scatter plot is chosen, because that's how we programmed its logic in its render function. **\n",
    " - Similarly, country data table will show up only if a country is selected. But remember that there is **default selection** in a ```selectInput``` even if the user didn't select anything; so, data table will be rendered with a default selected country. \n",
    " \n",
    " **Deploy and run this app; modify and play with it to understand its logic. **"
   ]
  },
  {
   "cell_type": "code",
   "execution_count": null,
   "metadata": {
    "collapsed": true
   },
   "outputs": [],
   "source": [
    "#DEPLOY TO SHINY SERVER\n",
    "dir <- getwd() #This gets the current Working Directory\n",
    "course <- \"DATA-SCI-8654\" #This is to specify the course path for the shiny server\n",
    "folder <- \"module5-practice1\" #This specifies the folder name to copy\n",
    "\n",
    "system(sprintf(\"/usr/local/bin/shiny_deploy %s %s %s\", course, dir,folder), \n",
    "       intern = TRUE,\n",
    "       ignore.stdout = FALSE, \n",
    "       ignore.stderr = FALSE,\n",
    "       wait = TRUE, \n",
    "       input = NULL)"
   ]
  },
  {
   "cell_type": "markdown",
   "metadata": {},
   "source": [
    "\n",
    "**Question:** Why didn't we simply have a ```selectInput``` widget for country selection, and update the choices with the ```updateSelectInput``` function ? \n",
    "\n",
    "We can do that, but then it won't disappear when bar chart is chosen. Same thing is true for the data table, too: it will disappear if ```plotType``` is not ```scatter```. We could have a similar effect with a conditional panel, too; but this gives us finer control of the user interface. \n",
    "\n",
    "**Also**, remember the reactive programming principle: if a function (render, observe, etc.) in the server code depends on an **input** variable, or a **reactive** variable, it gets executed every time those variables change. \n",
    "\n",
    "For example, every time user chooses a new country, ```input$select_country``` changes, so the country table will be redrawn because its code depends on this input. It also depends on the ```plotType```; every time user chooses between bar and scatter, table will either be rendered or disappear. \n",
    "\n",
    "## Conditional Panel \n",
    "\n",
    "**Let's rewrite the code for the following UI: **\n",
    "It has the same functionality, but we create a ```selectInput``` inside the conditional panel to show or hide the country selection, and we'll need to update it with the **```updateSelectInput```** function. "
   ]
  },
  {
   "cell_type": "raw",
   "metadata": {
    "collapsed": true
   },
   "source": [
    "# this is the new UI, you will write the corresponding server code \n",
    "ui <- fluidPage(\n",
    "        sidebarLayout(\n",
    "            sidebarPanel(\n",
    "                selectInput(\"plotType\", \"Plot Type\", c(Scatter = \"scatter\", Bar = \"bar\")),\n",
    "\n",
    "                # show this panel only if the plot type is chosen as 'scatter' above\n",
    "                conditionalPanel(\n",
    "                    condition = \"input.plotType == 'scatter'\",\n",
    "                    selectInput(\"cont\", \"Continent:\", choices = levels(gm$continent)),\n",
    "                    selectInput(\"select_country\", \"Choose a country:\", choices=c(\"None\"))                    \n",
    "                ),\n",
    "                \n",
    "                # show this panel only if the plot type is chosen as 'bar' above\n",
    "                conditionalPanel(\n",
    "                    condition = \"input.plotType == 'bar'\",\n",
    "                    sliderInput(\"year\", \"Year:\", min=1952, max=2007, step=5, value=1952)\n",
    "                )\n",
    "            ),\n",
    "            mainPanel(\n",
    "                plotOutput(\"plot\"),\n",
    "                uiOutput(\"country_table\")\n",
    "            )\n",
    "        )\n",
    "    )"
   ]
  },
  {
   "cell_type": "markdown",
   "metadata": {},
   "source": [
    "The UI is pretty much the same except there is a selection list for countries which has no choices yet. \n",
    "\n",
    "**Now your turn:** Rewrite the server code to provide the same functionality as practice1 above. You need to \n",
    "\n",
    " - remove the render function for the ``` output$countries```\n",
    " - add a new ```observe``` function to update the selection list for ```select_country```\n",
    " - add the **```session```** object to the server function\n",
    "\n",
    "Your observe function should be something like this: "
   ]
  },
  {
   "cell_type": "raw",
   "metadata": {
    "collapsed": true
   },
   "source": [
    "  observe({\n",
    "        c <- input$cont\n",
    "        # now find a list of countries given the continent c (look at practice1)\n",
    "               \n",
    "        # and update the country selection widget with the new choices \n",
    "        updateSelectInput(session, ...\n",
    "      \n",
    "      })"
   ]
  },
  {
   "cell_type": "code",
   "execution_count": null,
   "metadata": {
    "collapsed": true
   },
   "outputs": [],
   "source": [
    "#DEPLOY TO SHINY SERVER\n",
    "dir <- getwd() #This gets the current Working Directory\n",
    "course <- \"DATA-SCI-8654\" #This is to specify the course path for the shiny server\n",
    "folder <- \"module5-practice2\" #This specifies the folder name to copy\n",
    "\n",
    "system(sprintf(\"/usr/local/bin/shiny_deploy %s %s %s\", course, dir,folder), \n",
    "       intern = TRUE,\n",
    "       ignore.stdout = FALSE, \n",
    "       ignore.stderr = FALSE,\n",
    "       wait = TRUE, \n",
    "       input = NULL)"
   ]
  },
  {
   "cell_type": "markdown",
   "metadata": {},
   "source": [
    "### Questions: \n",
    "#### What do you see in the country selection list when you reload your app page? "
   ]
  },
  {
   "cell_type": "markdown",
   "metadata": {},
   "source": []
  },
  {
   "cell_type": "markdown",
   "metadata": {},
   "source": [
    "#### What happens in a few seconds?"
   ]
  },
  {
   "cell_type": "raw",
   "metadata": {},
   "source": []
  },
  {
   "cell_type": "markdown",
   "metadata": {},
   "source": [
    "#### Why?"
   ]
  },
  {
   "cell_type": "raw",
   "metadata": {},
   "source": []
  },
  {
   "cell_type": "markdown",
   "metadata": {},
   "source": [
    "# Save your notebook"
   ]
  }
 ],
 "metadata": {
  "kernelspec": {
   "display_name": "R",
   "language": "R",
   "name": "ir"
  },
  "language_info": {
   "codemirror_mode": "r",
   "file_extension": ".r",
   "mimetype": "text/x-r-source",
   "name": "R",
   "pygments_lexer": "r",
   "version": "3.4.0"
  }
 },
 "nbformat": 4,
 "nbformat_minor": 2
}
