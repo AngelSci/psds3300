{
 "cells": [
  {
   "cell_type": "markdown",
   "metadata": {},
   "source": [
    "# Module 5 Exercise\n",
    "\n",
    "In this exercise, we will modify the ```module3-wordcloud1``` example to change the word removal list on the fly. Here is the source code of that app with minor modification: \n"
   ]
  },
  {
   "cell_type": "raw",
   "metadata": {
    "collapsed": true
   },
   "source": [
    "# app.R for module3-wordcloud1\n",
    "library(shiny)\n",
    "library(tm)\n",
    "library(wordcloud)\n",
    "library(RColorBrewer)\n",
    "\n",
    "# read the text file\n",
    "text <- readLines(\"gotS1E1processed.txt\")\n",
    "# Load the data as a corpus\n",
    "docs <- Corpus(VectorSource(text))\n",
    "# all this processing needs to be done once.\n",
    "SepName <- content_transformer(function (x , pattern ) sub(pattern, \"\", x))\n",
    "gotlines <- tm_map(docs, SepName, \".*:\")\n",
    "gotnames <- tm_map(docs, SepName, \":.*\")\n",
    "gotlines <- tm_map(gotlines, removePunctuation)\n",
    "gotlines <- tm_map(gotlines, stripWhitespace)\n",
    "gotlines <- tm_map(gotlines, content_transformer(tolower))\n",
    "gotlines <- tm_map(gotlines, removeWords, stopwords(\"english\"))\n",
    "set.seed(1234)\n",
    "\n",
    "dtm1 <- TermDocumentMatrix(gotlines)\n",
    "m1 <- as.matrix(dtm1)\n",
    "v1 <- sort(rowSums(m1),decreasing=TRUE)\n",
    "d1 <- data.frame(word = names(v1),freq=v1)\n",
    "\n",
    "wlist <- d1$word[1:20]\n",
    "gotlines2 <- gotlines  # keep the original gotlines - LOOK AT HINTS\n",
    "\n",
    "got_ui <- fluidPage(\n",
    "\n",
    "   titlePanel(\"GoT Word Cloud\"),\n",
    "\n",
    "   sidebarLayout(\n",
    "     sidebarPanel(helpText(\"Game of Thrones Season 1 Episode 1.\"),\n",
    "                  sliderInput(\"maxnum\",\"Maximum number of words:\",min=10, max=300, step=10, value=100),\n",
    "                  sliderInput(\"minfreq\",\"Minimum frequency:\",min=1, max=30, step=1, value=5),\n",
    "                  checkboxGroupInput(\"check\", \"Remove words\", choices = wlist)\n",
    "                 ),\n",
    "     mainPanel(plotOutput(\"gotplot\"))\n",
    "   )\n",
    ")\n",
    "    \n",
    "got_server <- function(input, output){\n",
    "\n",
    "output$gotplot <- renderPlot ({\n",
    "\n",
    "\n",
    "   gotlines2 <<- tm_map(gotlines2, removeWords, input$check) # LOOK AT HINTS\n",
    "   dtm1 <- TermDocumentMatrix(gotlines2)\n",
    "   m1 <- as.matrix(dtm1)\n",
    "   v1 <- sort(rowSums(m1),decreasing=TRUE)\n",
    "   d1 <- data.frame(word = names(v1),freq=v1)\n",
    "\n",
    "   \n",
    "   wordcloud(words = d1$word, freq = d1$freq, min.freq = input$minfreq,\n",
    "          max.words=input$maxnum, random.order=FALSE, rot.per=0,\n",
    "          colors=brewer.pal(8, \"Dark2\"))\n",
    "    \n",
    "   # create a NEW list of words and UPDATE the checkboxes\n",
    " })\n",
    "\n",
    "  # add some functionality here to deal with the reset button     \n",
    "}\n",
    "\n",
    "shinyApp(ui=got_ui, server=got_server)    \n",
    "    "
   ]
  },
  {
   "cell_type": "markdown",
   "metadata": {},
   "source": [
    "**Exercise 1: Modify the app above** to display all or top 15 (whichever is less) words from the **currently displayed** wordcloud in a checkbox group to let user to remove words. Every time the user removes a word, the list should be updated with the remaining words. **Also, add an action button** to reset to the original list of words. \n",
    "\n",
    "**Hints:**\n",
    "Using the following hints, you should **update** your checkbox group whenever user removes a word, or pushes the reset button to revert back to the original list of words (```wlist```). \n",
    "\n",
    "**1-** This is how an action button looks like in UI code: \n",
    "```R\n",
    "actionButton(\"reset\",\"Reset\")\n",
    "```\n",
    "and this is how it is processed in server code:\n",
    "\n",
    "```R\n",
    "  observeEvent(input$reset, {\n",
    "    # do something here \n",
    "  })\n",
    "```\n",
    "\n",
    "You can also make one of your **output/update/event** functions dependent on the button by simply adding ```input$reset``` to the code. For example: \n",
    "\n",
    "```R\n",
    "output$something <- renderPlot ({\n",
    "  \n",
    "  input$reset  \n",
    "\n",
    "  # rest of the code to deal with rendering etc. \n",
    "  })\n",
    "```\n",
    "**This makes the renderPlot function dependent on the reset button, in addition to whatever other reactive variables it is also dependent on.** When user pushes the button, this function will be triggered. Remember, input variables are reactive: when they change, they trigger the functions they are used in. \n",
    "\n",
    "**2-** You should **update** your checkbox group twice in the code: once to remove a word, and once to revert back to the original list.\n",
    "\n",
    "**3-** If you notice, there is a ```gotlines2``` that is used in the server code. **We need the original ```gotlines``` when we revert back to the original list; because every time user chooses a word to remove, those words are removed from ```gotlines2``` for good.** Question: what is the difference between ```<-``` and ```<<-``` and why do we need it here? \n",
    "\n"
   ]
  },
  {
   "cell_type": "code",
   "execution_count": null,
   "metadata": {
    "collapsed": true
   },
   "outputs": [],
   "source": [
    "#DEPLOY TO SHINY SERVER\n",
    "dir <- getwd() #This gets the current Working Directory\n",
    "course <- \"DATA-SCI-8654\" #This is to specify the course path for the shiny server\n",
    "folder <- \"module5-exercise1\" #This specifies the folder name to copy\n",
    "\n",
    "system(sprintf(\"/usr/local/bin/shiny_deploy %s %s %s\", course, dir,folder), \n",
    "       intern = TRUE,\n",
    "       ignore.stdout = FALSE, \n",
    "       ignore.stderr = FALSE,\n",
    "       wait = TRUE, \n",
    "       input = NULL)"
   ]
  },
  {
   "cell_type": "markdown",
   "metadata": {},
   "source": [
    "**Go through the lab and practice apps, figure out your program logic given the hints above, and step through your program mentally to make sure you understand your own logic. **\n",
    "\n",
    "**This is a programming practice, it takes time to get it right; refer to the function references online if you are in doubt of how to use a particular function. **"
   ]
  },
  {
   "cell_type": "markdown",
   "metadata": {},
   "source": [
    "## Verify your application is running and enter the ShinyApp URL in the cell below"
   ]
  },
  {
   "cell_type": "raw",
   "metadata": {},
   "source": [
    "Exercise URL: "
   ]
  },
  {
   "cell_type": "markdown",
   "metadata": {},
   "source": [
    "# Save your notebook"
   ]
  }
 ],
 "metadata": {
  "kernelspec": {
   "display_name": "R",
   "language": "R",
   "name": "ir"
  },
  "language_info": {
   "codemirror_mode": "r",
   "file_extension": ".r",
   "mimetype": "text/x-r-source",
   "name": "R",
   "pygments_lexer": "r",
   "version": "3.4.0"
  }
 },
 "nbformat": 4,
 "nbformat_minor": 2
}
