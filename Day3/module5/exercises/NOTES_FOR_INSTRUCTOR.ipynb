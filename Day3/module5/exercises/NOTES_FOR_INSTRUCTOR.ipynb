{
 "cells": [
  {
   "cell_type": "markdown",
   "metadata": {},
   "source": [
    "### NOTES\n",
    "\n",
    "Explain that they need to have two functions only: one event and one render function. \n",
    "\n",
    "\"fill in the blanks in the skeleton\"\n",
    "\n",
    "\n",
    "Display top 15 of what's left after removing words from gotlines2 . \n",
    "\n",
    "Remind them of the \"scope of a variable\" from an earlier module and reinforce the idea of a \"global\" variable, etc. \n"
   ]
  },
  {
   "cell_type": "code",
   "execution_count": null,
   "metadata": {
    "collapsed": true
   },
   "outputs": [],
   "source": []
  }
 ],
 "metadata": {
  "kernelspec": {
   "display_name": "Python 3",
   "language": "python",
   "name": "python3"
  },
  "language_info": {
   "codemirror_mode": {
    "name": "ipython",
    "version": 3
   },
   "file_extension": ".py",
   "mimetype": "text/x-python",
   "name": "python",
   "nbconvert_exporter": "python",
   "pygments_lexer": "ipython3",
   "version": "3.4.5"
  }
 },
 "nbformat": 4,
 "nbformat_minor": 2
}
