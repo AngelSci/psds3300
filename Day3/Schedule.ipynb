{
 "cells": [
  {
   "cell_type": "markdown",
   "metadata": {},
   "source": [
    "# PSDS 3300 \n",
    "# Advanced Visualization and Communication 1\n",
    "\n",
    "## Day 3 Agenda\n",
    "\n",
    "#### Breaks (approx.)\n",
    "  1. 15 min @ 9:30a  \n",
    "  1. 60 min @ 11:30a (lunch)\n",
    "  1. 15 min @ 2:30p  \n",
    "\n",
    "#### Course Resources\n",
    "  * Your R Programming Boot Camp, _PSDS2120_\n",
    "  * Your Data Visualization course, _PSDS2300_\n"
   ]
  },
  {
   "cell_type": "markdown",
   "metadata": {},
   "source": [
    "---- \n",
    "\n",
    "\n",
    "# Module 1 - 4 Exercise Work Time / Discussion\n",
    "\n",
    "* [Module 1 Exercises](../Day1/module1/exercises/L1_Exercise.ipynb)\n",
    "* [Module 2 Exercises](../Day1/module2/exercises/L2_Exercise.ipynb)\n",
    "* [Module 3 Exercises](../Day2/module3/exercises/L3_Exercise.ipynb)\n",
    "- [Module 4 Exercises](../Day2/module4/exercises/L4_Exercise.ipynb)\n"
   ]
  },
  {
   "cell_type": "markdown",
   "metadata": {},
   "source": [
    "---\n",
    "\n",
    "## Discussion if time permits before lunch\n",
    " * Gestalt Theory\n",
    " * Visual Perception\n",
    " * Cognitive Load Theory\n",
    " \n",
    "  "
   ]
  },
  {
   "cell_type": "markdown",
   "metadata": {},
   "source": [
    "---\n",
    "\n",
    "# Module 5\n",
    "## Human Centered Design and Evaluation \n",
    "\n",
    "\n",
    "## Topics covered\n",
    "- User interaction techniques, widgets, evaluation of efficiency\n",
    "- UI evaluation methods\n",
    "- UI Styles\n"
   ]
  },
  {
   "cell_type": "markdown",
   "metadata": {},
   "source": [
    "\n",
    "### Module Kick Off\n",
    " * [Module 5](./module5/slides/M5.pdf)\n",
    " - [L5_Reading](./module5/readings/L5_Reading.ipynb)\n",
    "\n",
    "  \n",
    "### Labs\n",
    "- [L5_Dynamic_User_Interface](./module5/labs/L5_Dynamic_User_Interface.ipynb)\n",
    "\n",
    "### Practices  \n",
    "- [L5_Practice](./module5/practices/L5_Practice.ipynb)\n",
    "\n",
    "\n",
    "### End of Module  Exercises\n",
    "\n",
    "- [L5_Exercise](./module5/exercises/L5_Exercise.ipynb)"
   ]
  },
  {
   "cell_type": "markdown",
   "metadata": {},
   "source": [
    "----\n",
    "\n",
    "## End of Day\n",
    " \n",
    " * Use **git** to add the `Day3/module5`, ensure all your Shiny Apps are submitted.\n",
    "\n",
    "#### <span style='background:yellow'>Remember: All classes are Instructor-Led, class starts at 0730 next time!</span>\n",
    "\n",
    "\n"
   ]
  },
  {
   "cell_type": "markdown",
   "metadata": {},
   "source": [
    "## Starting Subsequent Days\n",
    "\n",
    "Next course day is available after 6am the morning of that instruction day. \n",
    "**Please refer to** [the discussion board](https://argon.sgn.missouri.edu) for the official instruction days.\n",
    "You will start by pulling the published course materials as you have in other courses.\n",
    "\n",
    "Before pulling a new day of work, \n",
    "please ensure you follow the process to commit all your previous work and get it published to the server.\n",
    "This will ensure a smooth merge of the module into your working course folder.\n",
    "Please remember to save and close all your notebooks, then use the command line to stage, commit, and push your work to the server.\n",
    "\n",
    "Next course day, you will start by pulling the published course materials:\n",
    "```\n",
    "cd PSDS3300OP3*\n",
    "git pull --no-edit upstream master\n",
    "```"
   ]
  },
  {
   "cell_type": "markdown",
   "metadata": {},
   "source": [
    "---"
   ]
  }
 ],
 "metadata": {
  "kernelspec": {
   "display_name": "Python 3",
   "language": "python",
   "name": "python3"
  },
  "language_info": {
   "codemirror_mode": {
    "name": "ipython",
    "version": 3
   },
   "file_extension": ".py",
   "mimetype": "text/x-python",
   "name": "python",
   "nbconvert_exporter": "python",
   "pygments_lexer": "ipython3",
   "version": "3.4.9"
  }
 },
 "nbformat": 4,
 "nbformat_minor": 2
}
